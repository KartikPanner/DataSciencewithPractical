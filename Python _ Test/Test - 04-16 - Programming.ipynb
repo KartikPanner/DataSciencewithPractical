{
 "cells": [
  {
   "cell_type": "code",
   "execution_count": 1,
   "id": "ad71d41d",
   "metadata": {},
   "outputs": [],
   "source": [
    "import numpy as np\n",
    "import pandas as pd"
   ]
  },
  {
   "cell_type": "markdown",
   "id": "af9b68f7",
   "metadata": {},
   "source": [
    "####   1. Write a program (with function) which takes a sequence of numbers and check if all numbers are unique"
   ]
  },
  {
   "cell_type": "code",
   "execution_count": 16,
   "id": "51ace9c2",
   "metadata": {},
   "outputs": [
    {
     "name": "stdout",
     "output_type": "stream",
     "text": [
      "The unique values of the given list: [20 30 40 50]\n"
     ]
    }
   ],
   "source": [
    "def list1(x):\n",
    "    x = np.array(x)\n",
    "    print(np.unique(x))\n",
    "\n",
    "x = [20,30,20,30,40,50,50,40]\n",
    "print('The unique values of the given list:', end=\" \")\n",
    "unique(x)"
   ]
  },
  {
   "cell_type": "markdown",
   "id": "4bd9a8ea",
   "metadata": {},
   "source": [
    "#### 2. Python program to find out the average of a set of integers "
   ]
  },
  {
   "cell_type": "code",
   "execution_count": 41,
   "id": "620d0d16",
   "metadata": {},
   "outputs": [
    {
     "name": "stdout",
     "output_type": "stream",
     "text": [
      "Enter a number to calculate average: 10\n",
      "Average of 10 natural numnber is: 5.5\n"
     ]
    }
   ],
   "source": [
    "n = int(input('Enter a number to calculate average: '))\n",
    "sum = 0\n",
    "for num in range(0,n+1,1):\n",
    "    sum=sum+num\n",
    "average = sum/n\n",
    "print('Average of',n,'natural numnber is:',average)"
   ]
  },
  {
   "cell_type": "markdown",
   "id": "02ed61c2",
   "metadata": {},
   "source": [
    "#### 3. Python program to check whether the given integer is a multiple of both 5 and 7 "
   ]
  },
  {
   "cell_type": "code",
   "execution_count": 66,
   "id": "96349fc8",
   "metadata": {},
   "outputs": [
    {
     "name": "stdout",
     "output_type": "stream",
     "text": [
      "Enter a number : 100\n",
      "The entered number is NOT divisible by 5 and 7\n"
     ]
    }
   ],
   "source": [
    "num = int(input('Enter a number : '))\n",
    "\n",
    "if num%5==0 and num%7==0:\n",
    "    print('The entered number', num , 'is divisible by both 5 and 7' )\n",
    "else:\n",
    "    print('The entered number is NOT divisible by 5 and 7')"
   ]
  },
  {
   "cell_type": "markdown",
   "id": "7f3cc5a7",
   "metadata": {},
   "source": [
    "#### 4. Python program to display the given integer in reverse manner "
   ]
  },
  {
   "cell_type": "code",
   "execution_count": 68,
   "id": "5277a48f",
   "metadata": {},
   "outputs": [
    {
     "name": "stdout",
     "output_type": "stream",
     "text": [
      "Enter a number : 852\n",
      "The reverse of the given number is 258\n"
     ]
    }
   ],
   "source": [
    "num2 = int(input('Enter a number : '))\n",
    "reverse_num = 0\n",
    "while (num2>0):\n",
    "    remainder = num2%10\n",
    "    reverse_num = (reverse_num*10) + remainder\n",
    "    num2 = num2//10\n",
    "\n",
    "print('The reverse of the given number is',reverse_num)"
   ]
  },
  {
   "cell_type": "markdown",
   "id": "3f50272a",
   "metadata": {},
   "source": [
    "#### 5. . Create an inner function to calculate the addition"
   ]
  },
  {
   "cell_type": "code",
   "execution_count": 84,
   "id": "6b5223e3",
   "metadata": {},
   "outputs": [
    {
     "name": "stdout",
     "output_type": "stream",
     "text": [
      "The addition of two numbers is: 30\n"
     ]
    }
   ],
   "source": [
    "def add(a,b):\n",
    "    return a+b\n",
    "\n",
    "def calculattion(func,x,y):\n",
    "    result = func(x,y)\n",
    "    return result\n",
    "\n",
    "print('The addition of two numbers is:',calculattion(add,10,20))"
   ]
  },
  {
   "cell_type": "code",
   "execution_count": null,
   "id": "2134785b",
   "metadata": {},
   "outputs": [],
   "source": []
  },
  {
   "cell_type": "code",
   "execution_count": null,
   "id": "3ffc8b83",
   "metadata": {},
   "outputs": [],
   "source": []
  },
  {
   "cell_type": "code",
   "execution_count": null,
   "id": "0dbc0436",
   "metadata": {},
   "outputs": [],
   "source": []
  },
  {
   "cell_type": "code",
   "execution_count": null,
   "id": "d664846a",
   "metadata": {},
   "outputs": [],
   "source": []
  }
 ],
 "metadata": {
  "kernelspec": {
   "display_name": "Python 3 (ipykernel)",
   "language": "python",
   "name": "python3"
  },
  "language_info": {
   "codemirror_mode": {
    "name": "ipython",
    "version": 3
   },
   "file_extension": ".py",
   "mimetype": "text/x-python",
   "name": "python",
   "nbconvert_exporter": "python",
   "pygments_lexer": "ipython3",
   "version": "3.9.7"
  }
 },
 "nbformat": 4,
 "nbformat_minor": 5
}
