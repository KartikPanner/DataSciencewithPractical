{
 "cells": [
  {
   "cell_type": "markdown",
   "id": "d38b8631",
   "metadata": {},
   "source": [
    "### Fraud Detection Data Analysis"
   ]
  },
  {
   "cell_type": "code",
   "execution_count": 34,
   "id": "4de1bfb9",
   "metadata": {},
   "outputs": [],
   "source": [
    "import pandas as pd\n",
    "import numpy as np\n",
    "import matplotlib.pyplot as plt\n",
    "import seaborn as sns\n",
    "from sklearn.model_selection import train_test_split\n",
    "from sklearn.naive_bayes import GaussianNB, MultinomialNB\n",
    "from sklearn.metrics import accuracy_score, confusion_matrix, classification_report"
   ]
  },
  {
   "cell_type": "code",
   "execution_count": 3,
   "id": "ee566372",
   "metadata": {},
   "outputs": [
    {
     "data": {
      "text/html": [
       "<div>\n",
       "<style scoped>\n",
       "    .dataframe tbody tr th:only-of-type {\n",
       "        vertical-align: middle;\n",
       "    }\n",
       "\n",
       "    .dataframe tbody tr th {\n",
       "        vertical-align: top;\n",
       "    }\n",
       "\n",
       "    .dataframe thead th {\n",
       "        text-align: right;\n",
       "    }\n",
       "</style>\n",
       "<table border=\"1\" class=\"dataframe\">\n",
       "  <thead>\n",
       "    <tr style=\"text-align: right;\">\n",
       "      <th></th>\n",
       "      <th>step</th>\n",
       "      <th>type</th>\n",
       "      <th>amount</th>\n",
       "      <th>nameOrig</th>\n",
       "      <th>oldbalanceOrg</th>\n",
       "      <th>newbalanceOrig</th>\n",
       "      <th>nameDest</th>\n",
       "      <th>oldbalanceDest</th>\n",
       "      <th>newbalanceDest</th>\n",
       "      <th>isFraud</th>\n",
       "    </tr>\n",
       "  </thead>\n",
       "  <tbody>\n",
       "    <tr>\n",
       "      <th>0</th>\n",
       "      <td>1</td>\n",
       "      <td>PAYMENT</td>\n",
       "      <td>9839.64</td>\n",
       "      <td>C1231006815</td>\n",
       "      <td>170136.0</td>\n",
       "      <td>160296.36</td>\n",
       "      <td>M1979787155</td>\n",
       "      <td>0.0</td>\n",
       "      <td>0.0</td>\n",
       "      <td>0</td>\n",
       "    </tr>\n",
       "    <tr>\n",
       "      <th>1</th>\n",
       "      <td>1</td>\n",
       "      <td>PAYMENT</td>\n",
       "      <td>1864.28</td>\n",
       "      <td>C1666544295</td>\n",
       "      <td>21249.0</td>\n",
       "      <td>19384.72</td>\n",
       "      <td>M2044282225</td>\n",
       "      <td>0.0</td>\n",
       "      <td>0.0</td>\n",
       "      <td>0</td>\n",
       "    </tr>\n",
       "    <tr>\n",
       "      <th>2</th>\n",
       "      <td>1</td>\n",
       "      <td>TRANSFER</td>\n",
       "      <td>181.00</td>\n",
       "      <td>C1305486145</td>\n",
       "      <td>181.0</td>\n",
       "      <td>0.00</td>\n",
       "      <td>C553264065</td>\n",
       "      <td>0.0</td>\n",
       "      <td>0.0</td>\n",
       "      <td>1</td>\n",
       "    </tr>\n",
       "    <tr>\n",
       "      <th>3</th>\n",
       "      <td>1</td>\n",
       "      <td>CASH_OUT</td>\n",
       "      <td>181.00</td>\n",
       "      <td>C840083671</td>\n",
       "      <td>181.0</td>\n",
       "      <td>0.00</td>\n",
       "      <td>C38997010</td>\n",
       "      <td>21182.0</td>\n",
       "      <td>0.0</td>\n",
       "      <td>1</td>\n",
       "    </tr>\n",
       "    <tr>\n",
       "      <th>4</th>\n",
       "      <td>1</td>\n",
       "      <td>PAYMENT</td>\n",
       "      <td>11668.14</td>\n",
       "      <td>C2048537720</td>\n",
       "      <td>41554.0</td>\n",
       "      <td>29885.86</td>\n",
       "      <td>M1230701703</td>\n",
       "      <td>0.0</td>\n",
       "      <td>0.0</td>\n",
       "      <td>0</td>\n",
       "    </tr>\n",
       "  </tbody>\n",
       "</table>\n",
       "</div>"
      ],
      "text/plain": [
       "   step      type    amount     nameOrig  oldbalanceOrg  newbalanceOrig  \\\n",
       "0     1   PAYMENT   9839.64  C1231006815       170136.0       160296.36   \n",
       "1     1   PAYMENT   1864.28  C1666544295        21249.0        19384.72   \n",
       "2     1  TRANSFER    181.00  C1305486145          181.0            0.00   \n",
       "3     1  CASH_OUT    181.00   C840083671          181.0            0.00   \n",
       "4     1   PAYMENT  11668.14  C2048537720        41554.0        29885.86   \n",
       "\n",
       "      nameDest  oldbalanceDest  newbalanceDest  isFraud  \n",
       "0  M1979787155             0.0             0.0        0  \n",
       "1  M2044282225             0.0             0.0        0  \n",
       "2   C553264065             0.0             0.0        1  \n",
       "3    C38997010         21182.0             0.0        1  \n",
       "4  M1230701703             0.0             0.0        0  "
      ]
     },
     "execution_count": 3,
     "metadata": {},
     "output_type": "execute_result"
    }
   ],
   "source": [
    "fraud_det = pd.read_csv(r'C:\\Users\\karthikp\\Downloads\\Inceptors\\Preprocessing files\\fraud-detection.csv')\n",
    "fraud_det[:5]"
   ]
  },
  {
   "cell_type": "code",
   "execution_count": 4,
   "id": "b186017b",
   "metadata": {},
   "outputs": [
    {
     "data": {
      "text/plain": [
       "Index(['step', 'type', 'amount', 'nameOrig', 'oldbalanceOrg', 'newbalanceOrig',\n",
       "       'nameDest', 'oldbalanceDest', 'newbalanceDest', 'isFraud'],\n",
       "      dtype='object')"
      ]
     },
     "execution_count": 4,
     "metadata": {},
     "output_type": "execute_result"
    }
   ],
   "source": [
    "fraud_det.columns"
   ]
  },
  {
   "cell_type": "code",
   "execution_count": 5,
   "id": "d8261eac",
   "metadata": {},
   "outputs": [
    {
     "data": {
      "text/plain": [
       "step              100165\n",
       "type              100165\n",
       "amount            100165\n",
       "nameOrig          100165\n",
       "oldbalanceOrg     100165\n",
       "newbalanceOrig    100165\n",
       "nameDest          100165\n",
       "oldbalanceDest    100165\n",
       "newbalanceDest    100165\n",
       "isFraud           100165\n",
       "dtype: int64"
      ]
     },
     "execution_count": 5,
     "metadata": {},
     "output_type": "execute_result"
    }
   ],
   "source": [
    "fraud_det.count()"
   ]
  },
  {
   "cell_type": "code",
   "execution_count": 6,
   "id": "a6937b92",
   "metadata": {},
   "outputs": [
    {
     "data": {
      "text/html": [
       "<div>\n",
       "<style scoped>\n",
       "    .dataframe tbody tr th:only-of-type {\n",
       "        vertical-align: middle;\n",
       "    }\n",
       "\n",
       "    .dataframe tbody tr th {\n",
       "        vertical-align: top;\n",
       "    }\n",
       "\n",
       "    .dataframe thead th {\n",
       "        text-align: right;\n",
       "    }\n",
       "</style>\n",
       "<table border=\"1\" class=\"dataframe\">\n",
       "  <thead>\n",
       "    <tr style=\"text-align: right;\">\n",
       "      <th></th>\n",
       "      <th>step</th>\n",
       "      <th>amount</th>\n",
       "      <th>oldbalanceOrg</th>\n",
       "      <th>newbalanceOrig</th>\n",
       "      <th>oldbalanceDest</th>\n",
       "      <th>newbalanceDest</th>\n",
       "      <th>isFraud</th>\n",
       "    </tr>\n",
       "  </thead>\n",
       "  <tbody>\n",
       "    <tr>\n",
       "      <th>count</th>\n",
       "      <td>100165.000000</td>\n",
       "      <td>1.001650e+05</td>\n",
       "      <td>1.001650e+05</td>\n",
       "      <td>1.001650e+05</td>\n",
       "      <td>1.001650e+05</td>\n",
       "      <td>1.001650e+05</td>\n",
       "      <td>100165.000000</td>\n",
       "    </tr>\n",
       "    <tr>\n",
       "      <th>mean</th>\n",
       "      <td>8.502112</td>\n",
       "      <td>1.736458e+05</td>\n",
       "      <td>8.801756e+05</td>\n",
       "      <td>8.965348e+05</td>\n",
       "      <td>8.810839e+05</td>\n",
       "      <td>1.184639e+06</td>\n",
       "      <td>0.001158</td>\n",
       "    </tr>\n",
       "    <tr>\n",
       "      <th>std</th>\n",
       "      <td>1.825055</td>\n",
       "      <td>3.442910e+05</td>\n",
       "      <td>2.676095e+06</td>\n",
       "      <td>2.714232e+06</td>\n",
       "      <td>2.402387e+06</td>\n",
       "      <td>2.802252e+06</td>\n",
       "      <td>0.034011</td>\n",
       "    </tr>\n",
       "    <tr>\n",
       "      <th>min</th>\n",
       "      <td>1.000000</td>\n",
       "      <td>3.200000e-01</td>\n",
       "      <td>0.000000e+00</td>\n",
       "      <td>0.000000e+00</td>\n",
       "      <td>0.000000e+00</td>\n",
       "      <td>0.000000e+00</td>\n",
       "      <td>0.000000</td>\n",
       "    </tr>\n",
       "    <tr>\n",
       "      <th>25%</th>\n",
       "      <td>8.000000</td>\n",
       "      <td>9.970160e+03</td>\n",
       "      <td>0.000000e+00</td>\n",
       "      <td>0.000000e+00</td>\n",
       "      <td>0.000000e+00</td>\n",
       "      <td>0.000000e+00</td>\n",
       "      <td>0.000000</td>\n",
       "    </tr>\n",
       "    <tr>\n",
       "      <th>50%</th>\n",
       "      <td>9.000000</td>\n",
       "      <td>5.285289e+04</td>\n",
       "      <td>2.008500e+04</td>\n",
       "      <td>0.000000e+00</td>\n",
       "      <td>2.091500e+04</td>\n",
       "      <td>5.048120e+04</td>\n",
       "      <td>0.000000</td>\n",
       "    </tr>\n",
       "    <tr>\n",
       "      <th>75%</th>\n",
       "      <td>10.000000</td>\n",
       "      <td>2.119434e+05</td>\n",
       "      <td>1.910560e+05</td>\n",
       "      <td>2.154246e+05</td>\n",
       "      <td>5.891912e+05</td>\n",
       "      <td>1.061043e+06</td>\n",
       "      <td>0.000000</td>\n",
       "    </tr>\n",
       "    <tr>\n",
       "      <th>max</th>\n",
       "      <td>10.000000</td>\n",
       "      <td>1.000000e+07</td>\n",
       "      <td>3.380000e+07</td>\n",
       "      <td>3.400000e+07</td>\n",
       "      <td>3.400000e+07</td>\n",
       "      <td>3.890000e+07</td>\n",
       "      <td>1.000000</td>\n",
       "    </tr>\n",
       "  </tbody>\n",
       "</table>\n",
       "</div>"
      ],
      "text/plain": [
       "                step        amount  oldbalanceOrg  newbalanceOrig  \\\n",
       "count  100165.000000  1.001650e+05   1.001650e+05    1.001650e+05   \n",
       "mean        8.502112  1.736458e+05   8.801756e+05    8.965348e+05   \n",
       "std         1.825055  3.442910e+05   2.676095e+06    2.714232e+06   \n",
       "min         1.000000  3.200000e-01   0.000000e+00    0.000000e+00   \n",
       "25%         8.000000  9.970160e+03   0.000000e+00    0.000000e+00   \n",
       "50%         9.000000  5.285289e+04   2.008500e+04    0.000000e+00   \n",
       "75%        10.000000  2.119434e+05   1.910560e+05    2.154246e+05   \n",
       "max        10.000000  1.000000e+07   3.380000e+07    3.400000e+07   \n",
       "\n",
       "       oldbalanceDest  newbalanceDest        isFraud  \n",
       "count    1.001650e+05    1.001650e+05  100165.000000  \n",
       "mean     8.810839e+05    1.184639e+06       0.001158  \n",
       "std      2.402387e+06    2.802252e+06       0.034011  \n",
       "min      0.000000e+00    0.000000e+00       0.000000  \n",
       "25%      0.000000e+00    0.000000e+00       0.000000  \n",
       "50%      2.091500e+04    5.048120e+04       0.000000  \n",
       "75%      5.891912e+05    1.061043e+06       0.000000  \n",
       "max      3.400000e+07    3.890000e+07       1.000000  "
      ]
     },
     "execution_count": 6,
     "metadata": {},
     "output_type": "execute_result"
    }
   ],
   "source": [
    "fraud_det.describe()"
   ]
  },
  {
   "cell_type": "code",
   "execution_count": 7,
   "id": "4029fbb4",
   "metadata": {},
   "outputs": [
    {
     "data": {
      "text/plain": [
       "array(['PAYMENT', 'TRANSFER', 'CASH_OUT', 'DEBIT', 'CASH_IN'],\n",
       "      dtype=object)"
      ]
     },
     "execution_count": 7,
     "metadata": {},
     "output_type": "execute_result"
    }
   ],
   "source": [
    "fraud_det.type.unique()"
   ]
  },
  {
   "cell_type": "code",
   "execution_count": 8,
   "id": "07b3e3d7",
   "metadata": {},
   "outputs": [
    {
     "data": {
      "text/plain": [
       "step              0\n",
       "type              0\n",
       "amount            0\n",
       "nameOrig          0\n",
       "oldbalanceOrg     0\n",
       "newbalanceOrig    0\n",
       "nameDest          0\n",
       "oldbalanceDest    0\n",
       "newbalanceDest    0\n",
       "isFraud           0\n",
       "dtype: int64"
      ]
     },
     "execution_count": 8,
     "metadata": {},
     "output_type": "execute_result"
    }
   ],
   "source": [
    "fraud_det.isnull().sum()"
   ]
  },
  {
   "cell_type": "code",
   "execution_count": 9,
   "id": "2b982cb7",
   "metadata": {},
   "outputs": [
    {
     "data": {
      "text/html": [
       "<div>\n",
       "<style scoped>\n",
       "    .dataframe tbody tr th:only-of-type {\n",
       "        vertical-align: middle;\n",
       "    }\n",
       "\n",
       "    .dataframe tbody tr th {\n",
       "        vertical-align: top;\n",
       "    }\n",
       "\n",
       "    .dataframe thead th {\n",
       "        text-align: right;\n",
       "    }\n",
       "</style>\n",
       "<table border=\"1\" class=\"dataframe\">\n",
       "  <thead>\n",
       "    <tr style=\"text-align: right;\">\n",
       "      <th></th>\n",
       "      <th>Desc</th>\n",
       "      <th>Count</th>\n",
       "    </tr>\n",
       "  </thead>\n",
       "  <tbody>\n",
       "    <tr>\n",
       "      <th>0</th>\n",
       "      <td>PAYMENT</td>\n",
       "      <td>39552</td>\n",
       "    </tr>\n",
       "    <tr>\n",
       "      <th>1</th>\n",
       "      <td>CASH_OUT</td>\n",
       "      <td>30772</td>\n",
       "    </tr>\n",
       "    <tr>\n",
       "      <th>2</th>\n",
       "      <td>CASH_IN</td>\n",
       "      <td>20248</td>\n",
       "    </tr>\n",
       "    <tr>\n",
       "      <th>3</th>\n",
       "      <td>TRANSFER</td>\n",
       "      <td>8603</td>\n",
       "    </tr>\n",
       "    <tr>\n",
       "      <th>4</th>\n",
       "      <td>DEBIT</td>\n",
       "      <td>990</td>\n",
       "    </tr>\n",
       "  </tbody>\n",
       "</table>\n",
       "</div>"
      ],
      "text/plain": [
       "       Desc  Count\n",
       "0   PAYMENT  39552\n",
       "1  CASH_OUT  30772\n",
       "2   CASH_IN  20248\n",
       "3  TRANSFER   8603\n",
       "4     DEBIT    990"
      ]
     },
     "execution_count": 9,
     "metadata": {},
     "output_type": "execute_result"
    }
   ],
   "source": [
    "type1 = fraud_det['type'].value_counts()\n",
    "type2 = pd.DataFrame(type1)\n",
    "type3 = type2.reset_index()\n",
    "type3 = type3.rename(columns={'index':'Desc','type':'Count'})\n",
    "type3"
   ]
  },
  {
   "cell_type": "code",
   "execution_count": 10,
   "id": "3e365199",
   "metadata": {},
   "outputs": [
    {
     "data": {
      "text/plain": [
       "<AxesSubplot:xlabel='Desc', ylabel='Count'>"
      ]
     },
     "execution_count": 10,
     "metadata": {},
     "output_type": "execute_result"
    },
    {
     "data": {
      "image/png": "[encoded data removed]",
      "text/plain": [
       "<Figure size 432x288 with 1 Axes>"
      ]
     },
     "metadata": {
      "needs_background": "light"
     },
     "output_type": "display_data"
    }
   ],
   "source": [
    "sns.barplot(x = type3.Desc, y = type3.Count)"
   ]
  },
  {
   "cell_type": "code",
   "execution_count": 11,
   "id": "68806890",
   "metadata": {},
   "outputs": [
    {
     "data": {
      "text/html": [
       "<div>\n",
       "<style scoped>\n",
       "    .dataframe tbody tr th:only-of-type {\n",
       "        vertical-align: middle;\n",
       "    }\n",
       "\n",
       "    .dataframe tbody tr th {\n",
       "        vertical-align: top;\n",
       "    }\n",
       "\n",
       "    .dataframe thead th {\n",
       "        text-align: right;\n",
       "    }\n",
       "</style>\n",
       "<table border=\"1\" class=\"dataframe\">\n",
       "  <thead>\n",
       "    <tr style=\"text-align: right;\">\n",
       "      <th></th>\n",
       "      <th>step</th>\n",
       "      <th>type</th>\n",
       "      <th>amount</th>\n",
       "      <th>nameOrig</th>\n",
       "      <th>oldbalanceOrg</th>\n",
       "      <th>newbalanceOrig</th>\n",
       "      <th>nameDest</th>\n",
       "      <th>oldbalanceDest</th>\n",
       "      <th>newbalanceDest</th>\n",
       "      <th>isFraud</th>\n",
       "    </tr>\n",
       "  </thead>\n",
       "  <tbody>\n",
       "    <tr>\n",
       "      <th>0</th>\n",
       "      <td>1</td>\n",
       "      <td>1</td>\n",
       "      <td>9839.64</td>\n",
       "      <td>C1231006815</td>\n",
       "      <td>170136.0</td>\n",
       "      <td>160296.36</td>\n",
       "      <td>M1979787155</td>\n",
       "      <td>0.00</td>\n",
       "      <td>0.00</td>\n",
       "      <td>0</td>\n",
       "    </tr>\n",
       "    <tr>\n",
       "      <th>1</th>\n",
       "      <td>1</td>\n",
       "      <td>1</td>\n",
       "      <td>1864.28</td>\n",
       "      <td>C1666544295</td>\n",
       "      <td>21249.0</td>\n",
       "      <td>19384.72</td>\n",
       "      <td>M2044282225</td>\n",
       "      <td>0.00</td>\n",
       "      <td>0.00</td>\n",
       "      <td>0</td>\n",
       "    </tr>\n",
       "    <tr>\n",
       "      <th>2</th>\n",
       "      <td>1</td>\n",
       "      <td>4</td>\n",
       "      <td>181.00</td>\n",
       "      <td>C1305486145</td>\n",
       "      <td>181.0</td>\n",
       "      <td>0.00</td>\n",
       "      <td>C553264065</td>\n",
       "      <td>0.00</td>\n",
       "      <td>0.00</td>\n",
       "      <td>1</td>\n",
       "    </tr>\n",
       "    <tr>\n",
       "      <th>3</th>\n",
       "      <td>1</td>\n",
       "      <td>2</td>\n",
       "      <td>181.00</td>\n",
       "      <td>C840083671</td>\n",
       "      <td>181.0</td>\n",
       "      <td>0.00</td>\n",
       "      <td>C38997010</td>\n",
       "      <td>21182.00</td>\n",
       "      <td>0.00</td>\n",
       "      <td>1</td>\n",
       "    </tr>\n",
       "    <tr>\n",
       "      <th>4</th>\n",
       "      <td>1</td>\n",
       "      <td>1</td>\n",
       "      <td>11668.14</td>\n",
       "      <td>C2048537720</td>\n",
       "      <td>41554.0</td>\n",
       "      <td>29885.86</td>\n",
       "      <td>M1230701703</td>\n",
       "      <td>0.00</td>\n",
       "      <td>0.00</td>\n",
       "      <td>0</td>\n",
       "    </tr>\n",
       "    <tr>\n",
       "      <th>...</th>\n",
       "      <td>...</td>\n",
       "      <td>...</td>\n",
       "      <td>...</td>\n",
       "      <td>...</td>\n",
       "      <td>...</td>\n",
       "      <td>...</td>\n",
       "      <td>...</td>\n",
       "      <td>...</td>\n",
       "      <td>...</td>\n",
       "      <td>...</td>\n",
       "    </tr>\n",
       "    <tr>\n",
       "      <th>100160</th>\n",
       "      <td>10</td>\n",
       "      <td>3</td>\n",
       "      <td>61054.02</td>\n",
       "      <td>C1657461053</td>\n",
       "      <td>11600000.0</td>\n",
       "      <td>11700000.00</td>\n",
       "      <td>C622723232</td>\n",
       "      <td>1054868.85</td>\n",
       "      <td>993814.83</td>\n",
       "      <td>0</td>\n",
       "    </tr>\n",
       "    <tr>\n",
       "      <th>100161</th>\n",
       "      <td>10</td>\n",
       "      <td>3</td>\n",
       "      <td>347608.07</td>\n",
       "      <td>C199435243</td>\n",
       "      <td>11700000.0</td>\n",
       "      <td>12000000.00</td>\n",
       "      <td>C1029211742</td>\n",
       "      <td>1814256.11</td>\n",
       "      <td>3246825.50</td>\n",
       "      <td>0</td>\n",
       "    </tr>\n",
       "    <tr>\n",
       "      <th>100162</th>\n",
       "      <td>10</td>\n",
       "      <td>3</td>\n",
       "      <td>68846.64</td>\n",
       "      <td>C975194954</td>\n",
       "      <td>12000000.0</td>\n",
       "      <td>12100000.00</td>\n",
       "      <td>C355970563</td>\n",
       "      <td>1622436.37</td>\n",
       "      <td>2287253.07</td>\n",
       "      <td>0</td>\n",
       "    </tr>\n",
       "    <tr>\n",
       "      <th>100163</th>\n",
       "      <td>10</td>\n",
       "      <td>3</td>\n",
       "      <td>48078.78</td>\n",
       "      <td>C1122979545</td>\n",
       "      <td>12100000.0</td>\n",
       "      <td>12200000.00</td>\n",
       "      <td>C589884531</td>\n",
       "      <td>410069.03</td>\n",
       "      <td>161779.60</td>\n",
       "      <td>0</td>\n",
       "    </tr>\n",
       "    <tr>\n",
       "      <th>100164</th>\n",
       "      <td>10</td>\n",
       "      <td>3</td>\n",
       "      <td>74136.40</td>\n",
       "      <td>C1985504392</td>\n",
       "      <td>12200000.0</td>\n",
       "      <td>12200000.00</td>\n",
       "      <td>C182799539</td>\n",
       "      <td>2559340.41</td>\n",
       "      <td>2951740.12</td>\n",
       "      <td>0</td>\n",
       "    </tr>\n",
       "  </tbody>\n",
       "</table>\n",
       "<p>100165 rows × 10 columns</p>\n",
       "</div>"
      ],
      "text/plain": [
       "        step  type     amount     nameOrig  oldbalanceOrg  newbalanceOrig  \\\n",
       "0          1     1    9839.64  C1231006815       170136.0       160296.36   \n",
       "1          1     1    1864.28  C1666544295        21249.0        19384.72   \n",
       "2          1     4     181.00  C1305486145          181.0            0.00   \n",
       "3          1     2     181.00   C840083671          181.0            0.00   \n",
       "4          1     1   11668.14  C2048537720        41554.0        29885.86   \n",
       "...      ...   ...        ...          ...            ...             ...   \n",
       "100160    10     3   61054.02  C1657461053     11600000.0     11700000.00   \n",
       "100161    10     3  347608.07   C199435243     11700000.0     12000000.00   \n",
       "100162    10     3   68846.64   C975194954     12000000.0     12100000.00   \n",
       "100163    10     3   48078.78  C1122979545     12100000.0     12200000.00   \n",
       "100164    10     3   74136.40  C1985504392     12200000.0     12200000.00   \n",
       "\n",
       "           nameDest  oldbalanceDest  newbalanceDest  isFraud  \n",
       "0       M1979787155            0.00            0.00        0  \n",
       "1       M2044282225            0.00            0.00        0  \n",
       "2        C553264065            0.00            0.00        1  \n",
       "3         C38997010        21182.00            0.00        1  \n",
       "4       M1230701703            0.00            0.00        0  \n",
       "...             ...             ...             ...      ...  \n",
       "100160   C622723232      1054868.85       993814.83        0  \n",
       "100161  C1029211742      1814256.11      3246825.50        0  \n",
       "100162   C355970563      1622436.37      2287253.07        0  \n",
       "100163   C589884531       410069.03       161779.60        0  \n",
       "100164   C182799539      2559340.41      2951740.12        0  \n",
       "\n",
       "[100165 rows x 10 columns]"
      ]
     },
     "execution_count": 11,
     "metadata": {},
     "output_type": "execute_result"
    }
   ],
   "source": [
    "fraud_det['type']=fraud_det['type'].map({'PAYMENT':1,'CASH_OUT':2,'CASH_IN':3,'TRANSFER':4,'DEBIT':5})\n",
    "fraud_det"
   ]
  },
  {
   "cell_type": "code",
   "execution_count": 12,
   "id": "834abb53",
   "metadata": {},
   "outputs": [
    {
     "data": {
      "text/plain": [
       "step                int64\n",
       "type                int64\n",
       "amount            float64\n",
       "nameOrig           object\n",
       "oldbalanceOrg     float64\n",
       "newbalanceOrig    float64\n",
       "nameDest           object\n",
       "oldbalanceDest    float64\n",
       "newbalanceDest    float64\n",
       "isFraud             int64\n",
       "dtype: object"
      ]
     },
     "execution_count": 12,
     "metadata": {},
     "output_type": "execute_result"
    }
   ],
   "source": [
    "fraud_det.dtypes"
   ]
  },
  {
   "cell_type": "code",
   "execution_count": 13,
   "id": "7442b70d",
   "metadata": {},
   "outputs": [
    {
     "data": {
      "text/html": [
       "<div>\n",
       "<style scoped>\n",
       "    .dataframe tbody tr th:only-of-type {\n",
       "        vertical-align: middle;\n",
       "    }\n",
       "\n",
       "    .dataframe tbody tr th {\n",
       "        vertical-align: top;\n",
       "    }\n",
       "\n",
       "    .dataframe thead th {\n",
       "        text-align: right;\n",
       "    }\n",
       "</style>\n",
       "<table border=\"1\" class=\"dataframe\">\n",
       "  <thead>\n",
       "    <tr style=\"text-align: right;\">\n",
       "      <th></th>\n",
       "      <th>Payments</th>\n",
       "      <th>Amount</th>\n",
       "      <th>OldBalanceOrg</th>\n",
       "      <th>NewBalanceOrg</th>\n",
       "    </tr>\n",
       "  </thead>\n",
       "  <tbody>\n",
       "    <tr>\n",
       "      <th>0</th>\n",
       "      <td>1</td>\n",
       "      <td>9839.64</td>\n",
       "      <td>170136.0</td>\n",
       "      <td>160296.36</td>\n",
       "    </tr>\n",
       "    <tr>\n",
       "      <th>1</th>\n",
       "      <td>1</td>\n",
       "      <td>1864.28</td>\n",
       "      <td>21249.0</td>\n",
       "      <td>19384.72</td>\n",
       "    </tr>\n",
       "    <tr>\n",
       "      <th>2</th>\n",
       "      <td>4</td>\n",
       "      <td>181.00</td>\n",
       "      <td>181.0</td>\n",
       "      <td>0.00</td>\n",
       "    </tr>\n",
       "    <tr>\n",
       "      <th>3</th>\n",
       "      <td>2</td>\n",
       "      <td>181.00</td>\n",
       "      <td>181.0</td>\n",
       "      <td>0.00</td>\n",
       "    </tr>\n",
       "    <tr>\n",
       "      <th>4</th>\n",
       "      <td>1</td>\n",
       "      <td>11668.14</td>\n",
       "      <td>41554.0</td>\n",
       "      <td>29885.86</td>\n",
       "    </tr>\n",
       "    <tr>\n",
       "      <th>...</th>\n",
       "      <td>...</td>\n",
       "      <td>...</td>\n",
       "      <td>...</td>\n",
       "      <td>...</td>\n",
       "    </tr>\n",
       "    <tr>\n",
       "      <th>100160</th>\n",
       "      <td>3</td>\n",
       "      <td>61054.02</td>\n",
       "      <td>11600000.0</td>\n",
       "      <td>11700000.00</td>\n",
       "    </tr>\n",
       "    <tr>\n",
       "      <th>100161</th>\n",
       "      <td>3</td>\n",
       "      <td>347608.07</td>\n",
       "      <td>11700000.0</td>\n",
       "      <td>12000000.00</td>\n",
       "    </tr>\n",
       "    <tr>\n",
       "      <th>100162</th>\n",
       "      <td>3</td>\n",
       "      <td>68846.64</td>\n",
       "      <td>12000000.0</td>\n",
       "      <td>12100000.00</td>\n",
       "    </tr>\n",
       "    <tr>\n",
       "      <th>100163</th>\n",
       "      <td>3</td>\n",
       "      <td>48078.78</td>\n",
       "      <td>12100000.0</td>\n",
       "      <td>12200000.00</td>\n",
       "    </tr>\n",
       "    <tr>\n",
       "      <th>100164</th>\n",
       "      <td>3</td>\n",
       "      <td>74136.40</td>\n",
       "      <td>12200000.0</td>\n",
       "      <td>12200000.00</td>\n",
       "    </tr>\n",
       "  </tbody>\n",
       "</table>\n",
       "<p>100165 rows × 4 columns</p>\n",
       "</div>"
      ],
      "text/plain": [
       "        Payments     Amount  OldBalanceOrg  NewBalanceOrg\n",
       "0              1    9839.64       170136.0      160296.36\n",
       "1              1    1864.28        21249.0       19384.72\n",
       "2              4     181.00          181.0           0.00\n",
       "3              2     181.00          181.0           0.00\n",
       "4              1   11668.14        41554.0       29885.86\n",
       "...          ...        ...            ...            ...\n",
       "100160         3   61054.02     11600000.0    11700000.00\n",
       "100161         3  347608.07     11700000.0    12000000.00\n",
       "100162         3   68846.64     12000000.0    12100000.00\n",
       "100163         3   48078.78     12100000.0    12200000.00\n",
       "100164         3   74136.40     12200000.0    12200000.00\n",
       "\n",
       "[100165 rows x 4 columns]"
      ]
     },
     "execution_count": 13,
     "metadata": {},
     "output_type": "execute_result"
    }
   ],
   "source": [
    "x = pd.DataFrame(zip(fraud_det.type, fraud_det.amount, fraud_det.oldbalanceOrg     , fraud_det.newbalanceOrig    ),columns=['Payments','Amount','OldBalanceOrg','NewBalanceOrg'])\n",
    "x"
   ]
  },
  {
   "cell_type": "code",
   "execution_count": 54,
   "id": "e4ce2090",
   "metadata": {},
   "outputs": [
    {
     "data": {
      "text/plain": [
       "0         0\n",
       "1         0\n",
       "2         1\n",
       "3         1\n",
       "4         0\n",
       "         ..\n",
       "100160    0\n",
       "100161    0\n",
       "100162    0\n",
       "100163    0\n",
       "100164    0\n",
       "Name: isFraud, Length: 100165, dtype: int64"
      ]
     },
     "execution_count": 54,
     "metadata": {},
     "output_type": "execute_result"
    }
   ],
   "source": [
    "y = fraud_det.iloc[:,-1]\n",
    "y"
   ]
  },
  {
   "cell_type": "code",
   "execution_count": 18,
   "id": "fc65dd9b",
   "metadata": {},
   "outputs": [],
   "source": [
    "x_train, x_test, y_train, y_test = train_test_split(x,y,test_size=0.3,random_state=2)"
   ]
  },
  {
   "cell_type": "markdown",
   "id": "2ead7c26",
   "metadata": {},
   "source": [
    "### GaussianNB Modeling"
   ]
  },
  {
   "cell_type": "code",
   "execution_count": 19,
   "id": "5571d69b",
   "metadata": {},
   "outputs": [],
   "source": [
    "model = GaussianNB()"
   ]
  },
  {
   "cell_type": "code",
   "execution_count": 20,
   "id": "a10be2b9",
   "metadata": {},
   "outputs": [
    {
     "data": {
      "text/plain": [
       "GaussianNB()"
      ]
     },
     "execution_count": 20,
     "metadata": {},
     "output_type": "execute_result"
    }
   ],
   "source": [
    "model.fit(x_train,y_train)"
   ]
  },
  {
   "cell_type": "code",
   "execution_count": 22,
   "id": "33f0bae6",
   "metadata": {},
   "outputs": [],
   "source": [
    "y_pred = model.predict(x_test)"
   ]
  },
  {
   "cell_type": "code",
   "execution_count": 26,
   "id": "dfa50f9a",
   "metadata": {},
   "outputs": [],
   "source": [
    "acc_score = accuracy_score(y_pred, y_test)"
   ]
  },
  {
   "cell_type": "code",
   "execution_count": 27,
   "id": "ce4e6a7d",
   "metadata": {},
   "outputs": [
    {
     "name": "stdout",
     "output_type": "stream",
     "text": [
      "0.9797670549084858\n"
     ]
    }
   ],
   "source": [
    "print(acc_score)"
   ]
  },
  {
   "cell_type": "code",
   "execution_count": 28,
   "id": "002d6dee",
   "metadata": {},
   "outputs": [
    {
     "data": {
      "text/plain": [
       "array([[29438,    31],\n",
       "       [  577,     4]], dtype=int64)"
      ]
     },
     "execution_count": 28,
     "metadata": {},
     "output_type": "execute_result"
    }
   ],
   "source": [
    "confusion_matrix(y_pred, y_test)"
   ]
  },
  {
   "cell_type": "code",
   "execution_count": 31,
   "id": "f67c4558",
   "metadata": {},
   "outputs": [
    {
     "name": "stdout",
     "output_type": "stream",
     "text": [
      "              precision    recall  f1-score   support\n",
      "\n",
      "           0       0.98      1.00      0.99     29469\n",
      "           1       0.11      0.01      0.01       581\n",
      "\n",
      "    accuracy                           0.98     30050\n",
      "   macro avg       0.55      0.50      0.50     30050\n",
      "weighted avg       0.96      0.98      0.97     30050\n",
      "\n"
     ]
    }
   ],
   "source": [
    "print(classification_report(y_pred, y_test))"
   ]
  },
  {
   "cell_type": "markdown",
   "id": "373c7a05",
   "metadata": {},
   "source": [
    "### MultinomialNB Modeling"
   ]
  },
  {
   "cell_type": "code",
   "execution_count": 35,
   "id": "81ca2200",
   "metadata": {},
   "outputs": [],
   "source": [
    "model1 = MultinomialNB()"
   ]
  },
  {
   "cell_type": "code",
   "execution_count": 38,
   "id": "df782b58",
   "metadata": {},
   "outputs": [
    {
     "data": {
      "text/plain": [
       "MultinomialNB()"
      ]
     },
     "execution_count": 38,
     "metadata": {},
     "output_type": "execute_result"
    }
   ],
   "source": [
    "model1.fit (x_train, y_train)"
   ]
  },
  {
   "cell_type": "code",
   "execution_count": 40,
   "id": "5f18f468",
   "metadata": {},
   "outputs": [],
   "source": [
    "y1_pred = model1.predict(x_test)"
   ]
  },
  {
   "cell_type": "code",
   "execution_count": 42,
   "id": "2095dd48",
   "metadata": {},
   "outputs": [],
   "source": [
    "acc_score1 = accuracy_score(y_test,y1_pred)"
   ]
  },
  {
   "cell_type": "code",
   "execution_count": 43,
   "id": "6e1e7b2d",
   "metadata": {},
   "outputs": [
    {
     "name": "stdout",
     "output_type": "stream",
     "text": [
      "0.4502495840266223\n"
     ]
    }
   ],
   "source": [
    "print(acc_score1)"
   ]
  },
  {
   "cell_type": "code",
   "execution_count": 44,
   "id": "3e1e1981",
   "metadata": {},
   "outputs": [
    {
     "name": "stdout",
     "output_type": "stream",
     "text": [
      "Result of GaussianNB Modeling:  0.9797670549084858\n",
      "Result of MultinomialNB Modeling:  0.4502495840266223\n",
      "In the comparison of Gauss & Multinomail Modelings, GaussianNB modeling seems to give better result\n"
     ]
    }
   ],
   "source": [
    "print('Result of GaussianNB Modeling: ',acc_score)\n",
    "print('Result of MultinomialNB Modeling: ',acc_score1)\n",
    "print('In the comparison of Gauss & Multinomail Modelings, GaussianNB modeling seems to give better result')"
   ]
  },
  {
   "cell_type": "code",
   "execution_count": 52,
   "id": "d814b149",
   "metadata": {},
   "outputs": [
    {
     "name": "stdout",
     "output_type": "stream",
     "text": [
      "[0]\n"
     ]
    }
   ],
   "source": [
    "features = np.array([[4, 181, 181, 0.0]])\n",
    "print(model.predict(features))"
   ]
  },
  {
   "cell_type": "code",
   "execution_count": null,
   "id": "d98eff43",
   "metadata": {},
   "outputs": [],
   "source": []
  },
  {
   "cell_type": "code",
   "execution_count": null,
   "id": "f97b38fa",
   "metadata": {},
   "outputs": [],
   "source": []
  }
 ],
 "metadata": {
  "kernelspec": {
   "display_name": "Python 3 (ipykernel)",
   "language": "python",
   "name": "python3"
  },
  "language_info": {
   "codemirror_mode": {
    "name": "ipython",
    "version": 3
   },
   "file_extension": ".py",
   "mimetype": "text/x-python",
   "name": "python",
   "nbconvert_exporter": "python",
   "pygments_lexer": "ipython3",
   "version": "3.9.7"
  }
 },
 "nbformat": 4,
 "nbformat_minor": 5
}
