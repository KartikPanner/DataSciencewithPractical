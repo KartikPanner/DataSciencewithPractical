{
 "cells": [
  {
   "cell_type": "markdown",
   "id": "c9bbb36c",
   "metadata": {},
   "source": [
    "# Python"
   ]
  },
  {
   "cell_type": "markdown",
   "id": "895df396",
   "metadata": {},
   "source": [
    "### Keywords"
   ]
  },
  {
   "cell_type": "code",
   "execution_count": 1,
   "id": "cd45e4ac",
   "metadata": {},
   "outputs": [],
   "source": [
    "import keyword"
   ]
  },
  {
   "cell_type": "code",
   "execution_count": 2,
   "id": "da8fa6f1",
   "metadata": {},
   "outputs": [
    {
     "data": {
      "text/plain": [
       "['False',\n",
       " 'None',\n",
       " 'True',\n",
       " '__peg_parser__',\n",
       " 'and',\n",
       " 'as',\n",
       " 'assert',\n",
       " 'async',\n",
       " 'await',\n",
       " 'break',\n",
       " 'class',\n",
       " 'continue',\n",
       " 'def',\n",
       " 'del',\n",
       " 'elif',\n",
       " 'else',\n",
       " 'except',\n",
       " 'finally',\n",
       " 'for',\n",
       " 'from',\n",
       " 'global',\n",
       " 'if',\n",
       " 'import',\n",
       " 'in',\n",
       " 'is',\n",
       " 'lambda',\n",
       " 'nonlocal',\n",
       " 'not',\n",
       " 'or',\n",
       " 'pass',\n",
       " 'raise',\n",
       " 'return',\n",
       " 'try',\n",
       " 'while',\n",
       " 'with',\n",
       " 'yield']"
      ]
     },
     "execution_count": 2,
     "metadata": {},
     "output_type": "execute_result"
    }
   ],
   "source": [
    "keyword.kwlist"
   ]
  },
  {
   "cell_type": "code",
   "execution_count": 11,
   "id": "06d6d442",
   "metadata": {},
   "outputs": [],
   "source": [
    "import My_packages"
   ]
  },
  {
   "cell_type": "code",
   "execution_count": 12,
   "id": "2e066d48",
   "metadata": {},
   "outputs": [],
   "source": [
    "from My_packages import Test_Packages"
   ]
  },
  {
   "cell_type": "code",
   "execution_count": 13,
   "id": "d79dc0dd",
   "metadata": {},
   "outputs": [
    {
     "data": {
      "text/plain": [
       "'Python'"
      ]
     },
     "execution_count": 13,
     "metadata": {},
     "output_type": "execute_result"
    }
   ],
   "source": [
    "Test_Packages.Name"
   ]
  },
  {
   "cell_type": "code",
   "execution_count": 10,
   "id": "eed5d1cd",
   "metadata": {},
   "outputs": [
    {
     "name": "stdout",
     "output_type": "stream",
     "text": [
      "Python\n"
     ]
    }
   ],
   "source": [
    "My_packages_var = Test_Packages.Name\n",
    "print (My_packages_var)"
   ]
  },
  {
   "cell_type": "code",
   "execution_count": 14,
   "id": "4c3c8276",
   "metadata": {},
   "outputs": [],
   "source": [
    "import my_packages"
   ]
  },
  {
   "cell_type": "code",
   "execution_count": 15,
   "id": "abeb78f2",
   "metadata": {},
   "outputs": [],
   "source": [
    "from my_packages import test_packages"
   ]
  },
  {
   "cell_type": "code",
   "execution_count": 18,
   "id": "af0f0827",
   "metadata": {},
   "outputs": [
    {
     "name": "stdout",
     "output_type": "stream",
     "text": [
      "9.8\n"
     ]
    }
   ],
   "source": [
    "my_packages_var1 = test_packages.Gravity\n",
    "print(my_packages_var1)"
   ]
  },
  {
   "cell_type": "code",
   "execution_count": 19,
   "id": "0ea528d5",
   "metadata": {},
   "outputs": [],
   "source": [
    "import my_packages"
   ]
  },
  {
   "cell_type": "code",
   "execution_count": 20,
   "id": "9967aa79",
   "metadata": {},
   "outputs": [],
   "source": [
    "from my_packages import test_packages"
   ]
  },
  {
   "cell_type": "code",
   "execution_count": 21,
   "id": "47b55f56",
   "metadata": {},
   "outputs": [
    {
     "name": "stdout",
     "output_type": "stream",
     "text": [
      "3.08\n"
     ]
    }
   ],
   "source": [
    "my_packages_var2 = test_packages.Pi\n",
    "print(my_packages_var2)"
   ]
  },
  {
   "cell_type": "code",
   "execution_count": 22,
   "id": "7583144c",
   "metadata": {},
   "outputs": [],
   "source": [
    "list2=[20,5.3,25,7.2]"
   ]
  },
  {
   "cell_type": "code",
   "execution_count": 23,
   "id": "c12911db",
   "metadata": {},
   "outputs": [
    {
     "data": {
      "text/plain": [
       "[5.3, 7.2]"
      ]
     },
     "execution_count": 23,
     "metadata": {},
     "output_type": "execute_result"
    }
   ],
   "source": [
    "[a for a in list2 if a<20]"
   ]
  },
  {
   "cell_type": "code",
   "execution_count": 24,
   "id": "7447df9c",
   "metadata": {},
   "outputs": [],
   "source": [
    "power2=[a**2 for a in range(11)]"
   ]
  },
  {
   "cell_type": "code",
   "execution_count": 25,
   "id": "c0b4df8f",
   "metadata": {},
   "outputs": [
    {
     "data": {
      "text/plain": [
       "[0, 1, 4, 9, 16, 25, 36, 49, 64, 81, 100]"
      ]
     },
     "execution_count": 25,
     "metadata": {},
     "output_type": "execute_result"
    }
   ],
   "source": [
    "power2"
   ]
  },
  {
   "cell_type": "code",
   "execution_count": 26,
   "id": "c4188ebf",
   "metadata": {},
   "outputs": [],
   "source": [
    "list3=[28,53,72,89,9]"
   ]
  },
  {
   "cell_type": "code",
   "execution_count": 30,
   "id": "863f899a",
   "metadata": {},
   "outputs": [
    {
     "data": {
      "text/plain": [
       "[14.0, 26.5, 36.0, 44.5]"
      ]
     },
     "execution_count": 30,
     "metadata": {},
     "output_type": "execute_result"
    }
   ],
   "source": [
    "[a/2 for a in list3 if a>27]"
   ]
  },
  {
   "cell_type": "code",
   "execution_count": 32,
   "id": "a8351188",
   "metadata": {},
   "outputs": [],
   "source": [
    "list3=[4, 9, 16, 25, 36, 49, 64, 81, 10]"
   ]
  },
  {
   "cell_type": "code",
   "execution_count": 34,
   "id": "505ed684",
   "metadata": {},
   "outputs": [
    {
     "data": {
      "text/plain": [
       "25"
      ]
     },
     "execution_count": 34,
     "metadata": {},
     "output_type": "execute_result"
    }
   ],
   "source": [
    "list3[3]"
   ]
  },
  {
   "cell_type": "code",
   "execution_count": 35,
   "id": "e1f86350",
   "metadata": {},
   "outputs": [
    {
     "data": {
      "text/plain": [
       "81"
      ]
     },
     "execution_count": 35,
     "metadata": {},
     "output_type": "execute_result"
    }
   ],
   "source": [
    "list3[-2]"
   ]
  },
  {
   "cell_type": "code",
   "execution_count": 36,
   "id": "d1798b48",
   "metadata": {},
   "outputs": [],
   "source": [
    "list3[-3]=46"
   ]
  },
  {
   "cell_type": "code",
   "execution_count": 37,
   "id": "956da18b",
   "metadata": {},
   "outputs": [
    {
     "data": {
      "text/plain": [
       "[4, 9, 16, 25, 36, 49, 46, 81, 10]"
      ]
     },
     "execution_count": 37,
     "metadata": {},
     "output_type": "execute_result"
    }
   ],
   "source": [
    "list3"
   ]
  },
  {
   "cell_type": "code",
   "execution_count": 2,
   "id": "105eb869",
   "metadata": {},
   "outputs": [],
   "source": [
    "list4=(1,2,3,4,6)"
   ]
  },
  {
   "cell_type": "code",
   "execution_count": 3,
   "id": "6ae36db3",
   "metadata": {},
   "outputs": [
    {
     "name": "stdout",
     "output_type": "stream",
     "text": [
      "(1, 2, 3, 4, 6)\n"
     ]
    }
   ],
   "source": [
    "print(list4)"
   ]
  },
  {
   "cell_type": "code",
   "execution_count": 4,
   "id": "347c8f8f",
   "metadata": {},
   "outputs": [
    {
     "name": "stdout",
     "output_type": "stream",
     "text": [
      "1\n",
      "2\n",
      "3\n",
      "4\n",
      "6\n"
     ]
    }
   ],
   "source": [
    "for i in list4:\n",
    "    print(i)"
   ]
  },
  {
   "cell_type": "code",
   "execution_count": 6,
   "id": "5758978e",
   "metadata": {},
   "outputs": [],
   "source": [
    "del list4"
   ]
  },
  {
   "cell_type": "code",
   "execution_count": 7,
   "id": "f4c327ec",
   "metadata": {},
   "outputs": [],
   "source": [
    "list4 = [1,2,3.4,5,7,9]"
   ]
  },
  {
   "cell_type": "code",
   "execution_count": 9,
   "id": "63a3aec6",
   "metadata": {},
   "outputs": [
    {
     "name": "stdout",
     "output_type": "stream",
     "text": [
      "[1, 2, 3.4, 4.5, 7, 9]\n"
     ]
    }
   ],
   "source": [
    "print(list4)"
   ]
  },
  {
   "cell_type": "code",
   "execution_count": 20,
   "id": "18747e68",
   "metadata": {},
   "outputs": [
    {
     "name": "stdout",
     "output_type": "stream",
     "text": [
      "1\n",
      "2\n",
      "3.4\n",
      "4.5\n"
     ]
    }
   ],
   "source": [
    "for i in list4:\n",
    "    print(i)\n",
    "    if i == 4.5:\n",
    "        break"
   ]
  },
  {
   "cell_type": "code",
   "execution_count": 22,
   "id": "2fad0c2c",
   "metadata": {},
   "outputs": [],
   "source": [
    "list4[2]=9.8"
   ]
  },
  {
   "cell_type": "code",
   "execution_count": 23,
   "id": "a7cac579",
   "metadata": {},
   "outputs": [
    {
     "data": {
      "text/plain": [
       "[1, 2, 9.8, 4.5, 7, 9]"
      ]
     },
     "execution_count": 23,
     "metadata": {},
     "output_type": "execute_result"
    }
   ],
   "source": [
    "list4"
   ]
  },
  {
   "cell_type": "code",
   "execution_count": 24,
   "id": "d3cb11a4",
   "metadata": {},
   "outputs": [
    {
     "name": "stdout",
     "output_type": "stream",
     "text": [
      "[1, 2, 9.8, 4.5, 7, 9]\n"
     ]
    }
   ],
   "source": [
    "print(list4)"
   ]
  },
  {
   "cell_type": "code",
   "execution_count": 28,
   "id": "6bd0fd7b",
   "metadata": {},
   "outputs": [
    {
     "data": {
      "text/plain": [
       "[9.8, 4.5, 7, 9]"
      ]
     },
     "execution_count": 28,
     "metadata": {},
     "output_type": "execute_result"
    }
   ],
   "source": [
    "[a for a in list4 if a>4]"
   ]
  },
  {
   "cell_type": "code",
   "execution_count": 30,
   "id": "b36d1c08",
   "metadata": {},
   "outputs": [
    {
     "data": {
      "text/plain": [
       "[0, 1, 2, 3, 4, 5, 6, 7, 8, 9]"
      ]
     },
     "execution_count": 30,
     "metadata": {},
     "output_type": "execute_result"
    }
   ],
   "source": [
    "list(range(10))"
   ]
  },
  {
   "cell_type": "code",
   "execution_count": 60,
   "id": "9c95d33a",
   "metadata": {},
   "outputs": [
    {
     "data": {
      "text/plain": [
       "range(7, 10)"
      ]
     },
     "execution_count": 60,
     "metadata": {},
     "output_type": "execute_result"
    }
   ],
   "source": [
    "range(10)[-3:]"
   ]
  },
  {
   "cell_type": "code",
   "execution_count": 41,
   "id": "4c2f6ff8",
   "metadata": {},
   "outputs": [],
   "source": [
    "power2=[a**2 for a in range(10)]"
   ]
  },
  {
   "cell_type": "code",
   "execution_count": 42,
   "id": "161687a4",
   "metadata": {},
   "outputs": [
    {
     "name": "stdout",
     "output_type": "stream",
     "text": [
      "[0, 1, 4, 9, 16, 25, 36, 49, 64, 81]\n"
     ]
    }
   ],
   "source": [
    "print(power2)"
   ]
  },
  {
   "cell_type": "code",
   "execution_count": 44,
   "id": "1d5cbb89",
   "metadata": {},
   "outputs": [],
   "source": [
    "power2=[a**2 for a in range(10) if a%2==0]"
   ]
  },
  {
   "cell_type": "code",
   "execution_count": 45,
   "id": "038f26c7",
   "metadata": {},
   "outputs": [
    {
     "name": "stdout",
     "output_type": "stream",
     "text": [
      "[0, 4, 16, 36, 64]\n"
     ]
    }
   ],
   "source": [
    "print(power2)"
   ]
  },
  {
   "cell_type": "code",
   "execution_count": 2,
   "id": "e01b35d7",
   "metadata": {},
   "outputs": [],
   "source": [
    "str1 = ('My first string function')"
   ]
  },
  {
   "cell_type": "code",
   "execution_count": null,
   "id": "44e55ba4",
   "metadata": {},
   "outputs": [],
   "source": []
  },
  {
   "cell_type": "code",
   "execution_count": 48,
   "id": "0560882a",
   "metadata": {},
   "outputs": [
    {
     "name": "stdout",
     "output_type": "stream",
     "text": [
      "My first string function\n"
     ]
    }
   ],
   "source": [
    "print(str1)"
   ]
  },
  {
   "cell_type": "code",
   "execution_count": 52,
   "id": "924233ef",
   "metadata": {},
   "outputs": [],
   "source": [
    "str2 = {'Test'}"
   ]
  },
  {
   "cell_type": "code",
   "execution_count": 53,
   "id": "74645cae",
   "metadata": {},
   "outputs": [
    {
     "name": "stdout",
     "output_type": "stream",
     "text": [
      "{'Test'}\n"
     ]
    }
   ],
   "source": [
    "print (str2)"
   ]
  },
  {
   "cell_type": "code",
   "execution_count": 6,
   "id": "c8282658",
   "metadata": {},
   "outputs": [
    {
     "data": {
      "text/plain": [
       "' function'"
      ]
     },
     "execution_count": 6,
     "metadata": {},
     "output_type": "execute_result"
    }
   ],
   "source": [
    "str1[-9:]"
   ]
  },
  {
   "cell_type": "code",
   "execution_count": 7,
   "id": "3e457ac2",
   "metadata": {},
   "outputs": [
    {
     "data": {
      "text/plain": [
       "10.0"
      ]
     },
     "execution_count": 7,
     "metadata": {},
     "output_type": "execute_result"
    }
   ],
   "source": [
    "float(10)"
   ]
  },
  {
   "cell_type": "code",
   "execution_count": 8,
   "id": "050a0c1b",
   "metadata": {},
   "outputs": [
    {
     "data": {
      "text/plain": [
       "12"
      ]
     },
     "execution_count": 8,
     "metadata": {},
     "output_type": "execute_result"
    }
   ],
   "source": [
    "int (12.8)"
   ]
  },
  {
   "cell_type": "code",
   "execution_count": 9,
   "id": "c782f6d8",
   "metadata": {},
   "outputs": [
    {
     "data": {
      "text/plain": [
       "13"
      ]
     },
     "execution_count": 9,
     "metadata": {},
     "output_type": "execute_result"
    }
   ],
   "source": [
    "round (12.8)"
   ]
  },
  {
   "cell_type": "code",
   "execution_count": 10,
   "id": "2679692e",
   "metadata": {},
   "outputs": [
    {
     "data": {
      "text/plain": [
       "{0, 1, 2, 3, 4}"
      ]
     },
     "execution_count": 10,
     "metadata": {},
     "output_type": "execute_result"
    }
   ],
   "source": [
    "set(range(0,5))"
   ]
  },
  {
   "cell_type": "code",
   "execution_count": 19,
   "id": "c9c24f4f",
   "metadata": {},
   "outputs": [
    {
     "data": {
      "text/plain": [
       "(1, 2, 3, 4)"
      ]
     },
     "execution_count": 19,
     "metadata": {},
     "output_type": "execute_result"
    }
   ],
   "source": [
    "tuple ({1,2,3,4,4,4,2,2,3})"
   ]
  },
  {
   "cell_type": "code",
   "execution_count": 21,
   "id": "2d6f5d04",
   "metadata": {},
   "outputs": [
    {
     "data": {
      "text/plain": [
       "['w', 'o', 'r', 'd']"
      ]
     },
     "execution_count": 21,
     "metadata": {},
     "output_type": "execute_result"
    }
   ],
   "source": [
    "list('word')"
   ]
  },
  {
   "cell_type": "code",
   "execution_count": 24,
   "id": "9ace57f3",
   "metadata": {},
   "outputs": [
    {
     "data": {
      "text/plain": [
       "('w', 'd', 'r', 'o')"
      ]
     },
     "execution_count": 24,
     "metadata": {},
     "output_type": "execute_result"
    }
   ],
   "source": [
    "tuple ({'w', 'o', 'r', 'd','w', 'o', 'r', 'd'})"
   ]
  },
  {
   "cell_type": "code",
   "execution_count": 29,
   "id": "d2b09710",
   "metadata": {},
   "outputs": [],
   "source": [
    "dict1 = {1:\"value\", 2:'value2'}"
   ]
  },
  {
   "cell_type": "code",
   "execution_count": 30,
   "id": "f67de69c",
   "metadata": {},
   "outputs": [
    {
     "data": {
      "text/plain": [
       "'value'"
      ]
     },
     "execution_count": 30,
     "metadata": {},
     "output_type": "execute_result"
    }
   ],
   "source": [
    "dict1[1]"
   ]
  },
  {
   "cell_type": "code",
   "execution_count": null,
   "id": "6c5466e3",
   "metadata": {},
   "outputs": [],
   "source": []
  },
  {
   "cell_type": "code",
   "execution_count": 38,
   "id": "0b7ce780",
   "metadata": {},
   "outputs": [],
   "source": [
    "s = \" This is a string\""
   ]
  },
  {
   "cell_type": "code",
   "execution_count": 40,
   "id": "c08202d2",
   "metadata": {},
   "outputs": [
    {
     "data": {
      "text/plain": [
       "'s'"
      ]
     },
     "execution_count": 40,
     "metadata": {},
     "output_type": "execute_result"
    }
   ],
   "source": [
    "s[-6]"
   ]
  },
  {
   "cell_type": "code",
   "execution_count": 41,
   "id": "13da7034",
   "metadata": {},
   "outputs": [
    {
     "ename": "NameError",
     "evalue": "name 'r' is not defined",
     "output_type": "error",
     "traceback": [
      "\u001b[1;31m---------------------------------------------------------------------------\u001b[0m",
      "\u001b[1;31mNameError\u001b[0m                                 Traceback (most recent call last)",
      "\u001b[1;32m~\\AppData\\Local\\Temp/ipykernel_9732/2755192807.py\u001b[0m in \u001b[0;36m<module>\u001b[1;34m\u001b[0m\n\u001b[1;32m----> 1\u001b[1;33m \u001b[0ms\u001b[0m\u001b[1;33m[\u001b[0m\u001b[1;36m3\u001b[0m\u001b[1;33m]\u001b[0m\u001b[1;33m=\u001b[0m\u001b[0mr\u001b[0m\u001b[1;33m\u001b[0m\u001b[1;33m\u001b[0m\u001b[0m\n\u001b[0m",
      "\u001b[1;31mNameError\u001b[0m: name 'r' is not defined"
     ]
    }
   ],
   "source": [
    "s[3]=r"
   ]
  },
  {
   "cell_type": "code",
   "execution_count": 42,
   "id": "22838f9e",
   "metadata": {},
   "outputs": [
    {
     "ename": "TypeError",
     "evalue": "'str' object does not support item assignment",
     "output_type": "error",
     "traceback": [
      "\u001b[1;31m---------------------------------------------------------------------------\u001b[0m",
      "\u001b[1;31mTypeError\u001b[0m                                 Traceback (most recent call last)",
      "\u001b[1;32m~\\AppData\\Local\\Temp/ipykernel_9732/1654292927.py\u001b[0m in \u001b[0;36m<module>\u001b[1;34m\u001b[0m\n\u001b[1;32m----> 1\u001b[1;33m \u001b[0ms\u001b[0m\u001b[1;33m[\u001b[0m\u001b[1;36m3\u001b[0m\u001b[1;33m]\u001b[0m\u001b[1;33m=\u001b[0m\u001b[1;34m\"r\"\u001b[0m\u001b[1;33m\u001b[0m\u001b[1;33m\u001b[0m\u001b[0m\n\u001b[0m",
      "\u001b[1;31mTypeError\u001b[0m: 'str' object does not support item assignment"
     ]
    }
   ],
   "source": [
    "s[3]=\"r\""
   ]
  },
  {
   "cell_type": "code",
   "execution_count": 43,
   "id": "fa23e8cf",
   "metadata": {},
   "outputs": [],
   "source": [
    "dict1={1:'value1',2:'value2'}"
   ]
  },
  {
   "cell_type": "code",
   "execution_count": 44,
   "id": "7324be78",
   "metadata": {},
   "outputs": [
    {
     "data": {
      "text/plain": [
       "'value1'"
      ]
     },
     "execution_count": 44,
     "metadata": {},
     "output_type": "execute_result"
    }
   ],
   "source": [
    "dict1[1]"
   ]
  },
  {
   "cell_type": "code",
   "execution_count": 2,
   "id": "336bdf0e",
   "metadata": {},
   "outputs": [
    {
     "ename": "SyntaxError",
     "evalue": "invalid syntax (Temp/ipykernel_11524/2512543836.py, line 1)",
     "output_type": "error",
     "traceback": [
      "\u001b[1;36m  File \u001b[1;32m\"C:\\Users\\karthikp\\AppData\\Local\\Temp/ipykernel_11524/2512543836.py\"\u001b[1;36m, line \u001b[1;32m1\u001b[0m\n\u001b[1;33m    set{[1,2,3,7,8]}\u001b[0m\n\u001b[1;37m       ^\u001b[0m\n\u001b[1;31mSyntaxError\u001b[0m\u001b[1;31m:\u001b[0m invalid syntax\n"
     ]
    }
   ],
   "source": [
    "set{[1,2,3,7,8]}"
   ]
  },
  {
   "cell_type": "code",
   "execution_count": 3,
   "id": "1ecc6dc0",
   "metadata": {},
   "outputs": [
    {
     "data": {
      "text/plain": [
       "['L', 'I', 'S', 'T']"
      ]
     },
     "execution_count": 3,
     "metadata": {},
     "output_type": "execute_result"
    }
   ],
   "source": [
    "list('LIST')"
   ]
  },
  {
   "cell_type": "code",
   "execution_count": 6,
   "id": "a62f5629",
   "metadata": {},
   "outputs": [
    {
     "name": "stdout",
     "output_type": "stream",
     "text": [
      "{'Name': 'john', 10: 50}\n"
     ]
    }
   ],
   "source": [
    "print(dict([[\"Name\",\"john\"],[10,50]]))"
   ]
  },
  {
   "cell_type": "code",
   "execution_count": 9,
   "id": "990d86e2",
   "metadata": {},
   "outputs": [],
   "source": [
    "int_var = 587\n",
    "float_var = 55.7\n",
    "conversion1 = int_var + float_var"
   ]
  },
  {
   "cell_type": "code",
   "execution_count": 10,
   "id": "7b6b8770",
   "metadata": {},
   "outputs": [
    {
     "name": "stdout",
     "output_type": "stream",
     "text": [
      "642.7\n"
     ]
    }
   ],
   "source": [
    "print(conversion1)"
   ]
  },
  {
   "cell_type": "code",
   "execution_count": 14,
   "id": "8fb7acdb",
   "metadata": {},
   "outputs": [],
   "source": [
    "int_var = 587\n",
    "string_var = float(\"5.7\")\n",
    "conversion1 = int_var + string_var"
   ]
  },
  {
   "cell_type": "code",
   "execution_count": 15,
   "id": "20836213",
   "metadata": {},
   "outputs": [
    {
     "name": "stdout",
     "output_type": "stream",
     "text": [
      "592.7\n"
     ]
    }
   ],
   "source": [
    "print(conversion1)"
   ]
  },
  {
   "cell_type": "code",
   "execution_count": 16,
   "id": "fd16e647",
   "metadata": {},
   "outputs": [
    {
     "name": "stdout",
     "output_type": "stream",
     "text": [
      "Datatype of inv_var is: <class 'int'>\n"
     ]
    }
   ],
   "source": [
    "print('Datatype of inv_var is:', type(int_var))"
   ]
  },
  {
   "cell_type": "code",
   "execution_count": 19,
   "id": "8b80aace",
   "metadata": {},
   "outputs": [
    {
     "name": "stdout",
     "output_type": "stream",
     "text": [
      "enter the number10\n"
     ]
    }
   ],
   "source": [
    "num = input('enter the number')\n",
    "add = num + '50'"
   ]
  },
  {
   "cell_type": "markdown",
   "id": "c1810608",
   "metadata": {},
   "source": [
    "# Operators"
   ]
  },
  {
   "cell_type": "code",
   "execution_count": 25,
   "id": "d123161d",
   "metadata": {},
   "outputs": [
    {
     "name": "stdout",
     "output_type": "stream",
     "text": [
      "94\n",
      "10\n",
      "2184\n",
      "1.2380952380952381\n",
      "1\n",
      "1180702363666632876667050870747949278738381226408997464054691846951010304\n"
     ]
    }
   ],
   "source": [
    "x = 52\n",
    "y = 42\n",
    "\n",
    "print ( x + y )\n",
    "print ( x - y )\n",
    "print ( x * y )\n",
    "print ( x / y )\n",
    "print ( round(x//y) )\n",
    "print ( x**y)"
   ]
  },
  {
   "cell_type": "code",
   "execution_count": null,
   "id": "84b0d9ac",
   "metadata": {},
   "outputs": [],
   "source": []
  },
  {
   "cell_type": "code",
   "execution_count": 24,
   "id": "5ca6aa69",
   "metadata": {},
   "outputs": [
    {
     "data": {
      "text/plain": [
       "3"
      ]
     },
     "execution_count": 24,
     "metadata": {},
     "output_type": "execute_result"
    }
   ],
   "source": [
    "round (2.8)"
   ]
  },
  {
   "cell_type": "code",
   "execution_count": null,
   "id": "7bf00e2a",
   "metadata": {},
   "outputs": [],
   "source": []
  },
  {
   "cell_type": "markdown",
   "id": "81dd3d3f",
   "metadata": {},
   "source": [
    "# Logical Operator"
   ]
  },
  {
   "cell_type": "code",
   "execution_count": 27,
   "id": "82ae24aa",
   "metadata": {},
   "outputs": [
    {
     "name": "stdout",
     "output_type": "stream",
     "text": [
      "False\n",
      "True\n"
     ]
    }
   ],
   "source": [
    "x = True\n",
    "y = False\n",
    "z = False\n",
    "\n",
    "print ( x and y and z)\n",
    "print ( x or y or z)"
   ]
  },
  {
   "cell_type": "markdown",
   "id": "87f09624",
   "metadata": {},
   "source": []
  },
  {
   "cell_type": "code",
   "execution_count": null,
   "id": "c0dba89b",
   "metadata": {},
   "outputs": [],
   "source": []
  },
  {
   "cell_type": "code",
   "execution_count": null,
   "id": "38bcd9bb",
   "metadata": {},
   "outputs": [],
   "source": []
  },
  {
   "cell_type": "code",
   "execution_count": null,
   "id": "d4e4c89b",
   "metadata": {},
   "outputs": [],
   "source": []
  },
  {
   "cell_type": "code",
   "execution_count": null,
   "id": "750f609c",
   "metadata": {},
   "outputs": [],
   "source": []
  },
  {
   "cell_type": "code",
   "execution_count": null,
   "id": "7e44f0bd",
   "metadata": {},
   "outputs": [],
   "source": []
  },
  {
   "cell_type": "code",
   "execution_count": null,
   "id": "94933602",
   "metadata": {},
   "outputs": [],
   "source": []
  },
  {
   "cell_type": "code",
   "execution_count": null,
   "id": "4ca88393",
   "metadata": {},
   "outputs": [],
   "source": []
  },
  {
   "cell_type": "code",
   "execution_count": null,
   "id": "ff2d662c",
   "metadata": {},
   "outputs": [],
   "source": []
  },
  {
   "cell_type": "code",
   "execution_count": null,
   "id": "1ec919ff",
   "metadata": {},
   "outputs": [],
   "source": []
  },
  {
   "cell_type": "code",
   "execution_count": null,
   "id": "b6718d28",
   "metadata": {},
   "outputs": [],
   "source": []
  },
  {
   "cell_type": "code",
   "execution_count": null,
   "id": "1cee0e42",
   "metadata": {},
   "outputs": [],
   "source": []
  },
  {
   "cell_type": "code",
   "execution_count": null,
   "id": "93c3b746",
   "metadata": {},
   "outputs": [],
   "source": []
  },
  {
   "cell_type": "code",
   "execution_count": null,
   "id": "bc355610",
   "metadata": {},
   "outputs": [],
   "source": []
  },
  {
   "cell_type": "code",
   "execution_count": null,
   "id": "ed26b9bb",
   "metadata": {},
   "outputs": [],
   "source": []
  },
  {
   "cell_type": "markdown",
   "id": "74ea2972",
   "metadata": {},
   "source": []
  },
  {
   "cell_type": "code",
   "execution_count": null,
   "id": "527ce4c8",
   "metadata": {},
   "outputs": [],
   "source": []
  },
  {
   "cell_type": "code",
   "execution_count": null,
   "id": "8c6b9fb1",
   "metadata": {},
   "outputs": [],
   "source": []
  },
  {
   "cell_type": "code",
   "execution_count": null,
   "id": "52717b7c",
   "metadata": {},
   "outputs": [],
   "source": []
  },
  {
   "cell_type": "code",
   "execution_count": null,
   "id": "77ece8a0",
   "metadata": {},
   "outputs": [],
   "source": []
  },
  {
   "cell_type": "code",
   "execution_count": null,
   "id": "7a6c27b7",
   "metadata": {},
   "outputs": [],
   "source": []
  },
  {
   "cell_type": "code",
   "execution_count": null,
   "id": "50b1f1ce",
   "metadata": {},
   "outputs": [],
   "source": []
  },
  {
   "cell_type": "code",
   "execution_count": 23,
   "id": "96be0aeb",
   "metadata": {},
   "outputs": [
    {
     "data": {
      "text/plain": [
       "False"
      ]
     },
     "execution_count": 23,
     "metadata": {},
     "output_type": "execute_result"
    }
   ],
   "source": [
    "5 < 3"
   ]
  },
  {
   "cell_type": "code",
   "execution_count": 24,
   "id": "13c722fe",
   "metadata": {},
   "outputs": [
    {
     "ename": "SyntaxError",
     "evalue": "invalid syntax (Temp/ipykernel_10404/1726190017.py, line 1)",
     "output_type": "error",
     "traceback": [
      "\u001b[1;36m  File \u001b[1;32m\"C:\\Users\\karthikp\\AppData\\Local\\Temp/ipykernel_10404/1726190017.py\"\u001b[1;36m, line \u001b[1;32m1\u001b[0m\n\u001b[1;33m    1var=\"print\"\u001b[0m\n\u001b[1;37m     ^\u001b[0m\n\u001b[1;31mSyntaxError\u001b[0m\u001b[1;31m:\u001b[0m invalid syntax\n"
     ]
    }
   ],
   "source": [
    "1var=\"print\""
   ]
  },
  {
   "cell_type": "code",
   "execution_count": 27,
   "id": "ae3af9bc",
   "metadata": {},
   "outputs": [
    {
     "name": "stdout",
     "output_type": "stream",
     "text": [
      "21\n"
     ]
    }
   ],
   "source": [
    "digit = 1 + 2 + 3 \\\n",
    "+ 4 + 5 + 6\n",
    "print(digit)"
   ]
  },
  {
   "cell_type": "code",
   "execution_count": 31,
   "id": "49ee1131",
   "metadata": {},
   "outputs": [
    {
     "name": "stdout",
     "output_type": "stream",
     "text": [
      "1 1 1 2 3\n"
     ]
    }
   ],
   "source": [
    "aa=1;b=2;c=3\n",
    "print(aa,aa,aa,b,c)"
   ]
  },
  {
   "cell_type": "code",
   "execution_count": 36,
   "id": "17b4485f",
   "metadata": {},
   "outputs": [
    {
     "name": "stdout",
     "output_type": "stream",
     "text": [
      "1\n",
      "2\n",
      "3\n",
      "4\n",
      "5\n"
     ]
    }
   ],
   "source": [
    "for i in range (1,8):\n",
    "    print(i)\n",
    "    if (i==5):\n",
    "        break"
   ]
  },
  {
   "cell_type": "code",
   "execution_count": 44,
   "id": "c37042d7",
   "metadata": {},
   "outputs": [
    {
     "name": "stdout",
     "output_type": "stream",
     "text": [
      "1\n",
      "2\n",
      "3\n",
      "4\n",
      "5\n",
      "6\n",
      "7\n",
      "8\n",
      "9\n"
     ]
    }
   ],
   "source": [
    "for i in range (1,10):print(i)"
   ]
  },
  {
   "cell_type": "code",
   "execution_count": 50,
   "id": "189ff003",
   "metadata": {},
   "outputs": [],
   "source": [
    "if False: print(\"True\")"
   ]
  },
  {
   "cell_type": "markdown",
   "id": "05a6d856",
   "metadata": {},
   "source": [
    "# Comment"
   ]
  },
  {
   "cell_type": "code",
   "execution_count": 51,
   "id": "f1224893",
   "metadata": {},
   "outputs": [
    {
     "data": {
      "text/plain": [
       "'I am \\nunderstanding this\\nprocess pretty well'"
      ]
     },
     "execution_count": 51,
     "metadata": {},
     "output_type": "execute_result"
    }
   ],
   "source": [
    "#This is my first project\n",
    "# This is my second project\n",
    "# This is my third project\n",
    "\"\"\"I am \n",
    "understanding this\n",
    "process pretty well\"\"\""
   ]
  },
  {
   "cell_type": "code",
   "execution_count": 74,
   "id": "a3c38be4",
   "metadata": {},
   "outputs": [],
   "source": [
    "if False: print(\"No\")\n",
    "    "
   ]
  },
  {
   "cell_type": "code",
   "execution_count": 75,
   "id": "bdd1d5ea",
   "metadata": {},
   "outputs": [],
   "source": [
    "def function1():\n",
    "    \"\"\" This is my first project\"\"\"\n",
    "    print(\"Hi Everyone\")"
   ]
  },
  {
   "cell_type": "code",
   "execution_count": 76,
   "id": "9ae35f9c",
   "metadata": {},
   "outputs": [
    {
     "name": "stdout",
     "output_type": "stream",
     "text": [
      "Hi Everyone\n"
     ]
    }
   ],
   "source": [
    "function1()"
   ]
  },
  {
   "cell_type": "code",
   "execution_count": 77,
   "id": "34772ffd",
   "metadata": {},
   "outputs": [
    {
     "data": {
      "text/plain": [
       "' This is my first project'"
      ]
     },
     "execution_count": 77,
     "metadata": {},
     "output_type": "execute_result"
    }
   ],
   "source": [
    "function1.__doc__"
   ]
  },
  {
   "cell_type": "code",
   "execution_count": null,
   "id": "ebdee5b4",
   "metadata": {},
   "outputs": [],
   "source": []
  },
  {
   "cell_type": "code",
   "execution_count": null,
   "id": "59b79bf0",
   "metadata": {},
   "outputs": [],
   "source": []
  },
  {
   "cell_type": "code",
   "execution_count": null,
   "id": "d21fe562",
   "metadata": {},
   "outputs": [],
   "source": []
  },
  {
   "cell_type": "code",
   "execution_count": 42,
   "id": "3c62c4e4",
   "metadata": {},
   "outputs": [
    {
     "name": "stdout",
     "output_type": "stream",
     "text": [
      "0\n",
      "1\n",
      "2\n",
      "3\n",
      "4\n"
     ]
    }
   ],
   "source": [
    "for i in range (0,10): \n",
    "    print(i)\n",
    "    if ( i==4): \n",
    "        break"
   ]
  },
  {
   "cell_type": "markdown",
   "id": "539dda2c",
   "metadata": {},
   "source": [
    "# DocString"
   ]
  },
  {
   "cell_type": "code",
   "execution_count": 62,
   "id": "d5f7f0bb",
   "metadata": {},
   "outputs": [],
   "source": [
    "def function1():\n",
    "    \"\"\"This is my first project\"\"\"\n",
    "    print(\"First Function\")"
   ]
  },
  {
   "cell_type": "code",
   "execution_count": 63,
   "id": "18160a31",
   "metadata": {},
   "outputs": [
    {
     "name": "stdout",
     "output_type": "stream",
     "text": [
      "First Function\n"
     ]
    }
   ],
   "source": [
    "function1()"
   ]
  },
  {
   "cell_type": "code",
   "execution_count": 64,
   "id": "2d65ab7c",
   "metadata": {},
   "outputs": [
    {
     "name": "stdout",
     "output_type": "stream",
     "text": [
      "This is my first project\n"
     ]
    }
   ],
   "source": [
    "print(function1.__doc__)"
   ]
  },
  {
   "cell_type": "code",
   "execution_count": 69,
   "id": "5bc0a064",
   "metadata": {},
   "outputs": [],
   "source": [
    "def addition_function(a, b):\n",
    "    \"\"\"My First addition\"\"\"\n",
    "    print(a*b)  \n"
   ]
  },
  {
   "cell_type": "code",
   "execution_count": 70,
   "id": "17314cf4",
   "metadata": {},
   "outputs": [
    {
     "name": "stdout",
     "output_type": "stream",
     "text": [
      "6\n"
     ]
    }
   ],
   "source": [
    "addition_function(2,3)"
   ]
  },
  {
   "cell_type": "code",
   "execution_count": 1,
   "id": "d294ca30",
   "metadata": {},
   "outputs": [],
   "source": [
    "list3 = [50,2.8,56,890]"
   ]
  },
  {
   "cell_type": "code",
   "execution_count": 2,
   "id": "aa7e36fa",
   "metadata": {},
   "outputs": [
    {
     "data": {
      "text/plain": [
       "[56, 890]"
      ]
     },
     "execution_count": 2,
     "metadata": {},
     "output_type": "execute_result"
    }
   ],
   "source": [
    "[a for a in list3 if a>50]"
   ]
  },
  {
   "cell_type": "code",
   "execution_count": 3,
   "id": "4628cb2c",
   "metadata": {},
   "outputs": [
    {
     "data": {
      "text/plain": [
       "56"
      ]
     },
     "execution_count": 3,
     "metadata": {},
     "output_type": "execute_result"
    }
   ],
   "source": [
    "list3[2]"
   ]
  },
  {
   "cell_type": "code",
   "execution_count": 4,
   "id": "72e848a2",
   "metadata": {},
   "outputs": [],
   "source": [
    "list3[2]=82"
   ]
  },
  {
   "cell_type": "code",
   "execution_count": 5,
   "id": "d0838ac0",
   "metadata": {},
   "outputs": [
    {
     "data": {
      "text/plain": [
       "[50, 2.8, 82, 890]"
      ]
     },
     "execution_count": 5,
     "metadata": {},
     "output_type": "execute_result"
    }
   ],
   "source": [
    "list3"
   ]
  },
  {
   "cell_type": "code",
   "execution_count": 6,
   "id": "e000ddf9",
   "metadata": {},
   "outputs": [
    {
     "data": {
      "text/plain": [
       "50"
      ]
     },
     "execution_count": 6,
     "metadata": {},
     "output_type": "execute_result"
    }
   ],
   "source": [
    "list3[0]"
   ]
  },
  {
   "cell_type": "code",
   "execution_count": 12,
   "id": "b8713bfd",
   "metadata": {},
   "outputs": [],
   "source": [
    "list3[-1]='Hi'"
   ]
  },
  {
   "cell_type": "code",
   "execution_count": 13,
   "id": "8fc44945",
   "metadata": {},
   "outputs": [
    {
     "data": {
      "text/plain": [
       "[50, 2.8, 82, 'Hi']"
      ]
     },
     "execution_count": 13,
     "metadata": {},
     "output_type": "execute_result"
    }
   ],
   "source": [
    "list3"
   ]
  },
  {
   "cell_type": "code",
   "execution_count": 14,
   "id": "972e4b3a",
   "metadata": {},
   "outputs": [],
   "source": [
    "list3 = (21,23,24,5,7,8)"
   ]
  },
  {
   "cell_type": "code",
   "execution_count": 15,
   "id": "df3e4415",
   "metadata": {},
   "outputs": [
    {
     "data": {
      "text/plain": [
       "(21, 23, 24, 5, 7, 8)"
      ]
     },
     "execution_count": 15,
     "metadata": {},
     "output_type": "execute_result"
    }
   ],
   "source": [
    "list3"
   ]
  },
  {
   "cell_type": "code",
   "execution_count": 16,
   "id": "336c46e9",
   "metadata": {},
   "outputs": [
    {
     "ename": "TypeError",
     "evalue": "'tuple' object does not support item assignment",
     "output_type": "error",
     "traceback": [
      "\u001b[1;31m---------------------------------------------------------------------------\u001b[0m",
      "\u001b[1;31mTypeError\u001b[0m                                 Traceback (most recent call last)",
      "\u001b[1;32m~\\AppData\\Local\\Temp/ipykernel_18372/3783995482.py\u001b[0m in \u001b[0;36m<module>\u001b[1;34m\u001b[0m\n\u001b[1;32m----> 1\u001b[1;33m \u001b[0mlist3\u001b[0m\u001b[1;33m[\u001b[0m\u001b[1;36m2\u001b[0m\u001b[1;33m]\u001b[0m\u001b[1;33m=\u001b[0m\u001b[1;36m50\u001b[0m\u001b[1;33m\u001b[0m\u001b[1;33m\u001b[0m\u001b[0m\n\u001b[0m",
      "\u001b[1;31mTypeError\u001b[0m: 'tuple' object does not support item assignment"
     ]
    }
   ],
   "source": [
    "list3[2]=50"
   ]
  },
  {
   "cell_type": "code",
   "execution_count": 17,
   "id": "00a06d30",
   "metadata": {},
   "outputs": [],
   "source": [
    "del list3"
   ]
  },
  {
   "cell_type": "code",
   "execution_count": 21,
   "id": "3f9ebb1a",
   "metadata": {},
   "outputs": [],
   "source": [
    "list3 = {2,2,2,3,3,4,6,6,6,6,8,9,9,9,9}"
   ]
  },
  {
   "cell_type": "code",
   "execution_count": 22,
   "id": "08c80bdb",
   "metadata": {},
   "outputs": [
    {
     "data": {
      "text/plain": [
       "{2, 3, 4, 6, 8, 9}"
      ]
     },
     "execution_count": 22,
     "metadata": {},
     "output_type": "execute_result"
    }
   ],
   "source": [
    "list3"
   ]
  },
  {
   "cell_type": "code",
   "execution_count": null,
   "id": "d173fd65",
   "metadata": {},
   "outputs": [],
   "source": [
    "list_city = [\"Chennai\",\"Kolkata\",\"Mumbai\"]\n",
    "len(list_city)"
   ]
  },
  {
   "cell_type": "code",
   "execution_count": null,
   "id": "bf4cfe45",
   "metadata": {},
   "outputs": [],
   "source": []
  },
  {
   "cell_type": "code",
   "execution_count": 34,
   "id": "04b654fc",
   "metadata": {},
   "outputs": [],
   "source": [
    "int_var1 = (546)"
   ]
  },
  {
   "cell_type": "code",
   "execution_count": 33,
   "id": "a778395d",
   "metadata": {},
   "outputs": [],
   "source": [
    "float_var1 = (23.5)"
   ]
  },
  {
   "cell_type": "code",
   "execution_count": 38,
   "id": "65b88c94",
   "metadata": {},
   "outputs": [],
   "source": [
    "conversion1 = int_var1 + float_var1"
   ]
  },
  {
   "cell_type": "code",
   "execution_count": 39,
   "id": "e19312e2",
   "metadata": {},
   "outputs": [
    {
     "name": "stdout",
     "output_type": "stream",
     "text": [
      "569.5\n"
     ]
    }
   ],
   "source": [
    "print (conversion1)"
   ]
  },
  {
   "cell_type": "code",
   "execution_count": 41,
   "id": "e996e109",
   "metadata": {},
   "outputs": [
    {
     "name": "stdout",
     "output_type": "stream",
     "text": [
      "Data type of int_var1 <class 'int'>\n"
     ]
    }
   ],
   "source": [
    "print('Data type of int_var1', type(int_var1))"
   ]
  },
  {
   "cell_type": "code",
   "execution_count": 42,
   "id": "562bd157",
   "metadata": {},
   "outputs": [],
   "source": [
    "str = (\"55.\")"
   ]
  },
  {
   "cell_type": "code",
   "execution_count": 44,
   "id": "e29dfbeb",
   "metadata": {},
   "outputs": [],
   "source": [
    "conversion1 = int_var1 + float(str)"
   ]
  },
  {
   "cell_type": "code",
   "execution_count": 46,
   "id": "37aa520e",
   "metadata": {},
   "outputs": [
    {
     "name": "stdout",
     "output_type": "stream",
     "text": [
      "601.5\n"
     ]
    }
   ],
   "source": [
    "print (conversion1)"
   ]
  },
  {
   "cell_type": "code",
   "execution_count": null,
   "id": "7606dbb7",
   "metadata": {},
   "outputs": [],
   "source": [
    "n3 =input ('Enter # 3: ')\n",
    "n4 =input ('Enter # 4: ')"
   ]
  },
  {
   "cell_type": "code",
   "execution_count": null,
   "id": "574face7",
   "metadata": {},
   "outputs": [],
   "source": [
    "del n1"
   ]
  },
  {
   "cell_type": "code",
   "execution_count": null,
   "id": "9f7decf2",
   "metadata": {},
   "outputs": [],
   "source": [
    "print(n3)"
   ]
  },
  {
   "cell_type": "code",
   "execution_count": null,
   "id": "49c8b401",
   "metadata": {},
   "outputs": [],
   "source": [
    "del input"
   ]
  },
  {
   "cell_type": "code",
   "execution_count": null,
   "id": "230ea0b5",
   "metadata": {},
   "outputs": [],
   "source": [
    "del n2"
   ]
  },
  {
   "cell_type": "code",
   "execution_count": null,
   "id": "a41c047e",
   "metadata": {},
   "outputs": [],
   "source": [
    "del n3"
   ]
  },
  {
   "cell_type": "code",
   "execution_count": null,
   "id": "a58ff7ab",
   "metadata": {},
   "outputs": [],
   "source": [
    "del n4"
   ]
  },
  {
   "cell_type": "code",
   "execution_count": null,
   "id": "6c382f40",
   "metadata": {},
   "outputs": [],
   "source": [
    "input (' Enter a number, ')"
   ]
  },
  {
   "cell_type": "code",
   "execution_count": null,
   "id": "f787d87a",
   "metadata": {},
   "outputs": [],
   "source": [
    "del input"
   ]
  },
  {
   "cell_type": "code",
   "execution_count": null,
   "id": "d7475455",
   "metadata": {},
   "outputs": [],
   "source": [
    "input ('Enter')"
   ]
  },
  {
   "cell_type": "code",
   "execution_count": null,
   "id": "d83eb7d5",
   "metadata": {},
   "outputs": [],
   "source": [
    "add (n1+n2)"
   ]
  },
  {
   "cell_type": "code",
   "execution_count": null,
   "id": "f8248761",
   "metadata": {},
   "outputs": [],
   "source": [
    "x = 10\n",
    "y = 14"
   ]
  },
  {
   "cell_type": "code",
   "execution_count": null,
   "id": "7bdbcf30",
   "metadata": {},
   "outputs": [],
   "source": [
    "print (x+y)"
   ]
  },
  {
   "cell_type": "code",
   "execution_count": null,
   "id": "eba52a25",
   "metadata": {},
   "outputs": [],
   "source": []
  },
  {
   "cell_type": "code",
   "execution_count": null,
   "id": "93f114e5",
   "metadata": {},
   "outputs": [],
   "source": []
  },
  {
   "cell_type": "code",
   "execution_count": null,
   "id": "9c2c8b62",
   "metadata": {},
   "outputs": [],
   "source": []
  },
  {
   "cell_type": "code",
   "execution_count": null,
   "id": "f2667d32",
   "metadata": {},
   "outputs": [],
   "source": []
  },
  {
   "cell_type": "code",
   "execution_count": null,
   "id": "d91a2441",
   "metadata": {},
   "outputs": [],
   "source": []
  },
  {
   "cell_type": "code",
   "execution_count": null,
   "id": "3f5805b9",
   "metadata": {},
   "outputs": [],
   "source": []
  }
 ],
 "metadata": {
  "kernelspec": {
   "display_name": "Python 3 (ipykernel)",
   "language": "python",
   "name": "python3"
  },
  "language_info": {
   "codemirror_mode": {
    "name": "ipython",
    "version": 3
   },
   "file_extension": ".py",
   "mimetype": "text/x-python",
   "name": "python",
   "nbconvert_exporter": "python",
   "pygments_lexer": "ipython3",
   "version": "3.9.7"
  }
 },
 "nbformat": 4,
 "nbformat_minor": 5
}
