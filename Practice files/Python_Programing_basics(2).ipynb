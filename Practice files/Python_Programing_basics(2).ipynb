{
 "cells": [
  {
   "cell_type": "code",
   "execution_count": 1,
   "id": "9a886f81",
   "metadata": {},
   "outputs": [
    {
     "name": "stdout",
     "output_type": "stream",
     "text": [
      "12\n"
     ]
    }
   ],
   "source": [
    "x = 4\n",
    "y = 8\n",
    "print (x+y)"
   ]
  },
  {
   "cell_type": "code",
   "execution_count": 3,
   "id": "eca1f20d",
   "metadata": {},
   "outputs": [
    {
     "name": "stdout",
     "output_type": "stream",
     "text": [
      "Enter # 1, 10\n",
      "Enter # 2, 15\n"
     ]
    }
   ],
   "source": [
    "n1 = input('Enter # 1, ')\n",
    "n2 = input('Enter # 2, ')"
   ]
  },
  {
   "cell_type": "code",
   "execution_count": 4,
   "id": "06d2817f",
   "metadata": {},
   "outputs": [],
   "source": [
    "add = n1+n2"
   ]
  },
  {
   "cell_type": "code",
   "execution_count": 6,
   "id": "13848c6a",
   "metadata": {},
   "outputs": [
    {
     "name": "stdout",
     "output_type": "stream",
     "text": [
      "1015\n"
     ]
    }
   ],
   "source": [
    "print (add)"
   ]
  },
  {
   "cell_type": "code",
   "execution_count": 13,
   "id": "2035745e",
   "metadata": {},
   "outputs": [],
   "source": [
    "add=eval(n1+n2)"
   ]
  },
  {
   "cell_type": "code",
   "execution_count": 15,
   "id": "4b780a37",
   "metadata": {},
   "outputs": [
    {
     "name": "stdout",
     "output_type": "stream",
     "text": [
      "1015\n"
     ]
    }
   ],
   "source": [
    "print (add)"
   ]
  },
  {
   "cell_type": "code",
   "execution_count": 16,
   "id": "feeb4244",
   "metadata": {},
   "outputs": [],
   "source": [
    "add1 = eval('10+8')"
   ]
  },
  {
   "cell_type": "code",
   "execution_count": 17,
   "id": "7a9ebea0",
   "metadata": {},
   "outputs": [
    {
     "name": "stdout",
     "output_type": "stream",
     "text": [
      "18\n"
     ]
    }
   ],
   "source": [
    "print (add1)"
   ]
  },
  {
   "cell_type": "code",
   "execution_count": 18,
   "id": "666415e9",
   "metadata": {},
   "outputs": [],
   "source": [
    "n3 = 14\n",
    "n4 = 28"
   ]
  },
  {
   "cell_type": "code",
   "execution_count": 21,
   "id": "3af5acc7",
   "metadata": {},
   "outputs": [],
   "source": [
    "add2 = eval ('n3+n4')"
   ]
  },
  {
   "cell_type": "code",
   "execution_count": 22,
   "id": "4ace9c00",
   "metadata": {},
   "outputs": [
    {
     "name": "stdout",
     "output_type": "stream",
     "text": [
      "42\n"
     ]
    }
   ],
   "source": [
    "print (add2)"
   ]
  },
  {
   "cell_type": "code",
   "execution_count": 24,
   "id": "a29dace3",
   "metadata": {},
   "outputs": [],
   "source": [
    "x1 = 15\n",
    "x2 = \"Hello\"\n",
    "x3 = [5,2,3]\n",
    "x4 = (1,2,3)\n",
    "x5 = {1,2,3}"
   ]
  },
  {
   "cell_type": "code",
   "execution_count": 29,
   "id": "905477e6",
   "metadata": {},
   "outputs": [
    {
     "data": {
      "text/plain": [
       "set"
      ]
     },
     "execution_count": 29,
     "metadata": {},
     "output_type": "execute_result"
    }
   ],
   "source": [
    "type(x5)"
   ]
  },
  {
   "cell_type": "code",
   "execution_count": 30,
   "id": "ceebf481",
   "metadata": {},
   "outputs": [],
   "source": [
    "y3 = [5,2,3]"
   ]
  },
  {
   "cell_type": "code",
   "execution_count": 32,
   "id": "9c306e23",
   "metadata": {},
   "outputs": [
    {
     "name": "stdout",
     "output_type": "stream",
     "text": [
      "False\n"
     ]
    }
   ],
   "source": [
    "print (x3 is y3)"
   ]
  },
  {
   "cell_type": "code",
   "execution_count": 33,
   "id": "5e281ad2",
   "metadata": {},
   "outputs": [
    {
     "name": "stdout",
     "output_type": "stream",
     "text": [
      "True\n"
     ]
    }
   ],
   "source": [
    "print (5 in x3)"
   ]
  },
  {
   "cell_type": "code",
   "execution_count": 34,
   "id": "10ee294e",
   "metadata": {},
   "outputs": [
    {
     "name": "stdout",
     "output_type": "stream",
     "text": [
      "True\n"
     ]
    }
   ],
   "source": [
    "print (2 in x4)"
   ]
  },
  {
   "cell_type": "code",
   "execution_count": 35,
   "id": "e04174c2",
   "metadata": {},
   "outputs": [
    {
     "name": "stdout",
     "output_type": "stream",
     "text": [
      "False\n"
     ]
    }
   ],
   "source": [
    "print (4 in x4)"
   ]
  },
  {
   "cell_type": "code",
   "execution_count": 41,
   "id": "66ea1d82",
   "metadata": {},
   "outputs": [
    {
     "name": "stdout",
     "output_type": "stream",
     "text": [
      "Enter a number :0\n",
      "Negative\n"
     ]
    }
   ],
   "source": [
    "num1 = int(input('Enter a number :'))\n",
    "if num1 > 0:\n",
    "    print ('Positive')\n",
    "else:\n",
    "    print ('Negative')\n"
   ]
  },
  {
   "cell_type": "code",
   "execution_count": 42,
   "id": "61e7e7c3",
   "metadata": {},
   "outputs": [
    {
     "name": "stdout",
     "output_type": "stream",
     "text": [
      "Zero\n"
     ]
    }
   ],
   "source": [
    "if num1>0:\n",
    "    print('Positive')\n",
    "elif num1==0:\n",
    "    print('Zero')\n",
    "else:\n",
    "    print('Negative')"
   ]
  },
  {
   "cell_type": "code",
   "execution_count": 45,
   "id": "4306297d",
   "metadata": {},
   "outputs": [
    {
     "name": "stdout",
     "output_type": "stream",
     "text": [
      "Zero\n"
     ]
    }
   ],
   "source": [
    "if num1>=0:\n",
    "    if num1==0:\n",
    "        print('Zero')\n",
    "    else:\n",
    "        print('Positive')\n",
    "else:\n",
    "    print('Negative')"
   ]
  },
  {
   "cell_type": "code",
   "execution_count": 68,
   "id": "3d4b2ad5",
   "metadata": {},
   "outputs": [
    {
     "name": "stdout",
     "output_type": "stream",
     "text": [
      "Enter a decimal:-2\n"
     ]
    }
   ],
   "source": [
    "num2 = float(input('Enter a decimal:'))"
   ]
  },
  {
   "cell_type": "code",
   "execution_count": 60,
   "id": "9c3a9830",
   "metadata": {},
   "outputs": [
    {
     "name": "stdout",
     "output_type": "stream",
     "text": [
      "-2.0\n"
     ]
    }
   ],
   "source": [
    "print(num2)"
   ]
  },
  {
   "cell_type": "code",
   "execution_count": 61,
   "id": "f6f8b37e",
   "metadata": {},
   "outputs": [
    {
     "name": "stdout",
     "output_type": "stream",
     "text": [
      "No\n"
     ]
    }
   ],
   "source": [
    "if num2>1:\n",
    "    print('yes')\n",
    "else:\n",
    "    print('No')"
   ]
  },
  {
   "cell_type": "code",
   "execution_count": 69,
   "id": "3e592375",
   "metadata": {},
   "outputs": [
    {
     "name": "stdout",
     "output_type": "stream",
     "text": [
      "less than 1\n"
     ]
    }
   ],
   "source": [
    "if num2>=1:\n",
    "    if num2==1:\n",
    "        print ('value is 1')\n",
    "    else:\n",
    "        print (' greater than 1')\n",
    "elif num2<1:\n",
    "    print ('less than 1')"
   ]
  },
  {
   "cell_type": "code",
   "execution_count": 70,
   "id": "36b392b9",
   "metadata": {},
   "outputs": [],
   "source": [
    "city = ('Chennai', 'Bangalore', 'Cochin')"
   ]
  },
  {
   "cell_type": "code",
   "execution_count": 71,
   "id": "2125af19",
   "metadata": {},
   "outputs": [
    {
     "name": "stdout",
     "output_type": "stream",
     "text": [
      "Chennai\n",
      "Bangalore\n",
      "Cochin\n"
     ]
    }
   ],
   "source": [
    "for i in city:\n",
    "    print (i)"
   ]
  },
  {
   "cell_type": "code",
   "execution_count": 72,
   "id": "d66043be",
   "metadata": {},
   "outputs": [
    {
     "data": {
      "text/plain": [
       "3"
      ]
     },
     "execution_count": 72,
     "metadata": {},
     "output_type": "execute_result"
    }
   ],
   "source": [
    "len(city)"
   ]
  },
  {
   "cell_type": "code",
   "execution_count": 73,
   "id": "67b630f6",
   "metadata": {},
   "outputs": [
    {
     "data": {
      "text/plain": [
       "range(0, 3)"
      ]
     },
     "execution_count": 73,
     "metadata": {},
     "output_type": "execute_result"
    }
   ],
   "source": [
    "range(len(city))"
   ]
  },
  {
   "cell_type": "code",
   "execution_count": 75,
   "id": "9cd6e3d9",
   "metadata": {},
   "outputs": [
    {
     "data": {
      "text/plain": [
       "'Cochin'"
      ]
     },
     "execution_count": 75,
     "metadata": {},
     "output_type": "execute_result"
    }
   ],
   "source": [
    "city[2]"
   ]
  },
  {
   "cell_type": "code",
   "execution_count": 81,
   "id": "90dcb1e9",
   "metadata": {},
   "outputs": [
    {
     "name": "stdout",
     "output_type": "stream",
     "text": [
      "0\n",
      "1\n",
      "2\n"
     ]
    }
   ],
   "source": [
    "for i in range(len(city)):\n",
    "    print(i)"
   ]
  },
  {
   "cell_type": "code",
   "execution_count": 85,
   "id": "a396ea97",
   "metadata": {},
   "outputs": [
    {
     "data": {
      "text/plain": [
       "'Cochin'"
      ]
     },
     "execution_count": 85,
     "metadata": {},
     "output_type": "execute_result"
    }
   ],
   "source": [
    "city[2]"
   ]
  },
  {
   "cell_type": "code",
   "execution_count": 96,
   "id": "89c15238",
   "metadata": {},
   "outputs": [
    {
     "name": "stdout",
     "output_type": "stream",
     "text": [
      "20\n",
      "28\n",
      "118\n",
      "195\n"
     ]
    }
   ],
   "source": [
    "list3 =[10,8,90,77]\n",
    "abc = 10\n",
    "\n",
    "for i in list3:\n",
    "    abc = abc + i\n",
    "    print (abc)"
   ]
  },
  {
   "cell_type": "code",
   "execution_count": 98,
   "id": "7f55918a",
   "metadata": {},
   "outputs": [
    {
     "name": "stdout",
     "output_type": "stream",
     "text": [
      "10\n"
     ]
    }
   ],
   "source": [
    "for i in list3:\n",
    "    if i == 8:\n",
    "        continue\n",
    "    elif i == 90:\n",
    "        break\n",
    "    print(i)"
   ]
  },
  {
   "cell_type": "code",
   "execution_count": 100,
   "id": "84f88507",
   "metadata": {},
   "outputs": [
    {
     "name": "stdout",
     "output_type": "stream",
     "text": [
      "I have 10 days\n",
      "I have 8 days\n",
      "I have 90 days\n",
      "I have 77 days\n"
     ]
    }
   ],
   "source": [
    "for i in list3:\n",
    "    print ( 'I have', i, 'days')"
   ]
  },
  {
   "cell_type": "code",
   "execution_count": 101,
   "id": "037fdd68",
   "metadata": {},
   "outputs": [],
   "source": [
    "city3 = ('Chennai','Bangalore','Kolkata')"
   ]
  },
  {
   "cell_type": "code",
   "execution_count": 103,
   "id": "45ff002d",
   "metadata": {},
   "outputs": [
    {
     "data": {
      "text/plain": [
       "3"
      ]
     },
     "execution_count": 103,
     "metadata": {},
     "output_type": "execute_result"
    }
   ],
   "source": [
    "len(city3)"
   ]
  },
  {
   "cell_type": "code",
   "execution_count": 105,
   "id": "c4012789",
   "metadata": {},
   "outputs": [
    {
     "data": {
      "text/plain": [
       "range(0, 3)"
      ]
     },
     "execution_count": 105,
     "metadata": {},
     "output_type": "execute_result"
    }
   ],
   "source": [
    "range (len(city3))"
   ]
  },
  {
   "cell_type": "code",
   "execution_count": 106,
   "id": "c18659a5",
   "metadata": {},
   "outputs": [
    {
     "data": {
      "text/plain": [
       "[0, 1, 2]"
      ]
     },
     "execution_count": 106,
     "metadata": {},
     "output_type": "execute_result"
    }
   ],
   "source": [
    "list(range(len(city3)))"
   ]
  },
  {
   "cell_type": "code",
   "execution_count": 110,
   "id": "00b8a25c",
   "metadata": {},
   "outputs": [
    {
     "name": "stdout",
     "output_type": "stream",
     "text": [
      "I love Chennai\n",
      "I love Bangalore\n",
      "I love Kolkata\n"
     ]
    }
   ],
   "source": [
    "for i in range(len(city3)):\n",
    "    print ('I love',city3[i])"
   ]
  },
  {
   "cell_type": "markdown",
   "id": "505a2d87",
   "metadata": {},
   "source": [
    "#### Global Variable"
   ]
  },
  {
   "cell_type": "code",
   "execution_count": 2,
   "id": "cdfb2927",
   "metadata": {},
   "outputs": [
    {
     "name": "stdout",
     "output_type": "stream",
     "text": [
      "Inside the function:   Global Variable\n",
      "Outside the function:   Global Variable\n"
     ]
    }
   ],
   "source": [
    "c = \" Global Variable\" # Global variable\n",
    "def function1():\n",
    "#    x = 100    --- local variable\n",
    "    print('Inside the function: ', c)\n",
    "    \n",
    "function1()\n",
    "print('Outside the function: ', c)"
   ]
  },
  {
   "cell_type": "code",
   "execution_count": 3,
   "id": "6774746b",
   "metadata": {},
   "outputs": [
    {
     "name": "stdout",
     "output_type": "stream",
     "text": [
      "Local variable\n"
     ]
    },
    {
     "ename": "NameError",
     "evalue": "name 'loval_var' is not defined",
     "output_type": "error",
     "traceback": [
      "\u001b[1;31m---------------------------------------------------------------------------\u001b[0m",
      "\u001b[1;31mNameError\u001b[0m                                 Traceback (most recent call last)",
      "\u001b[1;32m~\\AppData\\Local\\Temp/ipykernel_12644/1077753608.py\u001b[0m in \u001b[0;36m<module>\u001b[1;34m\u001b[0m\n\u001b[0;32m      4\u001b[0m \u001b[1;33m\u001b[0m\u001b[0m\n\u001b[0;32m      5\u001b[0m \u001b[0mfunction2\u001b[0m\u001b[1;33m(\u001b[0m\u001b[1;33m)\u001b[0m\u001b[1;33m\u001b[0m\u001b[1;33m\u001b[0m\u001b[0m\n\u001b[1;32m----> 6\u001b[1;33m \u001b[0mloval_var\u001b[0m\u001b[1;33m\u001b[0m\u001b[1;33m\u001b[0m\u001b[0m\n\u001b[0m",
      "\u001b[1;31mNameError\u001b[0m: name 'loval_var' is not defined"
     ]
    }
   ],
   "source": [
    "def function2():\n",
    "    local_var = \"Local variable\"\n",
    "    print(local_var)\n",
    "    \n",
    "function2()\n",
    "loval_var"
   ]
  },
  {
   "cell_type": "markdown",
   "id": "24add23d",
   "metadata": {},
   "source": [
    "### Local and global in same code"
   ]
  },
  {
   "cell_type": "code",
   "execution_count": 7,
   "id": "8e20c809",
   "metadata": {},
   "outputs": [],
   "source": [
    "var = 20\n",
    "\n",
    "def glob_var_ex():\n",
    "    y = 10\n",
    "    global var\n",
    "    var = var * 5\n",
    "    print('This is my local variable: ', y)\n",
    "    print(' This is my Global variable:', var)\n",
    "    "
   ]
  },
  {
   "cell_type": "code",
   "execution_count": 8,
   "id": "0ae1b82d",
   "metadata": {},
   "outputs": [
    {
     "name": "stdout",
     "output_type": "stream",
     "text": [
      "This is my local variable:  10\n",
      " This is my Global variable: 100\n"
     ]
    }
   ],
   "source": [
    "glob_var_ex()"
   ]
  },
  {
   "cell_type": "code",
   "execution_count": 10,
   "id": "46dec492",
   "metadata": {},
   "outputs": [
    {
     "data": {
      "text/plain": [
       "100"
      ]
     },
     "execution_count": 10,
     "metadata": {},
     "output_type": "execute_result"
    }
   ],
   "source": [
    "var"
   ]
  },
  {
   "cell_type": "code",
   "execution_count": 11,
   "id": "9a64b0cc",
   "metadata": {},
   "outputs": [
    {
     "name": "stdout",
     "output_type": "stream",
     "text": [
      "Factorial of 6 is 720\n"
     ]
    }
   ],
   "source": [
    "def recursion(x):\n",
    "    if x ==1 :\n",
    "        return x\n",
    "    else:\n",
    "        return (x * recursion(x-1))\n",
    "    \n",
    "num = 6\n",
    "print('Factorial of',num,'is',recursion(num))"
   ]
  },
  {
   "cell_type": "code",
   "execution_count": 12,
   "id": "c30d4de8",
   "metadata": {},
   "outputs": [
    {
     "name": "stdout",
     "output_type": "stream",
     "text": [
      "15\n"
     ]
    }
   ],
   "source": [
    "var1 = 15\n",
    "\n",
    "def global_var_chk():\n",
    "    y = 30\n",
    "    global var1\n",
    "    var1 = y/var1\n",
    "print(var1)"
   ]
  },
  {
   "cell_type": "markdown",
   "id": "7e3f12f5",
   "metadata": {},
   "source": [
    "### Nested indexing"
   ]
  },
  {
   "cell_type": "code",
   "execution_count": 14,
   "id": "def7bd51",
   "metadata": {},
   "outputs": [
    {
     "data": {
      "text/plain": [
       "[1, 2, [3, 4], ['five', 'six', 'seven']]"
      ]
     },
     "execution_count": 14,
     "metadata": {},
     "output_type": "execute_result"
    }
   ],
   "source": [
    "nexted_list = [1,2,[3,4],['five','six','seven']]\n",
    "nexted_list"
   ]
  },
  {
   "cell_type": "code",
   "execution_count": 16,
   "id": "976e7d9f",
   "metadata": {},
   "outputs": [
    {
     "data": {
      "text/plain": [
       "'six'"
      ]
     },
     "execution_count": 16,
     "metadata": {},
     "output_type": "execute_result"
    }
   ],
   "source": [
    "nexted_list[3][1]"
   ]
  },
  {
   "cell_type": "code",
   "execution_count": 17,
   "id": "b50a4780",
   "metadata": {},
   "outputs": [
    {
     "data": {
      "text/plain": [
       "4"
      ]
     },
     "execution_count": 17,
     "metadata": {},
     "output_type": "execute_result"
    }
   ],
   "source": [
    "nexted_list[-2][-1]"
   ]
  },
  {
   "cell_type": "code",
   "execution_count": 18,
   "id": "62d40335",
   "metadata": {},
   "outputs": [
    {
     "data": {
      "text/plain": [
       "['five', 'six', 'seven']"
      ]
     },
     "execution_count": 18,
     "metadata": {},
     "output_type": "execute_result"
    }
   ],
   "source": [
    "nexted_list[-1]"
   ]
  },
  {
   "cell_type": "markdown",
   "id": "79cd8ac5",
   "metadata": {},
   "source": [
    "##### Append and extend"
   ]
  },
  {
   "cell_type": "code",
   "execution_count": 19,
   "id": "19310e6f",
   "metadata": {},
   "outputs": [
    {
     "name": "stdout",
     "output_type": "stream",
     "text": [
      "[5, 4, 3, 7]\n"
     ]
    }
   ],
   "source": [
    "list_1 = [5,4,3]\n",
    "list_1.append(7)\n",
    "print(list_1)"
   ]
  },
  {
   "cell_type": "code",
   "execution_count": 20,
   "id": "723f8e39",
   "metadata": {},
   "outputs": [
    {
     "name": "stdout",
     "output_type": "stream",
     "text": [
      "[5, 4, 3, 7, 8, 5, 9]\n"
     ]
    }
   ],
   "source": [
    "list_1.extend([8,5,9])\n",
    "print(list_1)"
   ]
  },
  {
   "cell_type": "code",
   "execution_count": 21,
   "id": "0cd27e8c",
   "metadata": {},
   "outputs": [
    {
     "name": "stdout",
     "output_type": "stream",
     "text": [
      "[5, 4, 3, 7, 8, 5, 9, 8, 10, 12]\n"
     ]
    }
   ],
   "source": [
    "list_1.extend(range(8,14,2))\n",
    "print(list_1)"
   ]
  },
  {
   "cell_type": "code",
   "execution_count": 23,
   "id": "6b48a628",
   "metadata": {},
   "outputs": [
    {
     "name": "stdout",
     "output_type": "stream",
     "text": [
      "[15, 15, 5, 4, 3, 7, 8, 5, 9, 8, 10, 12]\n"
     ]
    }
   ],
   "source": [
    "var = 15\n",
    "list_1.insert(0, var)\n",
    "print(list_1)"
   ]
  },
  {
   "cell_type": "code",
   "execution_count": 24,
   "id": "12929a8e",
   "metadata": {},
   "outputs": [
    {
     "name": "stdout",
     "output_type": "stream",
     "text": [
      "[15, 15, 5, 24, 4, 3, 7, 8, 5, 9, 8, 10, 12]\n"
     ]
    }
   ],
   "source": [
    "var = 24\n",
    "list_1.insert(3, var)\n",
    "print(list_1)"
   ]
  },
  {
   "cell_type": "code",
   "execution_count": 25,
   "id": "de5bfd0f",
   "metadata": {},
   "outputs": [
    {
     "name": "stdout",
     "output_type": "stream",
     "text": [
      "[15, 15, 5, 24, 4, 3, 7, 8, 5, 9, 8, 10, 12]\n",
      "[15, 5, 24, 4, 3, 7, 8, 5, 9, 8, 10, 12]\n"
     ]
    }
   ],
   "source": [
    "print(list_1)\n",
    "list_1.remove(15)\n",
    "print(list_1)"
   ]
  },
  {
   "cell_type": "markdown",
   "id": "4c0cd09c",
   "metadata": {},
   "source": [
    "###### List Concatenation"
   ]
  },
  {
   "cell_type": "code",
   "execution_count": 28,
   "id": "c0e86f01",
   "metadata": {},
   "outputs": [
    {
     "name": "stdout",
     "output_type": "stream",
     "text": [
      "[1, 3, 6, 9.5, 7, 8]\n"
     ]
    }
   ],
   "source": [
    "list1 = [1,3,6]\n",
    "print(list1 + [9.5,7,8])"
   ]
  },
  {
   "cell_type": "markdown",
   "id": "4803794a",
   "metadata": {},
   "source": [
    "##### Remove and POP"
   ]
  },
  {
   "cell_type": "code",
   "execution_count": 29,
   "id": "166f21c7",
   "metadata": {},
   "outputs": [],
   "source": [
    "list1 =['d','a']"
   ]
  },
  {
   "cell_type": "code",
   "execution_count": 30,
   "id": "39f1e2bd",
   "metadata": {},
   "outputs": [
    {
     "data": {
      "text/plain": [
       "['D', 'a', 't', 'a', 'S', 'c', 'i', 'e', 'n', 'c', 'e']"
      ]
     },
     "execution_count": 30,
     "metadata": {},
     "output_type": "execute_result"
    }
   ],
   "source": [
    "string = 'DataScience'\n",
    "list(string)"
   ]
  },
  {
   "cell_type": "code",
   "execution_count": 31,
   "id": "5302352b",
   "metadata": {},
   "outputs": [],
   "source": [
    "del list1"
   ]
  },
  {
   "cell_type": "code",
   "execution_count": 32,
   "id": "620518ad",
   "metadata": {},
   "outputs": [],
   "source": [
    "list1 = list(string)"
   ]
  },
  {
   "cell_type": "code",
   "execution_count": 39,
   "id": "ea036d25",
   "metadata": {},
   "outputs": [
    {
     "data": {
      "text/plain": [
       "['D', 'a', 't', 'S', 'c', 'i', 'e', 'n', 'c', 'e']"
      ]
     },
     "execution_count": 39,
     "metadata": {},
     "output_type": "execute_result"
    }
   ],
   "source": [
    "list1 "
   ]
  },
  {
   "cell_type": "code",
   "execution_count": 37,
   "id": "324514da",
   "metadata": {},
   "outputs": [
    {
     "name": "stdout",
     "output_type": "stream",
     "text": [
      "5\n"
     ]
    }
   ],
   "source": [
    "print(list1.index('i'))"
   ]
  },
  {
   "cell_type": "code",
   "execution_count": 41,
   "id": "e7037dde",
   "metadata": {},
   "outputs": [
    {
     "name": "stdout",
     "output_type": "stream",
     "text": [
      "2\n"
     ]
    }
   ],
   "source": [
    "print(list1.count('e'))"
   ]
  },
  {
   "cell_type": "code",
   "execution_count": 59,
   "id": "edd11a4f",
   "metadata": {},
   "outputs": [
    {
     "name": "stdout",
     "output_type": "stream",
     "text": [
      "[0, 1, 4, 9, 16, 25, 36, 49, 64, 81]\n"
     ]
    }
   ],
   "source": [
    "list4=[]\n",
    "for i in range(10):\n",
    "    list4.append(i**2)\n",
    "print(list4)"
   ]
  },
  {
   "cell_type": "markdown",
   "id": "760c8670",
   "metadata": {},
   "source": [
    "#### Enumerate"
   ]
  },
  {
   "cell_type": "code",
   "execution_count": 1,
   "id": "35b0b586",
   "metadata": {},
   "outputs": [
    {
     "data": {
      "text/plain": [
       "[(0, 'Data'), (1, 'Function'), (2, 'Stats')]"
      ]
     },
     "execution_count": 1,
     "metadata": {},
     "output_type": "execute_result"
    }
   ],
   "source": [
    "x1 = ['Data','Function','Stats']\n",
    "list(enumerate(x1))"
   ]
  },
  {
   "cell_type": "code",
   "execution_count": 2,
   "id": "21cb8c6b",
   "metadata": {},
   "outputs": [
    {
     "data": {
      "text/plain": [
       "[(200, 'Data'), (201, 'Function'), (202, 'Stats')]"
      ]
     },
     "execution_count": 2,
     "metadata": {},
     "output_type": "execute_result"
    }
   ],
   "source": [
    "x1 = ['Data','Function','Stats']\n",
    "list(enumerate(x1,200))"
   ]
  },
  {
   "cell_type": "markdown",
   "id": "0d85d9b7",
   "metadata": {},
   "source": [
    "#### Tuple operations"
   ]
  },
  {
   "cell_type": "code",
   "execution_count": 4,
   "id": "e931619c",
   "metadata": {},
   "outputs": [
    {
     "name": "stdout",
     "output_type": "stream",
     "text": [
      "(3, 5, 5, 'nine')\n"
     ]
    }
   ],
   "source": [
    "tuple1 = 3,5,5,'nine'\n",
    "print(tuple1)"
   ]
  },
  {
   "cell_type": "code",
   "execution_count": 7,
   "id": "53d9e05b",
   "metadata": {},
   "outputs": [],
   "source": [
    "#Tuple unpacking"
   ]
  },
  {
   "cell_type": "code",
   "execution_count": 9,
   "id": "0092f8ec",
   "metadata": {},
   "outputs": [
    {
     "name": "stdout",
     "output_type": "stream",
     "text": [
      "3\n",
      "5\n",
      "5\n"
     ]
    }
   ],
   "source": [
    "a,b,c,d=tuple1\n",
    "print(a)\n",
    "print(b)\n",
    "print(c)"
   ]
  },
  {
   "cell_type": "code",
   "execution_count": 10,
   "id": "49596288",
   "metadata": {},
   "outputs": [
    {
     "data": {
      "text/plain": [
       "str"
      ]
     },
     "execution_count": 10,
     "metadata": {},
     "output_type": "execute_result"
    }
   ],
   "source": [
    "tuple2=('tuple')\n",
    "type(tuple2)"
   ]
  },
  {
   "cell_type": "code",
   "execution_count": 12,
   "id": "99b36abb",
   "metadata": {},
   "outputs": [
    {
     "data": {
      "text/plain": [
       "tuple"
      ]
     },
     "execution_count": 12,
     "metadata": {},
     "output_type": "execute_result"
    }
   ],
   "source": [
    "tuple2 = 'tuple',\n",
    "type(tuple2)"
   ]
  },
  {
   "cell_type": "code",
   "execution_count": 14,
   "id": "30622e3a",
   "metadata": {},
   "outputs": [
    {
     "data": {
      "text/plain": [
       "tuple"
      ]
     },
     "execution_count": 14,
     "metadata": {},
     "output_type": "execute_result"
    }
   ],
   "source": [
    "tuple2 = ('tuple',)\n",
    "type(tuple2)"
   ]
  },
  {
   "cell_type": "markdown",
   "id": "7d5a383a",
   "metadata": {},
   "source": [
    "#### Changing a tuple"
   ]
  },
  {
   "cell_type": "code",
   "execution_count": 1,
   "id": "3a56f8f3",
   "metadata": {},
   "outputs": [
    {
     "data": {
      "text/plain": [
       "(1, 2, [2, 2, 3])"
      ]
     },
     "execution_count": 1,
     "metadata": {},
     "output_type": "execute_result"
    }
   ],
   "source": [
    "tupl1 = (1,2,[1,2,3])\n",
    "tupl1[2][0]= 2\n",
    "tupl1"
   ]
  },
  {
   "cell_type": "code",
   "execution_count": null,
   "id": "29eb46e7",
   "metadata": {},
   "outputs": [],
   "source": [
    "# A \"set\" of mixed data types"
   ]
  },
  {
   "cell_type": "code",
   "execution_count": 2,
   "id": "5fb02560",
   "metadata": {},
   "outputs": [
    {
     "name": "stdout",
     "output_type": "stream",
     "text": [
      "{1.0, 'hey', (2, 5, 8)}\n"
     ]
    }
   ],
   "source": [
    "my_set1 = {1.0,\"hey\",(2,5,8)}\n",
    "print(my_set1)"
   ]
  },
  {
   "cell_type": "code",
   "execution_count": 4,
   "id": "7daa418b",
   "metadata": {},
   "outputs": [
    {
     "ename": "TypeError",
     "evalue": "unhashable type: 'list'",
     "output_type": "error",
     "traceback": [
      "\u001b[1;31m---------------------------------------------------------------------------\u001b[0m",
      "\u001b[1;31mTypeError\u001b[0m                                 Traceback (most recent call last)",
      "\u001b[1;32m~\\AppData\\Local\\Temp/ipykernel_14836/2968080791.py\u001b[0m in \u001b[0;36m<module>\u001b[1;34m\u001b[0m\n\u001b[1;32m----> 1\u001b[1;33m \u001b[0mmy_set2\u001b[0m \u001b[1;33m=\u001b[0m \u001b[1;33m{\u001b[0m\u001b[1;36m1.0\u001b[0m\u001b[1;33m,\u001b[0m\u001b[1;34m\"Hello\"\u001b[0m\u001b[1;33m,\u001b[0m\u001b[1;33m[\u001b[0m\u001b[1;36m2\u001b[0m\u001b[1;33m,\u001b[0m\u001b[1;36m5\u001b[0m\u001b[1;33m,\u001b[0m\u001b[1;36m8\u001b[0m\u001b[1;33m]\u001b[0m\u001b[1;33m}\u001b[0m\u001b[1;33m\u001b[0m\u001b[1;33m\u001b[0m\u001b[0m\n\u001b[0m\u001b[0;32m      2\u001b[0m \u001b[0mprint\u001b[0m\u001b[1;33m(\u001b[0m\u001b[0mmy_set2\u001b[0m\u001b[1;33m)\u001b[0m\u001b[1;33m\u001b[0m\u001b[1;33m\u001b[0m\u001b[0m\n",
      "\u001b[1;31mTypeError\u001b[0m: unhashable type: 'list'"
     ]
    }
   ],
   "source": [
    "my_set2 = {1.0,\"Hello\",[2,5,8]}\n",
    "print(my_set2)"
   ]
  },
  {
   "cell_type": "code",
   "execution_count": 5,
   "id": "e92299eb",
   "metadata": {},
   "outputs": [
    {
     "name": "stdout",
     "output_type": "stream",
     "text": [
      "{8, 1, 4, 9}\n"
     ]
    }
   ],
   "source": [
    "my_set = {1,8,9,4}\n",
    "print (my_set)"
   ]
  },
  {
   "cell_type": "code",
   "execution_count": 8,
   "id": "f58295ae",
   "metadata": {},
   "outputs": [
    {
     "name": "stdout",
     "output_type": "stream",
     "text": [
      "{8, 1, 4}\n",
      "{8, 1}\n"
     ]
    }
   ],
   "source": [
    "my_set.discard(9)\n",
    "print(my_set)\n",
    "\n",
    "my_set.remove(4)\n",
    "print(my_set)"
   ]
  },
  {
   "cell_type": "markdown",
   "id": "51b42b0d",
   "metadata": {},
   "source": [
    "#### Iterators"
   ]
  },
  {
   "cell_type": "code",
   "execution_count": 9,
   "id": "dfd674dd",
   "metadata": {},
   "outputs": [
    {
     "name": "stdout",
     "output_type": "stream",
     "text": [
      "2\n"
     ]
    }
   ],
   "source": [
    "my_list = [2,9,8,3]\n",
    "\n",
    "my_iter = iter(my_list)\n",
    "print(next(my_iter))"
   ]
  },
  {
   "cell_type": "code",
   "execution_count": 10,
   "id": "44cfd28c",
   "metadata": {},
   "outputs": [
    {
     "name": "stdout",
     "output_type": "stream",
     "text": [
      "9\n"
     ]
    }
   ],
   "source": [
    "print(next(my_iter))"
   ]
  },
  {
   "cell_type": "code",
   "execution_count": 11,
   "id": "ac889c83",
   "metadata": {},
   "outputs": [
    {
     "name": "stdout",
     "output_type": "stream",
     "text": [
      "8\n"
     ]
    }
   ],
   "source": [
    "print(next(my_iter))"
   ]
  },
  {
   "cell_type": "code",
   "execution_count": 12,
   "id": "e65304bb",
   "metadata": {},
   "outputs": [
    {
     "name": "stdout",
     "output_type": "stream",
     "text": [
      "3\n"
     ]
    }
   ],
   "source": [
    "print(next(my_iter))"
   ]
  },
  {
   "cell_type": "code",
   "execution_count": 13,
   "id": "78e30712",
   "metadata": {},
   "outputs": [
    {
     "ename": "StopIteration",
     "evalue": "",
     "output_type": "error",
     "traceback": [
      "\u001b[1;31m---------------------------------------------------------------------------\u001b[0m",
      "\u001b[1;31mStopIteration\u001b[0m                             Traceback (most recent call last)",
      "\u001b[1;32m~\\AppData\\Local\\Temp/ipykernel_14836/1757294138.py\u001b[0m in \u001b[0;36m<module>\u001b[1;34m\u001b[0m\n\u001b[1;32m----> 1\u001b[1;33m \u001b[0mprint\u001b[0m\u001b[1;33m(\u001b[0m\u001b[0mnext\u001b[0m\u001b[1;33m(\u001b[0m\u001b[0mmy_iter\u001b[0m\u001b[1;33m)\u001b[0m\u001b[1;33m)\u001b[0m\u001b[1;33m\u001b[0m\u001b[1;33m\u001b[0m\u001b[0m\n\u001b[0m",
      "\u001b[1;31mStopIteration\u001b[0m: "
     ]
    }
   ],
   "source": [
    "print(next(my_iter))"
   ]
  },
  {
   "cell_type": "code",
   "execution_count": 1,
   "id": "ed3ed394",
   "metadata": {},
   "outputs": [
    {
     "name": "stdout",
     "output_type": "stream",
     "text": [
      "2\n",
      "9\n",
      "8\n",
      "3\n"
     ]
    }
   ],
   "source": [
    "my_list = [2,9,8,3]\n",
    "\n",
    "my_iter = iter(my_list)\n",
    "\n",
    "for i in range(len(my_list)):\n",
    "    print(next(my_iter))"
   ]
  },
  {
   "cell_type": "markdown",
   "id": "18ab1ef7",
   "metadata": {},
   "source": [
    "##### Generators"
   ]
  },
  {
   "cell_type": "code",
   "execution_count": 5,
   "id": "54c3a11f",
   "metadata": {},
   "outputs": [],
   "source": [
    "def gen_01(arg1):\n",
    "    for i in range(len(arg1)-1,0,-1):\n",
    "        print(arg1[i])\n",
    "        yield arg1[i]\n",
    "arg1 = 'Data Science'"
   ]
  },
  {
   "cell_type": "code",
   "execution_count": 6,
   "id": "e3f76cd0",
   "metadata": {},
   "outputs": [
    {
     "name": "stdout",
     "output_type": "stream",
     "text": [
      "e\n"
     ]
    },
    {
     "data": {
      "text/plain": [
       "'e'"
      ]
     },
     "execution_count": 6,
     "metadata": {},
     "output_type": "execute_result"
    }
   ],
   "source": [
    "var2 = gen_01(arg1)\n",
    "next(var2)"
   ]
  },
  {
   "cell_type": "code",
   "execution_count": 11,
   "id": "2b589dfa",
   "metadata": {},
   "outputs": [
    {
     "name": "stdout",
     "output_type": "stream",
     "text": [
      "e\n"
     ]
    },
    {
     "data": {
      "text/plain": [
       "'e'"
      ]
     },
     "execution_count": 11,
     "metadata": {},
     "output_type": "execute_result"
    }
   ],
   "source": [
    "def gen_02(arg2):\n",
    "    for i in range(len(arg2)-1,0,-1):\n",
    "        print(arg2[i])\n",
    "        yield arg2[i]\n",
    "arg2 = 'Data Science'\n",
    "\n",
    "#for i in arg2:\n",
    " #   print(arg2)\n",
    "\n",
    "var3 = gen_02(arg2)\n",
    "next(var3)"
   ]
  },
  {
   "cell_type": "code",
   "execution_count": 14,
   "id": "4dda9464",
   "metadata": {},
   "outputs": [
    {
     "name": "stdout",
     "output_type": "stream",
     "text": [
      "ecneicSataD"
     ]
    }
   ],
   "source": [
    "my_str = \"DataScience\"\n",
    "\n",
    "def rev_str(my_str):\n",
    "    length = len(my_str)\n",
    "    for i in range(length - 1, -1, -1):\n",
    "        yield my_str[i]\n",
    "\n",
    "for char in rev_str(my_str):\n",
    "    print(char, end=\"\")\n"
   ]
  },
  {
   "cell_type": "markdown",
   "id": "eac50217",
   "metadata": {},
   "source": [
    "##### Generator expression"
   ]
  },
  {
   "cell_type": "code",
   "execution_count": 15,
   "id": "98acfe1c",
   "metadata": {},
   "outputs": [],
   "source": [
    "list1 = [2,4,5,10]"
   ]
  },
  {
   "cell_type": "code",
   "execution_count": 18,
   "id": "140325cb",
   "metadata": {},
   "outputs": [
    {
     "data": {
      "text/plain": [
       "[4, 16, 25, 100]"
      ]
     },
     "execution_count": 18,
     "metadata": {},
     "output_type": "execute_result"
    }
   ],
   "source": [
    "[i**2 for i in list1]"
   ]
  },
  {
   "cell_type": "code",
   "execution_count": 19,
   "id": "8d3b2a1a",
   "metadata": {},
   "outputs": [
    {
     "data": {
      "text/plain": [
       "<generator object <genexpr> at 0x00000260FD392040>"
      ]
     },
     "execution_count": 19,
     "metadata": {},
     "output_type": "execute_result"
    }
   ],
   "source": [
    "(i**2 for i in list1)"
   ]
  },
  {
   "cell_type": "code",
   "execution_count": 20,
   "id": "c1d8578d",
   "metadata": {},
   "outputs": [],
   "source": [
    "gen_var = (i**2 for i in list1)"
   ]
  },
  {
   "cell_type": "code",
   "execution_count": 21,
   "id": "77abb19f",
   "metadata": {},
   "outputs": [
    {
     "name": "stdout",
     "output_type": "stream",
     "text": [
      "4\n",
      "16\n",
      "25\n",
      "100\n"
     ]
    }
   ],
   "source": [
    "#for i in gen_var:\n",
    "#    print(i)"
   ]
  },
  {
   "cell_type": "code",
   "execution_count": 23,
   "id": "2388aea4",
   "metadata": {},
   "outputs": [
    {
     "ename": "StopIteration",
     "evalue": "",
     "output_type": "error",
     "traceback": [
      "\u001b[1;31m---------------------------------------------------------------------------\u001b[0m",
      "\u001b[1;31mStopIteration\u001b[0m                             Traceback (most recent call last)",
      "\u001b[1;32m~\\AppData\\Local\\Temp/ipykernel_16320/2737400532.py\u001b[0m in \u001b[0;36m<module>\u001b[1;34m\u001b[0m\n\u001b[1;32m----> 1\u001b[1;33m \u001b[0mprint\u001b[0m\u001b[1;33m(\u001b[0m\u001b[0mnext\u001b[0m\u001b[1;33m(\u001b[0m\u001b[0mgen_var\u001b[0m\u001b[1;33m)\u001b[0m\u001b[1;33m)\u001b[0m\u001b[1;33m\u001b[0m\u001b[1;33m\u001b[0m\u001b[0m\n\u001b[0m",
      "\u001b[1;31mStopIteration\u001b[0m: "
     ]
    }
   ],
   "source": [
    "print(next(gen_var))"
   ]
  },
  {
   "cell_type": "code",
   "execution_count": 24,
   "id": "4af10051",
   "metadata": {},
   "outputs": [
    {
     "data": {
      "text/plain": [
       "4"
      ]
     },
     "execution_count": 24,
     "metadata": {},
     "output_type": "execute_result"
    }
   ],
   "source": [
    "min((i**2 for i in list1))"
   ]
  },
  {
   "cell_type": "code",
   "execution_count": 25,
   "id": "ad69e44f",
   "metadata": {},
   "outputs": [
    {
     "data": {
      "text/plain": [
       "100"
      ]
     },
     "execution_count": 25,
     "metadata": {},
     "output_type": "execute_result"
    }
   ],
   "source": [
    "max(i**2 for i in list1)"
   ]
  },
  {
   "cell_type": "markdown",
   "id": "412f74f4",
   "metadata": {},
   "source": [
    "##### Closure"
   ]
  },
  {
   "cell_type": "code",
   "execution_count": 31,
   "id": "c29a131b",
   "metadata": {},
   "outputs": [],
   "source": [
    "def outer_fun(arg):\n",
    "    def inner_func():\n",
    "        var1 = arg * 5\n",
    "        print(var1)\n",
    "    inner_func()"
   ]
  },
  {
   "cell_type": "code",
   "execution_count": 32,
   "id": "f1b91cbf",
   "metadata": {},
   "outputs": [
    {
     "name": "stdout",
     "output_type": "stream",
     "text": [
      "100\n"
     ]
    }
   ],
   "source": [
    "outer_fun(20)"
   ]
  },
  {
   "cell_type": "code",
   "execution_count": null,
   "id": "ecb1c9d6",
   "metadata": {},
   "outputs": [],
   "source": [
    "def outer_fun(arg):\n",
    "    \n",
    "    def inner_func():\n",
    "        var1 = arg * 5\n",
    "        print(var1)\n",
    "    inner_func()"
   ]
  },
  {
   "cell_type": "code",
   "execution_count": 11,
   "id": "8eb7d4e4",
   "metadata": {},
   "outputs": [],
   "source": [
    "def outer_fun(arg):\n",
    "    def inner_func():\n",
    "        var1 = arg * 5\n",
    "        print(var1)\n",
    "    return inner_fun"
   ]
  },
  {
   "cell_type": "code",
   "execution_count": 12,
   "id": "e09b950d",
   "metadata": {},
   "outputs": [
    {
     "ename": "NameError",
     "evalue": "name 'inner_fun' is not defined",
     "output_type": "error",
     "traceback": [
      "\u001b[1;31m---------------------------------------------------------------------------\u001b[0m",
      "\u001b[1;31mNameError\u001b[0m                                 Traceback (most recent call last)",
      "\u001b[1;32m~\\AppData\\Local\\Temp/ipykernel_7352/3835783774.py\u001b[0m in \u001b[0;36m<module>\u001b[1;34m\u001b[0m\n\u001b[1;32m----> 1\u001b[1;33m \u001b[0mfun_ret\u001b[0m \u001b[1;33m=\u001b[0m \u001b[0mouter_fun\u001b[0m\u001b[1;33m(\u001b[0m\u001b[1;36m50\u001b[0m\u001b[1;33m)\u001b[0m\u001b[1;33m\u001b[0m\u001b[1;33m\u001b[0m\u001b[0m\n\u001b[0m",
      "\u001b[1;32m~\\AppData\\Local\\Temp/ipykernel_7352/1100611070.py\u001b[0m in \u001b[0;36mouter_fun\u001b[1;34m(arg)\u001b[0m\n\u001b[0;32m      3\u001b[0m         \u001b[0mvar1\u001b[0m \u001b[1;33m=\u001b[0m \u001b[0marg\u001b[0m \u001b[1;33m*\u001b[0m \u001b[1;36m5\u001b[0m\u001b[1;33m\u001b[0m\u001b[1;33m\u001b[0m\u001b[0m\n\u001b[0;32m      4\u001b[0m         \u001b[0mprint\u001b[0m\u001b[1;33m(\u001b[0m\u001b[0mvar1\u001b[0m\u001b[1;33m)\u001b[0m\u001b[1;33m\u001b[0m\u001b[1;33m\u001b[0m\u001b[0m\n\u001b[1;32m----> 5\u001b[1;33m     \u001b[1;32mreturn\u001b[0m \u001b[0minner_fun\u001b[0m\u001b[1;33m\u001b[0m\u001b[1;33m\u001b[0m\u001b[0m\n\u001b[0m",
      "\u001b[1;31mNameError\u001b[0m: name 'inner_fun' is not defined"
     ]
    }
   ],
   "source": [
    "fun_ret = outer_fun(50)"
   ]
  },
  {
   "cell_type": "markdown",
   "id": "045ed178",
   "metadata": {},
   "source": [
    "#### Decorators"
   ]
  },
  {
   "cell_type": "code",
   "execution_count": 13,
   "id": "f4ef3d7c",
   "metadata": {},
   "outputs": [
    {
     "name": "stdout",
     "output_type": "stream",
     "text": [
      "Print function1\n"
     ]
    }
   ],
   "source": [
    "def funct1():\n",
    "    print('Print function1')\n",
    "funct1()"
   ]
  },
  {
   "cell_type": "code",
   "execution_count": 18,
   "id": "0e1c0cad",
   "metadata": {},
   "outputs": [
    {
     "name": "stdout",
     "output_type": "stream",
     "text": [
      "Print function1\n"
     ]
    }
   ],
   "source": [
    "funct2 = funct1 # Referring to same location\n",
    "funct2()"
   ]
  },
  {
   "cell_type": "code",
   "execution_count": 32,
   "id": "f5dfe202",
   "metadata": {},
   "outputs": [
    {
     "ename": "SyntaxError",
     "evalue": "invalid syntax (Temp/ipykernel_7352/2279149135.py, line 2)",
     "output_type": "error",
     "traceback": [
      "\u001b[1;36m  File \u001b[1;32m\"C:\\Users\\karthikp\\AppData\\Local\\Temp/ipykernel_7352/2279149135.py\"\u001b[1;36m, line \u001b[1;32m2\u001b[0m\n\u001b[1;33m    i**2 for i in func3\u001b[0m\n\u001b[1;37m         ^\u001b[0m\n\u001b[1;31mSyntaxError\u001b[0m\u001b[1;31m:\u001b[0m invalid syntax\n"
     ]
    }
   ],
   "source": [
    "def func3(arg3):\n",
    "    i**2 for i in func3\n",
    "    print(i)"
   ]
  },
  {
   "cell_type": "code",
   "execution_count": 31,
   "id": "c90a53b0",
   "metadata": {},
   "outputs": [
    {
     "ename": "TypeError",
     "evalue": "'function' object is not iterable",
     "output_type": "error",
     "traceback": [
      "\u001b[1;31m---------------------------------------------------------------------------\u001b[0m",
      "\u001b[1;31mTypeError\u001b[0m                                 Traceback (most recent call last)",
      "\u001b[1;32m~\\AppData\\Local\\Temp/ipykernel_7352/279095172.py\u001b[0m in \u001b[0;36m<module>\u001b[1;34m\u001b[0m\n\u001b[1;32m----> 1\u001b[1;33m \u001b[0mfunc3\u001b[0m\u001b[1;33m(\u001b[0m\u001b[1;36m2\u001b[0m\u001b[1;33m)\u001b[0m\u001b[1;33m\u001b[0m\u001b[1;33m\u001b[0m\u001b[0m\n\u001b[0m",
      "\u001b[1;32m~\\AppData\\Local\\Temp/ipykernel_7352/1952745585.py\u001b[0m in \u001b[0;36mfunc3\u001b[1;34m(arg3)\u001b[0m\n\u001b[0;32m      1\u001b[0m \u001b[1;32mdef\u001b[0m \u001b[0mfunc3\u001b[0m\u001b[1;33m(\u001b[0m\u001b[0marg3\u001b[0m\u001b[1;33m)\u001b[0m\u001b[1;33m:\u001b[0m\u001b[1;33m\u001b[0m\u001b[1;33m\u001b[0m\u001b[0m\n\u001b[1;32m----> 2\u001b[1;33m     \u001b[1;33m(\u001b[0m\u001b[0mi\u001b[0m\u001b[1;33m**\u001b[0m\u001b[1;36m2\u001b[0m \u001b[1;32mfor\u001b[0m \u001b[0mi\u001b[0m \u001b[1;32min\u001b[0m \u001b[0mfunc3\u001b[0m\u001b[1;33m)\u001b[0m\u001b[1;33m\u001b[0m\u001b[1;33m\u001b[0m\u001b[0m\n\u001b[0m\u001b[0;32m      3\u001b[0m     \u001b[0mprint\u001b[0m\u001b[1;33m(\u001b[0m\u001b[0mi\u001b[0m\u001b[1;33m)\u001b[0m\u001b[1;33m\u001b[0m\u001b[1;33m\u001b[0m\u001b[0m\n",
      "\u001b[1;31mTypeError\u001b[0m: 'function' object is not iterable"
     ]
    }
   ],
   "source": [
    "func3(2)"
   ]
  },
  {
   "cell_type": "code",
   "execution_count": 33,
   "id": "75b248b9",
   "metadata": {},
   "outputs": [
    {
     "data": {
      "text/plain": [
       "8"
      ]
     },
     "execution_count": 33,
     "metadata": {},
     "output_type": "execute_result"
    }
   ],
   "source": [
    "def function(func, val):\n",
    "    result = func(val)\n",
    "    return(result)\n",
    "def Square(var):\n",
    "    return(var*var)\n",
    "def Cube(var):\n",
    "    return(var*var*var)\n",
    "function(Square, 2)\n",
    "function(Cube, 2)"
   ]
  },
  {
   "cell_type": "code",
   "execution_count": 34,
   "id": "7ab4710e",
   "metadata": {},
   "outputs": [],
   "source": [
    "def func01(arg):\n",
    "    return arg **2\n",
    "def func02(arg2):\n",
    "    return arg2 **3\n",
    "\n",
    "def func3(func1,arg):\n",
    "    return func1(arg)"
   ]
  },
  {
   "cell_type": "code",
   "execution_count": 35,
   "id": "930862d9",
   "metadata": {},
   "outputs": [
    {
     "data": {
      "text/plain": [
       "4"
      ]
     },
     "execution_count": 35,
     "metadata": {},
     "output_type": "execute_result"
    }
   ],
   "source": [
    "func01(2)"
   ]
  },
  {
   "cell_type": "code",
   "execution_count": 36,
   "id": "f91a5821",
   "metadata": {},
   "outputs": [
    {
     "data": {
      "text/plain": [
       "27"
      ]
     },
     "execution_count": 36,
     "metadata": {},
     "output_type": "execute_result"
    }
   ],
   "source": [
    "func02(3)"
   ]
  },
  {
   "cell_type": "code",
   "execution_count": 37,
   "id": "5d0266fb",
   "metadata": {},
   "outputs": [],
   "source": [
    "def square(a):\n",
    "    return a**2\n",
    "\n",
    "def cube(c):\n",
    "    return c**3\n",
    "\n",
    "def calculation(func001, val):\n",
    "    result = func001(val)\n",
    "    return result\n"
   ]
  },
  {
   "cell_type": "code",
   "execution_count": 38,
   "id": "c9a50216",
   "metadata": {},
   "outputs": [
    {
     "data": {
      "text/plain": [
       "16"
      ]
     },
     "execution_count": 38,
     "metadata": {},
     "output_type": "execute_result"
    }
   ],
   "source": [
    "calculation(square,4)"
   ]
  },
  {
   "cell_type": "code",
   "execution_count": null,
   "id": "a2199188",
   "metadata": {},
   "outputs": [],
   "source": []
  },
  {
   "cell_type": "code",
   "execution_count": null,
   "id": "c3d989a6",
   "metadata": {},
   "outputs": [],
   "source": []
  },
  {
   "cell_type": "code",
   "execution_count": null,
   "id": "47ee1fbb",
   "metadata": {},
   "outputs": [],
   "source": []
  },
  {
   "cell_type": "code",
   "execution_count": null,
   "id": "5ef52912",
   "metadata": {},
   "outputs": [],
   "source": []
  },
  {
   "cell_type": "code",
   "execution_count": null,
   "id": "8fe52d31",
   "metadata": {},
   "outputs": [],
   "source": []
  },
  {
   "cell_type": "code",
   "execution_count": null,
   "id": "27f87971",
   "metadata": {},
   "outputs": [],
   "source": []
  },
  {
   "cell_type": "code",
   "execution_count": null,
   "id": "3e490c62",
   "metadata": {},
   "outputs": [],
   "source": []
  },
  {
   "cell_type": "code",
   "execution_count": null,
   "id": "184832b9",
   "metadata": {},
   "outputs": [],
   "source": []
  },
  {
   "cell_type": "code",
   "execution_count": null,
   "id": "10e5cfab",
   "metadata": {},
   "outputs": [],
   "source": []
  },
  {
   "cell_type": "code",
   "execution_count": null,
   "id": "6aceb66b",
   "metadata": {},
   "outputs": [],
   "source": []
  },
  {
   "cell_type": "code",
   "execution_count": null,
   "id": "77a7fbca",
   "metadata": {},
   "outputs": [],
   "source": []
  },
  {
   "cell_type": "code",
   "execution_count": null,
   "id": "c1c389d8",
   "metadata": {},
   "outputs": [],
   "source": []
  },
  {
   "cell_type": "code",
   "execution_count": null,
   "id": "1a6cfacc",
   "metadata": {},
   "outputs": [],
   "source": []
  },
  {
   "cell_type": "code",
   "execution_count": null,
   "id": "d263b587",
   "metadata": {},
   "outputs": [],
   "source": []
  },
  {
   "cell_type": "code",
   "execution_count": null,
   "id": "06a536be",
   "metadata": {},
   "outputs": [],
   "source": []
  },
  {
   "cell_type": "code",
   "execution_count": null,
   "id": "abb92611",
   "metadata": {},
   "outputs": [],
   "source": []
  },
  {
   "cell_type": "code",
   "execution_count": null,
   "id": "71716bf6",
   "metadata": {},
   "outputs": [],
   "source": []
  },
  {
   "cell_type": "code",
   "execution_count": null,
   "id": "58f50772",
   "metadata": {},
   "outputs": [],
   "source": []
  },
  {
   "cell_type": "code",
   "execution_count": null,
   "id": "71d2a8f6",
   "metadata": {},
   "outputs": [],
   "source": []
  },
  {
   "cell_type": "code",
   "execution_count": null,
   "id": "2a6e64e7",
   "metadata": {},
   "outputs": [],
   "source": []
  },
  {
   "cell_type": "code",
   "execution_count": null,
   "id": "83832b2a",
   "metadata": {},
   "outputs": [],
   "source": []
  },
  {
   "cell_type": "code",
   "execution_count": null,
   "id": "d0cc831a",
   "metadata": {},
   "outputs": [],
   "source": []
  },
  {
   "cell_type": "code",
   "execution_count": null,
   "id": "d575e365",
   "metadata": {},
   "outputs": [],
   "source": []
  },
  {
   "cell_type": "code",
   "execution_count": null,
   "id": "6330a84e",
   "metadata": {},
   "outputs": [],
   "source": []
  },
  {
   "cell_type": "code",
   "execution_count": null,
   "id": "46db3181",
   "metadata": {},
   "outputs": [],
   "source": []
  },
  {
   "cell_type": "code",
   "execution_count": null,
   "id": "812bfa3d",
   "metadata": {},
   "outputs": [],
   "source": []
  },
  {
   "cell_type": "code",
   "execution_count": null,
   "id": "f3b7412a",
   "metadata": {},
   "outputs": [],
   "source": []
  },
  {
   "cell_type": "code",
   "execution_count": null,
   "id": "9b130e80",
   "metadata": {},
   "outputs": [],
   "source": []
  },
  {
   "cell_type": "code",
   "execution_count": null,
   "id": "96dd42d6",
   "metadata": {},
   "outputs": [],
   "source": []
  },
  {
   "cell_type": "code",
   "execution_count": null,
   "id": "80b7d44a",
   "metadata": {},
   "outputs": [],
   "source": []
  },
  {
   "cell_type": "code",
   "execution_count": null,
   "id": "7902de7f",
   "metadata": {},
   "outputs": [],
   "source": []
  },
  {
   "cell_type": "code",
   "execution_count": null,
   "id": "3a656f63",
   "metadata": {},
   "outputs": [],
   "source": []
  },
  {
   "cell_type": "code",
   "execution_count": null,
   "id": "2e38ccb5",
   "metadata": {},
   "outputs": [],
   "source": []
  },
  {
   "cell_type": "code",
   "execution_count": null,
   "id": "b8a46df4",
   "metadata": {},
   "outputs": [],
   "source": []
  }
 ],
 "metadata": {
  "kernelspec": {
   "display_name": "Python 3 (ipykernel)",
   "language": "python",
   "name": "python3"
  },
  "language_info": {
   "codemirror_mode": {
    "name": "ipython",
    "version": 3
   },
   "file_extension": ".py",
   "mimetype": "text/x-python",
   "name": "python",
   "nbconvert_exporter": "python",
   "pygments_lexer": "ipython3",
   "version": "3.9.7"
  }
 },
 "nbformat": 4,
 "nbformat_minor": 5
}
