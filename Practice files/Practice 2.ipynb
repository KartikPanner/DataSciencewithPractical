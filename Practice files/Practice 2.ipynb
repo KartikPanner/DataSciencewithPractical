{
 "cells": [
  {
   "cell_type": "code",
   "execution_count": 1,
   "id": "24e58d7c",
   "metadata": {},
   "outputs": [
    {
     "name": "stdout",
     "output_type": "stream",
     "text": [
      "Inside Global Var\n",
      "Outside Global Var\n"
     ]
    }
   ],
   "source": [
    "v = 'Global Var'\n",
    "\n",
    "def f2():\n",
    "    print('Inside',v)\n",
    "    \n",
    "f2()\n",
    "print('Outside',v)"
   ]
  },
  {
   "cell_type": "code",
   "execution_count": 2,
   "id": "66de86f2",
   "metadata": {},
   "outputs": [
    {
     "name": "stdout",
     "output_type": "stream",
     "text": [
      "1\n",
      "2\n",
      "3\n",
      "4\n"
     ]
    }
   ],
   "source": [
    "my_list1 = [1,2,3,4,5]\n",
    "my_iter = iter(my_list1)\n",
    "print(next(my_iter))\n",
    "print(next(my_iter))\n",
    "print(next(my_iter))\n",
    "print(next(my_iter))"
   ]
  },
  {
   "cell_type": "code",
   "execution_count": 3,
   "id": "32d4ec93",
   "metadata": {},
   "outputs": [],
   "source": [
    "def Fibonacci(n):\n",
    "    a=-1\n",
    "    b=1\n",
    "    c=a+b\n",
    "    print(c)\n",
    "\n",
    "n=range(0,10)"
   ]
  },
  {
   "cell_type": "code",
   "execution_count": null,
   "id": "32a3bb55",
   "metadata": {},
   "outputs": [],
   "source": [
    "num1 = int(input('Enter a number: '))\n",
    "fact = 1\n",
    "\n",
    "if num1 <= 0:\n",
    "    print('Factorial cannot be done for numbers <= 0')\n",
    "\n",
    "elif num1 == 0:\n",
    "    print ('Factorial of Zero is 1')\n",
    "\n",
    "else:\n",
    "    for i in range(1,num1+1):\n",
    "        fact = fact*i\n",
    "    print ( 'The factorial of given number is, ', fact)\n"
   ]
  },
  {
   "cell_type": "code",
   "execution_count": null,
   "id": "390c69e6",
   "metadata": {},
   "outputs": [],
   "source": [
    "num2 = int(input('Enter a number to get factorial of it: '))\n",
    "fact = 1\n",
    "\n",
    "if num2 < 0:\n",
    "    print ('Factorial not possible for negative number')\n",
    "\n",
    "elif num2 == 0:\n",
    "    print ('Factorial of Zero is 1')\n",
    "\n",
    "else:\n",
    "    for i in range (1,num2+1):\n",
    "        fact = fact*i\n",
    "    print ('Factorial of given number is: ', fact)"
   ]
  },
  {
   "cell_type": "code",
   "execution_count": null,
   "id": "81ea444e",
   "metadata": {},
   "outputs": [],
   "source": [
    "def num2():\n",
    "    num2 = int(input('Enter a number to get factorial of it: '))\n",
    "fact = 1\n",
    "\n",
    "if num2 < 0:\n",
    "    print ('Factorial not possible for negative number')\n",
    "\n",
    "elif num2 == 0:\n",
    "    print ('Factorial of Zero is 1')\n",
    "\n",
    "else:\n",
    "    for i in range (1,num2+1):\n",
    "        fact = fact*i\n",
    "    print ('Factorial of given number is: ', fact)"
   ]
  },
  {
   "cell_type": "code",
   "execution_count": null,
   "id": "8eeb92ae",
   "metadata": {},
   "outputs": [],
   "source": [
    "num2 = int(input('Enter a number to get factorial of it: '))\n",
    "fact = 1\n",
    "\n",
    "if num2 < 0:\n",
    "    print ('Factorial not possible for negative number')\n",
    "\n",
    "elif num2 == 0:\n",
    "    print ('Factorial of Zero is 1')\n",
    "\n",
    "else:\n",
    "    for i in range (1,num2+1):\n",
    "        fact = fact*i\n",
    "    print ('Factorial of given number is: ', fact)"
   ]
  },
  {
   "cell_type": "code",
   "execution_count": null,
   "id": "1c054ac5",
   "metadata": {},
   "outputs": [],
   "source": [
    "num2 = int(input('Enter a number to get factorial of it: '))\n",
    "fact = 1\n",
    "\n",
    "if num2 < 0:\n",
    "    print ('Factorial not possible for negative number')\n",
    "\n",
    "elif num2 == 0:\n",
    "    print ('Factorial of Zero is 1')\n",
    "\n",
    "else:\n",
    "    for i in range (1,num2+1):\n",
    "        fact = fact*i\n",
    "    print ('Factorial of given number is: ', fact)"
   ]
  },
  {
   "cell_type": "code",
   "execution_count": null,
   "id": "6a3c584a",
   "metadata": {},
   "outputs": [],
   "source": [
    "def fact_num(n):\n",
    "    if n == 1:\n",
    "        return n\n",
    "    else:\n",
    "        return n*fact_num(n-1)\n",
    "\n",
    "num=int(input('Enter a number: '))\n",
    "if num < 0:\n",
    "    print('Factorial cannot be calculated for negative number')\n",
    "elif num == 0:\n",
    "    print('Factorial if Zero is 1')\n",
    "else:\n",
    "    print('The factorial of',num,fact_num(num))"
   ]
  },
  {
   "cell_type": "code",
   "execution_count": null,
   "id": "65e96799",
   "metadata": {},
   "outputs": [],
   "source": [
    "fact_num(num)"
   ]
  },
  {
   "cell_type": "code",
   "execution_count": null,
   "id": "0d007ba2",
   "metadata": {},
   "outputs": [],
   "source": [
    "def fact_num1(n):\n",
    "    if n == 1:\n",
    "        return n\n",
    "    else:\n",
    "        return n*fact_num1(n-1)\n",
    "\n",
    "num=int(input('Enter a number'))\n",
    "if num<0:\n",
    "    print('Factorial cannot be done for Negative #')\n",
    "elif num==0:\n",
    "    print('Factorial of Zero is 1')\n",
    "else:\n",
    "    print('The factorial of',num,'is',fact_num1(num))"
   ]
  },
  {
   "cell_type": "code",
   "execution_count": null,
   "id": "37ccef11",
   "metadata": {},
   "outputs": [],
   "source": [
    "import my_packages"
   ]
  },
  {
   "cell_type": "code",
   "execution_count": null,
   "id": "57115dc5",
   "metadata": {},
   "outputs": [],
   "source": [
    "from my_packages import fact_num1"
   ]
  },
  {
   "cell_type": "code",
   "execution_count": null,
   "id": "2b07f632",
   "metadata": {},
   "outputs": [],
   "source": [
    "def deg_far(n):\n",
    "    num=float(input('Enter a number: '))\n",
    "    n1=float(1.8)\n",
    "    n=(num*n1)+32\n",
    "    print('The Farenheit  of entered value is', n)"
   ]
  },
  {
   "cell_type": "code",
   "execution_count": null,
   "id": "4ceda5d9",
   "metadata": {},
   "outputs": [],
   "source": [
    "deg_far(n)"
   ]
  },
  {
   "cell_type": "code",
   "execution_count": null,
   "id": "b0736315",
   "metadata": {},
   "outputs": [],
   "source": [
    "from my_packages import Calc"
   ]
  },
  {
   "cell_type": "code",
   "execution_count": null,
   "id": "2a527e93",
   "metadata": {},
   "outputs": [],
   "source": [
    "deg_far(n)"
   ]
  },
  {
   "cell_type": "code",
   "execution_count": null,
   "id": "e4725f29",
   "metadata": {},
   "outputs": [],
   "source": [
    "from my_packages import Calc"
   ]
  },
  {
   "cell_type": "code",
   "execution_count": null,
   "id": "53970825",
   "metadata": {},
   "outputs": [],
   "source": [
    "deg_far(n)"
   ]
  },
  {
   "cell_type": "code",
   "execution_count": null,
   "id": "12e91710",
   "metadata": {},
   "outputs": [],
   "source": [
    "def generator_func(a,b):\n",
    "    return (a+b)\n",
    "generator_func(5,7)"
   ]
  },
  {
   "cell_type": "code",
   "execution_count": null,
   "id": "3ec66598",
   "metadata": {},
   "outputs": [],
   "source": [
    "def generator_func1():\n",
    "    num=list(range(10))\n",
    "    print('First number',num)\n",
    "    yield num"
   ]
  },
  {
   "cell_type": "code",
   "execution_count": null,
   "id": "8b4d6da3",
   "metadata": {},
   "outputs": [],
   "source": [
    "var1 = generator_func1()"
   ]
  },
  {
   "cell_type": "code",
   "execution_count": null,
   "id": "34e52b2e",
   "metadata": {},
   "outputs": [],
   "source": [
    "next(var1)"
   ]
  },
  {
   "cell_type": "code",
   "execution_count": null,
   "id": "f8e26367",
   "metadata": {},
   "outputs": [],
   "source": []
  },
  {
   "cell_type": "code",
   "execution_count": null,
   "id": "8eaca6ab",
   "metadata": {},
   "outputs": [],
   "source": [
    "var1 = range(1,20,3)\n",
    "for i in var1:\n",
    "    if i==13:\n",
    "        continue\n",
    "    print ('I have',i,'days to complete the homework')"
   ]
  },
  {
   "cell_type": "code",
   "execution_count": null,
   "id": "7eadbc90",
   "metadata": {},
   "outputs": [],
   "source": [
    "def var1(*a):\n",
    "    for i in a:\n",
    "        print('I love',i)"
   ]
  },
  {
   "cell_type": "code",
   "execution_count": null,
   "id": "edbcb97b",
   "metadata": {},
   "outputs": [],
   "source": [
    "var1('Agra','Chennai','Mumbai','Bengaluru')"
   ]
  },
  {
   "cell_type": "code",
   "execution_count": null,
   "id": "6d7a438a",
   "metadata": {},
   "outputs": [],
   "source": [
    "def rec(k):\n",
    "    if (k>0):\n",
    "        result=k+rec(k-1)\n",
    "        print(result)\n",
    "    else:\n",
    "        result = 0\n",
    "    return result"
   ]
  },
  {
   "cell_type": "code",
   "execution_count": null,
   "id": "302c7c9a",
   "metadata": {},
   "outputs": [],
   "source": [
    "rec(5)"
   ]
  },
  {
   "cell_type": "code",
   "execution_count": null,
   "id": "36d591e8",
   "metadata": {},
   "outputs": [],
   "source": [
    "def sum_list(x):\n",
    "    if x==0:\n",
    "        return x\n",
    "    else:\n",
    "        return x+sum_list(x-1)"
   ]
  },
  {
   "cell_type": "code",
   "execution_count": null,
   "id": "843f9b35",
   "metadata": {},
   "outputs": [],
   "source": [
    "sum_list(5)"
   ]
  },
  {
   "cell_type": "code",
   "execution_count": null,
   "id": "02917145",
   "metadata": {},
   "outputs": [],
   "source": [
    "def list_sum(num_list):\n",
    "    if len(num_list) == 1:\n",
    "        return num_list[0]\n",
    "    else:\n",
    "        return num_list[0] + list_sum(num_list[1:])\n",
    "\n",
    "print(list_sum([0,1,2,3,4,5]))"
   ]
  },
  {
   "cell_type": "code",
   "execution_count": null,
   "id": "683fa807",
   "metadata": {},
   "outputs": [],
   "source": [
    "list1=[0,3,6,1,9,10,11]\n",
    "print(list1[4:\n",
    "           ])"
   ]
  },
  {
   "cell_type": "code",
   "execution_count": null,
   "id": "9e6e0506",
   "metadata": {},
   "outputs": [],
   "source": [
    "def list_sum1(x):\n",
    "    if x==0:\n",
    "        return x\n",
    "    else:\n",
    "        return x + list_sum1(x-1)"
   ]
  },
  {
   "cell_type": "code",
   "execution_count": null,
   "id": "e502d331",
   "metadata": {},
   "outputs": [],
   "source": [
    "list_sum1(5)"
   ]
  },
  {
   "cell_type": "code",
   "execution_count": null,
   "id": "2a359a05",
   "metadata": {},
   "outputs": [],
   "source": [
    "type([])"
   ]
  },
  {
   "cell_type": "code",
   "execution_count": null,
   "id": "37472948",
   "metadata": {},
   "outputs": [],
   "source": [
    "def sum_list1(x):\n",
    "    total = 0\n",
    "    for n in x:\n",
    "        if type(n) == type([]):\n",
    "            total = total + sum_list1(x)\n",
    "        else:\n",
    "            total = total + n\n",
    "    return total\n",
    "print (sum_list1([1, 2, [3,4],[5,6]]))"
   ]
  },
  {
   "cell_type": "code",
   "execution_count": null,
   "id": "be323947",
   "metadata": {},
   "outputs": [],
   "source": [
    "x1 =range(6)\n",
    "for n in x1:\n",
    "    total = n+1\n",
    "print(total)"
   ]
  },
  {
   "cell_type": "code",
   "execution_count": null,
   "id": "362a3a33",
   "metadata": {},
   "outputs": [],
   "source": [
    "a = int(input('Enter a value : '))\n",
    "b = int(input('Enter b value: '))\n",
    "if a > b:\n",
    "    print(a)"
   ]
  },
  {
   "cell_type": "code",
   "execution_count": 2,
   "id": "ace070af",
   "metadata": {},
   "outputs": [],
   "source": [
    "class parent:\n",
    "    counter = 10\n",
    "    def __init__ (self):\n",
    "        print('1st line')\n",
    "    def parentFunc(self):\n",
    "        print('2nd line')\n",
    "    def setCounter(self,num):\n",
    "        parent.counter = num\n",
    "    def showCountery(self):\n",
    "        print(str(parent.Counter))"
   ]
  },
  {
   "cell_type": "code",
   "execution_count": null,
   "id": "f521631d",
   "metadata": {},
   "outputs": [],
   "source": []
  },
  {
   "cell_type": "code",
   "execution_count": null,
   "id": "92d6de2b",
   "metadata": {},
   "outputs": [],
   "source": []
  },
  {
   "cell_type": "code",
   "execution_count": null,
   "id": "81c010ea",
   "metadata": {},
   "outputs": [],
   "source": []
  }
 ],
 "metadata": {
  "kernelspec": {
   "display_name": "Python 3 (ipykernel)",
   "language": "python",
   "name": "python3"
  },
  "language_info": {
   "codemirror_mode": {
    "name": "ipython",
    "version": 3
   },
   "file_extension": ".py",
   "mimetype": "text/x-python",
   "name": "python",
   "nbconvert_exporter": "python",
   "pygments_lexer": "ipython3",
   "version": "3.9.7"
  }
 },
 "nbformat": 4,
 "nbformat_minor": 5
}
