{
 "cells": [
  {
   "cell_type": "code",
   "execution_count": null,
   "id": "fca0630e",
   "metadata": {},
   "outputs": [],
   "source": [
    "num = int ( input('Enter a number: '))\n",
    "i = 0\n",
    "sum_var = 0\n",
    "\n",
    "while i < num:\n",
    "    sum_var = sum_var+i\n",
    "    i = i+1\n",
    "print ('The sum of number is',sum_var)\n",
    "    "
   ]
  },
  {
   "cell_type": "code",
   "execution_count": null,
   "id": "ceb548d1",
   "metadata": {},
   "outputs": [],
   "source": [
    "n = 1\n",
    "while n < 6:\n",
    "    print (n)\n",
    "    n += 1"
   ]
  },
  {
   "cell_type": "code",
   "execution_count": null,
   "id": "c4ee1c23",
   "metadata": {},
   "outputs": [],
   "source": [
    "i = 1\n",
    "while i<6:\n",
    "    print(i)\n",
    "    i = i+1"
   ]
  },
  {
   "cell_type": "code",
   "execution_count": null,
   "id": "99ee2ec7",
   "metadata": {},
   "outputs": [],
   "source": [
    "i = 1\n",
    "while i<5:\n",
    "    print(i)\n",
    "    if i == 3:\n",
    "        break\n",
    "    i = i+1"
   ]
  },
  {
   "cell_type": "code",
   "execution_count": 1,
   "id": "25379902",
   "metadata": {},
   "outputs": [
    {
     "name": "stdout",
     "output_type": "stream",
     "text": [
      "Enter a number :5\n",
      "0\n",
      "1\n",
      "2\n",
      "The total of entered # is 3\n"
     ]
    }
   ],
   "source": [
    "num1 = int(input('Enter a number :'))\n",
    "\n",
    "i = 0\n",
    "sum_var1 = 0\n",
    "\n",
    "while i < 5:\n",
    "    print(i)\n",
    "    sum_var1 = i + sum_var1\n",
    "    if i == 2:\n",
    "        break\n",
    "    i = i +1\n",
    "print('The total of entered # is', sum_var1)"
   ]
  },
  {
   "cell_type": "code",
   "execution_count": 5,
   "id": "4257a8ee",
   "metadata": {},
   "outputs": [
    {
     "name": "stdout",
     "output_type": "stream",
     "text": [
      "c\n",
      "o\n",
      "u\n",
      "n\n",
      "t\n",
      "y\n"
     ]
    }
   ],
   "source": [
    "for i in 'country':\n",
    "    if i == 'r':\n",
    "        continue\n",
    "    print(i)"
   ]
  },
  {
   "cell_type": "code",
   "execution_count": 7,
   "id": "e121168e",
   "metadata": {},
   "outputs": [
    {
     "name": "stdout",
     "output_type": "stream",
     "text": [
      "c\n",
      "o\n",
      "u\n"
     ]
    }
   ],
   "source": [
    "for i in 'country':\n",
    "    if i == 'n':\n",
    "        break\n",
    "    print(i)"
   ]
  },
  {
   "cell_type": "code",
   "execution_count": 12,
   "id": "ea998d59",
   "metadata": {},
   "outputs": [],
   "source": [
    "list1 = ['Chennai', 'Bengalure', 'Kolkata']\n",
    "\n",
    "for i in list1:\n",
    "    pass"
   ]
  },
  {
   "cell_type": "code",
   "execution_count": 17,
   "id": "72a3509a",
   "metadata": {},
   "outputs": [],
   "source": [
    "def gd_mr (Org1):\n",
    "    print ('Hi',Org1)"
   ]
  },
  {
   "cell_type": "code",
   "execution_count": 18,
   "id": "b8f65074",
   "metadata": {},
   "outputs": [
    {
     "name": "stdout",
     "output_type": "stream",
     "text": [
      "Hi Good Morning\n"
     ]
    }
   ],
   "source": [
    "gd_mr('Good Morning')"
   ]
  },
  {
   "cell_type": "code",
   "execution_count": 19,
   "id": "e93caf78",
   "metadata": {},
   "outputs": [],
   "source": [
    "def gd_mr2 ( org2 ):\n",
    "    print ('How',org2)"
   ]
  },
  {
   "cell_type": "code",
   "execution_count": 20,
   "id": "39df3dc5",
   "metadata": {},
   "outputs": [
    {
     "name": "stdout",
     "output_type": "stream",
     "text": [
      "How r u\n"
     ]
    }
   ],
   "source": [
    "gd_mr2('r u')"
   ]
  },
  {
   "cell_type": "code",
   "execution_count": 21,
   "id": "a882fa20",
   "metadata": {},
   "outputs": [],
   "source": [
    "def value(k):\n",
    "    if k>0:\n",
    "        print(k)\n",
    "    elif k<0:\n",
    "        t = k * -1\n",
    "        print(t)"
   ]
  },
  {
   "cell_type": "code",
   "execution_count": 22,
   "id": "587708ef",
   "metadata": {},
   "outputs": [
    {
     "name": "stdout",
     "output_type": "stream",
     "text": [
      "9\n"
     ]
    }
   ],
   "source": [
    "value(-9)"
   ]
  },
  {
   "cell_type": "code",
   "execution_count": 32,
   "id": "24ab6838",
   "metadata": {},
   "outputs": [],
   "source": [
    "def value(a):\n",
    "    if a>0:\n",
    "        print(a)\n",
    "    else:\n",
    "        t = a*-1\n",
    "        print(t)"
   ]
  },
  {
   "cell_type": "code",
   "execution_count": 33,
   "id": "fa3e8ee5",
   "metadata": {},
   "outputs": [
    {
     "name": "stdout",
     "output_type": "stream",
     "text": [
      "3\n"
     ]
    }
   ],
   "source": [
    "value(-3)"
   ]
  },
  {
   "cell_type": "code",
   "execution_count": 36,
   "id": "3983aeb9",
   "metadata": {},
   "outputs": [],
   "source": [
    "def rtrn1(a):\n",
    "    if a>0:\n",
    "        print(a)\n",
    "    else:\n",
    "        a = a*-1\n",
    "        return(a)"
   ]
  },
  {
   "cell_type": "code",
   "execution_count": 37,
   "id": "6409c250",
   "metadata": {},
   "outputs": [
    {
     "data": {
      "text/plain": [
       "8"
      ]
     },
     "execution_count": 37,
     "metadata": {},
     "output_type": "execute_result"
    }
   ],
   "source": [
    "rtrn1(-8)"
   ]
  },
  {
   "cell_type": "code",
   "execution_count": 11,
   "id": "e84d8914",
   "metadata": {},
   "outputs": [
    {
     "ename": "SyntaxError",
     "evalue": "invalid syntax (Temp/ipykernel_11512/906806053.py, line 3)",
     "output_type": "error",
     "traceback": [
      "\u001b[1;36m  File \u001b[1;32m\"C:\\Users\\karthikp\\AppData\\Local\\Temp/ipykernel_11512/906806053.py\"\u001b[1;36m, line \u001b[1;32m3\u001b[0m\n\u001b[1;33m    if n/2 = 1:\u001b[0m\n\u001b[1;37m           ^\u001b[0m\n\u001b[1;31mSyntaxError\u001b[0m\u001b[1;31m:\u001b[0m invalid syntax\n"
     ]
    }
   ],
   "source": [
    "n = int(input('Enter a number: '))\n",
    "\n",
    "if n/2 = 1:\n",
    "    print (\"Weird\")"
   ]
  },
  {
   "cell_type": "code",
   "execution_count": 1,
   "id": "9e2996ef",
   "metadata": {},
   "outputs": [
    {
     "name": "stdout",
     "output_type": "stream",
     "text": [
      "Hello\n"
     ]
    }
   ],
   "source": [
    "print('Hello')"
   ]
  },
  {
   "cell_type": "code",
   "execution_count": null,
   "id": "d48cc450",
   "metadata": {},
   "outputs": [],
   "source": []
  },
  {
   "cell_type": "code",
   "execution_count": 2,
   "id": "08214467",
   "metadata": {},
   "outputs": [
    {
     "name": "stdout",
     "output_type": "stream",
     "text": [
      "Enter a number:5\n",
      "1 \n",
      "1 2 \n",
      "1 2 3 \n",
      "1 2 3 4 \n",
      "1 2 3 4 5 \n"
     ]
    }
   ],
   "source": [
    "n=int(input('Enter a number:'))\n",
    "for i in range(n):\n",
    "    for j in range(i+1):\n",
    "        print(j+1,end=\" \")\n",
    "    print()"
   ]
  },
  {
   "cell_type": "code",
   "execution_count": 3,
   "id": "d94deb56",
   "metadata": {},
   "outputs": [
    {
     "data": {
      "text/plain": [
       "24"
      ]
     },
     "execution_count": 3,
     "metadata": {},
     "output_type": "execute_result"
    }
   ],
   "source": [
    "4*6"
   ]
  },
  {
   "cell_type": "code",
   "execution_count": 4,
   "id": "39bd7069",
   "metadata": {},
   "outputs": [
    {
     "data": {
      "text/plain": [
       "2"
      ]
     },
     "execution_count": 4,
     "metadata": {},
     "output_type": "execute_result"
    }
   ],
   "source": [
    "5//2"
   ]
  },
  {
   "cell_type": "code",
   "execution_count": 7,
   "id": "a64045c1",
   "metadata": {},
   "outputs": [
    {
     "name": "stdout",
     "output_type": "stream",
     "text": [
      "Youtube\n"
     ]
    }
   ],
   "source": [
    "name = 'Youtube'\n",
    "print(name)"
   ]
  },
  {
   "cell_type": "code",
   "execution_count": 23,
   "id": "5db3c01d",
   "metadata": {},
   "outputs": [
    {
     "data": {
      "text/plain": [
       "'t'"
      ]
     },
     "execution_count": 23,
     "metadata": {},
     "output_type": "execute_result"
    }
   ],
   "source": [
    "name[3:4]"
   ]
  },
  {
   "cell_type": "code",
   "execution_count": 25,
   "id": "492f1702",
   "metadata": {},
   "outputs": [
    {
     "data": {
      "text/plain": [
       "'mytube'"
      ]
     },
     "execution_count": 25,
     "metadata": {},
     "output_type": "execute_result"
    }
   ],
   "source": [
    "'my' + name[3:]"
   ]
  },
  {
   "cell_type": "code",
   "execution_count": 26,
   "id": "31a83751",
   "metadata": {},
   "outputs": [
    {
     "data": {
      "text/plain": [
       "[24, 30, 35, 60]"
      ]
     },
     "execution_count": 26,
     "metadata": {},
     "output_type": "execute_result"
    }
   ],
   "source": [
    "nums = [24,30,35,60]\n",
    "nums"
   ]
  },
  {
   "cell_type": "code",
   "execution_count": 27,
   "id": "0172743e",
   "metadata": {},
   "outputs": [
    {
     "data": {
      "text/plain": [
       "[25.8, 'String', 83, 4]"
      ]
     },
     "execution_count": 27,
     "metadata": {},
     "output_type": "execute_result"
    }
   ],
   "source": [
    "values = [25.8,'String',83,4]\n",
    "values"
   ]
  },
  {
   "cell_type": "code",
   "execution_count": 28,
   "id": "52aff123",
   "metadata": {},
   "outputs": [
    {
     "data": {
      "text/plain": [
       "[24, 30, 35, 60, 25.8, 'String', 83, 4]"
      ]
     },
     "execution_count": 28,
     "metadata": {},
     "output_type": "execute_result"
    }
   ],
   "source": [
    "mil = nums + values\n",
    "mil"
   ]
  },
  {
   "cell_type": "code",
   "execution_count": 29,
   "id": "ae9d33f4",
   "metadata": {},
   "outputs": [
    {
     "data": {
      "text/plain": [
       "[[24, 30, 35, 60], [25.8, 'String', 83, 4]]"
      ]
     },
     "execution_count": 29,
     "metadata": {},
     "output_type": "execute_result"
    }
   ],
   "source": [
    "mil1=[nums,values]\n",
    "mil1"
   ]
  },
  {
   "cell_type": "code",
   "execution_count": 32,
   "id": "29d2ea1e",
   "metadata": {},
   "outputs": [
    {
     "data": {
      "text/plain": [
       "[24, 30, 35, 60, 99, 99, 45]"
      ]
     },
     "execution_count": 32,
     "metadata": {},
     "output_type": "execute_result"
    }
   ],
   "source": [
    "nums.append(45)\n",
    "nums"
   ]
  },
  {
   "cell_type": "code",
   "execution_count": 34,
   "id": "fadab80c",
   "metadata": {},
   "outputs": [
    {
     "data": {
      "text/plain": [
       "[24, 30, 35, 60, 99]"
      ]
     },
     "execution_count": 34,
     "metadata": {},
     "output_type": "execute_result"
    }
   ],
   "source": [
    "nums.pop()\n",
    "nums"
   ]
  },
  {
   "cell_type": "code",
   "execution_count": 35,
   "id": "a1297c2d",
   "metadata": {},
   "outputs": [
    {
     "data": {
      "text/plain": [
       "[24, 30, 60, 99]"
      ]
     },
     "execution_count": 35,
     "metadata": {},
     "output_type": "execute_result"
    }
   ],
   "source": [
    "nums.remove(35)\n",
    "nums"
   ]
  },
  {
   "cell_type": "code",
   "execution_count": 37,
   "id": "ad397b59",
   "metadata": {},
   "outputs": [
    {
     "data": {
      "text/plain": [
       "[24, 30, 68, 60, 99]"
      ]
     },
     "execution_count": 37,
     "metadata": {},
     "output_type": "execute_result"
    }
   ],
   "source": [
    "nums.insert(2,68)\n",
    "nums"
   ]
  },
  {
   "cell_type": "code",
   "execution_count": 44,
   "id": "2a9b7cf7",
   "metadata": {},
   "outputs": [
    {
     "data": {
      "text/plain": [
       "60"
      ]
     },
     "execution_count": 44,
     "metadata": {},
     "output_type": "execute_result"
    }
   ],
   "source": [
    "nums.pop(2)"
   ]
  },
  {
   "cell_type": "code",
   "execution_count": 42,
   "id": "08804e7c",
   "metadata": {},
   "outputs": [
    {
     "data": {
      "text/plain": [
       "[24, 30, 60, 99]"
      ]
     },
     "execution_count": 42,
     "metadata": {},
     "output_type": "execute_result"
    }
   ],
   "source": [
    "nums"
   ]
  },
  {
   "cell_type": "code",
   "execution_count": 45,
   "id": "dac4c810",
   "metadata": {},
   "outputs": [
    {
     "data": {
      "text/plain": [
       "(2.8, 'Str', 8, 9)"
      ]
     },
     "execution_count": 45,
     "metadata": {},
     "output_type": "execute_result"
    }
   ],
   "source": [
    "tup = (2.8,'Str',8,9)\n",
    "tup"
   ]
  },
  {
   "cell_type": "code",
   "execution_count": 46,
   "id": "65584230",
   "metadata": {},
   "outputs": [
    {
     "data": {
      "text/plain": [
       "('av', 'cd', 'ef')"
      ]
     },
     "execution_count": 46,
     "metadata": {},
     "output_type": "execute_result"
    }
   ],
   "source": [
    "tup1 = ('av','cd','ef')\n",
    "tup1"
   ]
  },
  {
   "cell_type": "code",
   "execution_count": 50,
   "id": "9cb5e092",
   "metadata": {},
   "outputs": [
    {
     "data": {
      "text/plain": [
       "(2.8, 'Str', 8, 9, 'av', 'cd', 'ef')"
      ]
     },
     "execution_count": 50,
     "metadata": {},
     "output_type": "execute_result"
    }
   ],
   "source": [
    "chk = tup+tup1\n",
    "chk"
   ]
  },
  {
   "cell_type": "code",
   "execution_count": 1,
   "id": "956778cd",
   "metadata": {},
   "outputs": [
    {
     "data": {
      "text/plain": [
       "{1: 'Abc', 2: 'cde', 3: 'efg'}"
      ]
     },
     "execution_count": 1,
     "metadata": {},
     "output_type": "execute_result"
    }
   ],
   "source": [
    "data = {1:'Abc',2:'cde',3:'efg'}\n",
    "data"
   ]
  },
  {
   "cell_type": "code",
   "execution_count": 6,
   "id": "0ee128be",
   "metadata": {},
   "outputs": [
    {
     "data": {
      "text/plain": [
       "'cde'"
      ]
     },
     "execution_count": 6,
     "metadata": {},
     "output_type": "execute_result"
    }
   ],
   "source": [
    "data[2]"
   ]
  },
  {
   "cell_type": "code",
   "execution_count": 8,
   "id": "0c482015",
   "metadata": {},
   "outputs": [
    {
     "data": {
      "text/plain": [
       "'ghi'"
      ]
     },
     "execution_count": 8,
     "metadata": {},
     "output_type": "execute_result"
    }
   ],
   "source": [
    "data.get(4,'ghi')"
   ]
  },
  {
   "cell_type": "code",
   "execution_count": 12,
   "id": "1c32fc0d",
   "metadata": {},
   "outputs": [],
   "source": [
    "keys=['Navin','Kiran','Harsh']\n",
    "values = ['Python','Java','JS']"
   ]
  },
  {
   "cell_type": "code",
   "execution_count": 20,
   "id": "27eecf7d",
   "metadata": {},
   "outputs": [
    {
     "data": {
      "text/plain": [
       "{'Navin': 'Python', 'Kiran': 'Java', 'Harsh': 'JS'}"
      ]
     },
     "execution_count": 20,
     "metadata": {},
     "output_type": "execute_result"
    }
   ],
   "source": [
    "data1 = dict(zip(keys,values))\n",
    "data1"
   ]
  },
  {
   "cell_type": "code",
   "execution_count": 21,
   "id": "61bf044f",
   "metadata": {},
   "outputs": [
    {
     "data": {
      "text/plain": [
       "'JS'"
      ]
     },
     "execution_count": 21,
     "metadata": {},
     "output_type": "execute_result"
    }
   ],
   "source": [
    "data1['Harsh']"
   ]
  },
  {
   "cell_type": "code",
   "execution_count": 22,
   "id": "c2303d7c",
   "metadata": {},
   "outputs": [
    {
     "data": {
      "text/plain": [
       "{'Navin': 'Python', 'Kiran': 'Java', 'Harsh': 'JS', 'Monika': 'CS'}"
      ]
     },
     "execution_count": 22,
     "metadata": {},
     "output_type": "execute_result"
    }
   ],
   "source": [
    "data1['Monika']='CS'\n",
    "data1"
   ]
  },
  {
   "cell_type": "code",
   "execution_count": 23,
   "id": "4f25c199",
   "metadata": {},
   "outputs": [
    {
     "data": {
      "text/plain": [
       "{'Navin': 'Python', 'Kiran': 'Java', 'Harsh': 'JS'}"
      ]
     },
     "execution_count": 23,
     "metadata": {},
     "output_type": "execute_result"
    }
   ],
   "source": [
    "del data1['Monika']\n",
    "data1"
   ]
  },
  {
   "cell_type": "code",
   "execution_count": 28,
   "id": "2de6d700",
   "metadata": {},
   "outputs": [
    {
     "name": "stdout",
     "output_type": "stream",
     "text": [
      "{'JS': 'Atom', 'cs': 'vs', 'Python': ['Jupyter', 'Pycharm'], 'Java': {'JSE': 'Netbeans', 'JEE': 'Eclipse'}}\n"
     ]
    }
   ],
   "source": [
    "prog={'JS':'Atom','cs':'vs','Python':['Jupyter','Pycharm'],'Java':{'JSE':'Netbeans','JEE':'Eclipse'}}\n",
    "print(prog)"
   ]
  },
  {
   "cell_type": "code",
   "execution_count": 33,
   "id": "004a1036",
   "metadata": {},
   "outputs": [
    {
     "data": {
      "text/plain": [
       "'Atom'"
      ]
     },
     "execution_count": 33,
     "metadata": {},
     "output_type": "execute_result"
    }
   ],
   "source": [
    "prog['JS']"
   ]
  },
  {
   "cell_type": "code",
   "execution_count": 38,
   "id": "68327377",
   "metadata": {},
   "outputs": [
    {
     "data": {
      "text/plain": [
       "['Jupyter', 'Pycharm']"
      ]
     },
     "execution_count": 38,
     "metadata": {},
     "output_type": "execute_result"
    }
   ],
   "source": [
    "prog['Python']"
   ]
  },
  {
   "cell_type": "code",
   "execution_count": 40,
   "id": "118bf8e7",
   "metadata": {},
   "outputs": [
    {
     "data": {
      "text/plain": [
       "'Eclipse'"
      ]
     },
     "execution_count": 40,
     "metadata": {},
     "output_type": "execute_result"
    }
   ],
   "source": [
    "prog['Java']['JEE']"
   ]
  },
  {
   "cell_type": "code",
   "execution_count": 41,
   "id": "82a205d8",
   "metadata": {},
   "outputs": [
    {
     "data": {
      "text/plain": [
       "{'Navin': 'Samsung', 'Rahul': 'Iphone', 'Kiran': 'Oneplus'}"
      ]
     },
     "execution_count": 41,
     "metadata": {},
     "output_type": "execute_result"
    }
   ],
   "source": [
    "d = {'Navin':'Samsung','Rahul':'Iphone','Kiran':'Oneplus'}\n",
    "d"
   ]
  },
  {
   "cell_type": "code",
   "execution_count": 42,
   "id": "59552575",
   "metadata": {},
   "outputs": [
    {
     "data": {
      "text/plain": [
       "'Iphone'"
      ]
     },
     "execution_count": 42,
     "metadata": {},
     "output_type": "execute_result"
    }
   ],
   "source": [
    "d['Rahul']"
   ]
  },
  {
   "cell_type": "code",
   "execution_count": null,
   "id": "1532cf4f",
   "metadata": {},
   "outputs": [],
   "source": []
  },
  {
   "cell_type": "code",
   "execution_count": null,
   "id": "70ad6290",
   "metadata": {},
   "outputs": [],
   "source": []
  },
  {
   "cell_type": "code",
   "execution_count": null,
   "id": "c1d1d897",
   "metadata": {},
   "outputs": [],
   "source": []
  },
  {
   "cell_type": "code",
   "execution_count": null,
   "id": "85700cd4",
   "metadata": {},
   "outputs": [],
   "source": []
  },
  {
   "cell_type": "code",
   "execution_count": null,
   "id": "c175ac2c",
   "metadata": {},
   "outputs": [],
   "source": []
  }
 ],
 "metadata": {
  "kernelspec": {
   "display_name": "Python 3 (ipykernel)",
   "language": "python",
   "name": "python3"
  },
  "language_info": {
   "codemirror_mode": {
    "name": "ipython",
    "version": 3
   },
   "file_extension": ".py",
   "mimetype": "text/x-python",
   "name": "python",
   "nbconvert_exporter": "python",
   "pygments_lexer": "ipython3",
   "version": "3.9.7"
  }
 },
 "nbformat": 4,
 "nbformat_minor": 5
}
