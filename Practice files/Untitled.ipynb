{
 "cells": [
  {
   "cell_type": "code",
   "execution_count": 1,
   "id": "2658bf30",
   "metadata": {},
   "outputs": [],
   "source": [
    "import numpy as np"
   ]
  },
  {
   "cell_type": "code",
   "execution_count": 4,
   "id": "c81c8ecd",
   "metadata": {},
   "outputs": [
    {
     "name": "stdout",
     "output_type": "stream",
     "text": [
      "[[1 2 3]\n",
      " [4 5 6]]\n",
      "[[3 4 5]\n",
      " [3 3 3]]\n"
     ]
    }
   ],
   "source": [
    "a=np.array([[1,2,3],[4,5,6]])\n",
    "y=np.array([[3,4,5],[3,3,3]])\n",
    "print(a)\n",
    "print(y)"
   ]
  },
  {
   "cell_type": "code",
   "execution_count": 5,
   "id": "c9f2d289",
   "metadata": {},
   "outputs": [
    {
     "data": {
      "text/plain": [
       "array([[[1, 2, 3],\n",
       "        [4, 5, 6]],\n",
       "\n",
       "       [[3, 4, 5],\n",
       "        [3, 3, 3]]])"
      ]
     },
     "execution_count": 5,
     "metadata": {},
     "output_type": "execute_result"
    }
   ],
   "source": [
    "np.stack((a,y),axis=0)"
   ]
  },
  {
   "cell_type": "code",
   "execution_count": 6,
   "id": "171a2b8c",
   "metadata": {},
   "outputs": [
    {
     "data": {
      "text/plain": [
       "array([[[1, 2, 3],\n",
       "        [3, 4, 5]],\n",
       "\n",
       "       [[4, 5, 6],\n",
       "        [3, 3, 3]]])"
      ]
     },
     "execution_count": 6,
     "metadata": {},
     "output_type": "execute_result"
    }
   ],
   "source": [
    "np.stack((a,y),axis=1)"
   ]
  },
  {
   "cell_type": "code",
   "execution_count": 7,
   "id": "18d42fdb",
   "metadata": {},
   "outputs": [
    {
     "data": {
      "text/plain": [
       "array([[1, 2, 3],\n",
       "       [4, 5, 6],\n",
       "       [3, 4, 5],\n",
       "       [3, 3, 3]])"
      ]
     },
     "execution_count": 7,
     "metadata": {},
     "output_type": "execute_result"
    }
   ],
   "source": [
    "np.vstack((a,y))"
   ]
  },
  {
   "cell_type": "code",
   "execution_count": 8,
   "id": "f00ca19d",
   "metadata": {},
   "outputs": [
    {
     "data": {
      "text/plain": [
       "array([[1, 2, 3, 3, 4, 5],\n",
       "       [4, 5, 6, 3, 3, 3]])"
      ]
     },
     "execution_count": 8,
     "metadata": {},
     "output_type": "execute_result"
    }
   ],
   "source": [
    "np.hstack((a,y))"
   ]
  },
  {
   "cell_type": "code",
   "execution_count": 10,
   "id": "589f78c8",
   "metadata": {},
   "outputs": [
    {
     "data": {
      "text/plain": [
       "[array([0, 1, 2]), array([3, 4, 5]), array([6, 7, 8])]"
      ]
     },
     "execution_count": 10,
     "metadata": {},
     "output_type": "execute_result"
    }
   ],
   "source": [
    "a = np.arange(9)\n",
    "np.split(a,3)"
   ]
  },
  {
   "cell_type": "code",
   "execution_count": 17,
   "id": "dc239c03",
   "metadata": {},
   "outputs": [
    {
     "data": {
      "text/plain": [
       "array([[ 2,  3,  4],\n",
       "       [ 3,  4,  5],\n",
       "       [20, 30, 40]])"
      ]
     },
     "execution_count": 17,
     "metadata": {},
     "output_type": "execute_result"
    }
   ],
   "source": [
    "x=([[2,3,4],[3,4,5]])\n",
    "#y=([[4,5,6],[7,8,9]])\n",
    "np.append(x,[[20,30,40]],axis=0)"
   ]
  },
  {
   "cell_type": "code",
   "execution_count": 16,
   "id": "a88e5347",
   "metadata": {},
   "outputs": [
    {
     "ename": "ValueError",
     "evalue": "all the input array dimensions for the concatenation axis must match exactly, but along dimension 0, the array at index 0 has size 2 and the array at index 1 has size 1",
     "output_type": "error",
     "traceback": [
      "\u001b[1;31m---------------------------------------------------------------------------\u001b[0m",
      "\u001b[1;31mValueError\u001b[0m                                Traceback (most recent call last)",
      "\u001b[1;32m~\\AppData\\Local\\Temp/ipykernel_13964/818135431.py\u001b[0m in \u001b[0;36m<module>\u001b[1;34m\u001b[0m\n\u001b[0;32m      1\u001b[0m \u001b[0mx\u001b[0m\u001b[1;33m=\u001b[0m\u001b[1;33m(\u001b[0m\u001b[1;33m[\u001b[0m\u001b[1;33m[\u001b[0m\u001b[1;36m2\u001b[0m\u001b[1;33m,\u001b[0m\u001b[1;36m3\u001b[0m\u001b[1;33m,\u001b[0m\u001b[1;36m4\u001b[0m\u001b[1;33m]\u001b[0m\u001b[1;33m,\u001b[0m\u001b[1;33m[\u001b[0m\u001b[1;36m3\u001b[0m\u001b[1;33m,\u001b[0m\u001b[1;36m4\u001b[0m\u001b[1;33m,\u001b[0m\u001b[1;36m5\u001b[0m\u001b[1;33m]\u001b[0m\u001b[1;33m]\u001b[0m\u001b[1;33m)\u001b[0m\u001b[1;33m\u001b[0m\u001b[1;33m\u001b[0m\u001b[0m\n\u001b[0;32m      2\u001b[0m \u001b[1;31m#y=([[4,5,6],[7,8,9]])\u001b[0m\u001b[1;33m\u001b[0m\u001b[1;33m\u001b[0m\u001b[0m\n\u001b[1;32m----> 3\u001b[1;33m \u001b[0mnp\u001b[0m\u001b[1;33m.\u001b[0m\u001b[0mappend\u001b[0m\u001b[1;33m(\u001b[0m\u001b[0mx\u001b[0m\u001b[1;33m,\u001b[0m\u001b[1;33m[\u001b[0m\u001b[1;33m[\u001b[0m\u001b[1;36m20\u001b[0m\u001b[1;33m,\u001b[0m\u001b[1;36m30\u001b[0m\u001b[1;33m,\u001b[0m\u001b[1;36m40\u001b[0m\u001b[1;33m]\u001b[0m\u001b[1;33m]\u001b[0m\u001b[1;33m,\u001b[0m\u001b[0maxis\u001b[0m\u001b[1;33m=\u001b[0m\u001b[1;36m1\u001b[0m\u001b[1;33m)\u001b[0m\u001b[1;33m\u001b[0m\u001b[1;33m\u001b[0m\u001b[0m\n\u001b[0m",
      "\u001b[1;32m<__array_function__ internals>\u001b[0m in \u001b[0;36mappend\u001b[1;34m(*args, **kwargs)\u001b[0m\n",
      "\u001b[1;32m~\\anaconda3\\lib\\site-packages\\numpy\\lib\\function_base.py\u001b[0m in \u001b[0;36mappend\u001b[1;34m(arr, values, axis)\u001b[0m\n\u001b[0;32m   4743\u001b[0m         \u001b[0mvalues\u001b[0m \u001b[1;33m=\u001b[0m \u001b[0mravel\u001b[0m\u001b[1;33m(\u001b[0m\u001b[0mvalues\u001b[0m\u001b[1;33m)\u001b[0m\u001b[1;33m\u001b[0m\u001b[1;33m\u001b[0m\u001b[0m\n\u001b[0;32m   4744\u001b[0m         \u001b[0maxis\u001b[0m \u001b[1;33m=\u001b[0m \u001b[0marr\u001b[0m\u001b[1;33m.\u001b[0m\u001b[0mndim\u001b[0m\u001b[1;33m-\u001b[0m\u001b[1;36m1\u001b[0m\u001b[1;33m\u001b[0m\u001b[1;33m\u001b[0m\u001b[0m\n\u001b[1;32m-> 4745\u001b[1;33m     \u001b[1;32mreturn\u001b[0m \u001b[0mconcatenate\u001b[0m\u001b[1;33m(\u001b[0m\u001b[1;33m(\u001b[0m\u001b[0marr\u001b[0m\u001b[1;33m,\u001b[0m \u001b[0mvalues\u001b[0m\u001b[1;33m)\u001b[0m\u001b[1;33m,\u001b[0m \u001b[0maxis\u001b[0m\u001b[1;33m=\u001b[0m\u001b[0maxis\u001b[0m\u001b[1;33m)\u001b[0m\u001b[1;33m\u001b[0m\u001b[1;33m\u001b[0m\u001b[0m\n\u001b[0m\u001b[0;32m   4746\u001b[0m \u001b[1;33m\u001b[0m\u001b[0m\n\u001b[0;32m   4747\u001b[0m \u001b[1;33m\u001b[0m\u001b[0m\n",
      "\u001b[1;32m<__array_function__ internals>\u001b[0m in \u001b[0;36mconcatenate\u001b[1;34m(*args, **kwargs)\u001b[0m\n",
      "\u001b[1;31mValueError\u001b[0m: all the input array dimensions for the concatenation axis must match exactly, but along dimension 0, the array at index 0 has size 2 and the array at index 1 has size 1"
     ]
    }
   ],
   "source": [
    "x=([[2,3,4],[3,4,5]])\n",
    "#y=([[4,5,6],[7,8,9]])\n",
    "np.append(x,[[20,30,40]],axis=1)"
   ]
  },
  {
   "cell_type": "code",
   "execution_count": 19,
   "id": "331b47f9",
   "metadata": {},
   "outputs": [
    {
     "data": {
      "text/plain": [
       "array([[  2,   3,   4,  20,  30,  40],\n",
       "       [  3,   4,   5, 100, 200, 300]])"
      ]
     },
     "execution_count": 19,
     "metadata": {},
     "output_type": "execute_result"
    }
   ],
   "source": [
    "x=([[2,3,4],[3,4,5]])\n",
    "#y=([[4,5,6],[7,8,9]])\n",
    "np.append(x,[[20,30,40],[100,200,300]],axis=1)"
   ]
  },
  {
   "cell_type": "code",
   "execution_count": 29,
   "id": "6652a0d5",
   "metadata": {},
   "outputs": [
    {
     "data": {
      "text/plain": [
       "array([[2, 1, 3, 4],\n",
       "       [3, 1, 4, 5],\n",
       "       [5, 1, 6, 7]])"
      ]
     },
     "execution_count": 29,
     "metadata": {},
     "output_type": "execute_result"
    }
   ],
   "source": [
    "x=([[2,3,4],[3,4,5],[5,6,7]])\n",
    "#y=([[4,5,6],[7,8,9]])\n",
    "np.insert(x,1,1,1)"
   ]
  },
  {
   "cell_type": "code",
   "execution_count": 34,
   "id": "6be96bb4",
   "metadata": {},
   "outputs": [
    {
     "data": {
      "text/plain": [
       "array([[2, 3, 4],\n",
       "       [5, 6, 7]])"
      ]
     },
     "execution_count": 34,
     "metadata": {},
     "output_type": "execute_result"
    }
   ],
   "source": [
    "x=([[2,3,4],[3,4,5],[5,6,7]])\n",
    "x\n",
    "np.delete(x,1,0)"
   ]
  },
  {
   "cell_type": "code",
   "execution_count": 36,
   "id": "8735eb11",
   "metadata": {},
   "outputs": [
    {
     "data": {
      "text/plain": [
       "[[2, 3, 4], [3, 4, 5], [5, 6, 7], [10, 20, 30], [40, 50, 60]]"
      ]
     },
     "execution_count": 36,
     "metadata": {},
     "output_type": "execute_result"
    }
   ],
   "source": [
    "x=([[2,3,4],[3,4,5],[5,6,7],[10,20,30],[40,50,60]])\n",
    "x\n",
    "#y=([[4,5,6],[7,8,9]])\n",
    "#np.insert(x,1,1,1)"
   ]
  },
  {
   "cell_type": "code",
   "execution_count": 37,
   "id": "83c1ba74",
   "metadata": {},
   "outputs": [
    {
     "data": {
      "text/plain": [
       "array([[ 2,  3,  4],\n",
       "       [ 3,  4,  5],\n",
       "       [ 5,  6,  7],\n",
       "       [10, 20, 30],\n",
       "       [40, 50, 60]])"
      ]
     },
     "execution_count": 37,
     "metadata": {},
     "output_type": "execute_result"
    }
   ],
   "source": [
    "np.stack(x)"
   ]
  },
  {
   "cell_type": "code",
   "execution_count": 64,
   "id": "f93c64da",
   "metadata": {},
   "outputs": [
    {
     "data": {
      "text/plain": [
       "array([[ 3,  4],\n",
       "       [ 4,  5],\n",
       "       [ 6,  7],\n",
       "       [20, 30],\n",
       "       [50, 60]])"
      ]
     },
     "execution_count": 64,
     "metadata": {},
     "output_type": "execute_result"
    }
   ],
   "source": [
    "np.delete(x,0,1)"
   ]
  },
  {
   "cell_type": "code",
   "execution_count": 74,
   "id": "37cec8cb",
   "metadata": {},
   "outputs": [
    {
     "name": "stdout",
     "output_type": "stream",
     "text": [
      "The value for addition [[ 4  5  7  9]\n",
      " [12 13 15 17]]\n",
      "The value for mul [[ 3  4 10 18]\n",
      " [35 40 54 70]]\n",
      "The value for sub [[-2 -3 -3 -3]\n",
      " [-2 -3 -3 -3]]\n",
      "The value for div [[0.33333333 0.25       0.4        0.5       ]\n",
      " [0.71428571 0.625      0.66666667 0.7       ]]\n"
     ]
    }
   ],
   "source": [
    "x1=[[1,1,2,3],[5,5,6,7]]\n",
    "x2=[[3,4,5,6],[7,8,9,10]]\n",
    "add=np.add(x1,x2)\n",
    "mul=np.multiply(x1,x2)\n",
    "sub=np.subtract(x1,x2)\n",
    "div=np.divide(x1,x2)\n",
    "print('The value for addition',add)\n",
    "print('The value for mul', mul)\n",
    "print('The value for sub', sub)\n",
    "print('The value for div',div)"
   ]
  },
  {
   "cell_type": "code",
   "execution_count": 75,
   "id": "d0f4dce3",
   "metadata": {},
   "outputs": [],
   "source": [
    "np.power?"
   ]
  },
  {
   "cell_type": "code",
   "execution_count": 76,
   "id": "097098ce",
   "metadata": {},
   "outputs": [
    {
     "data": {
      "text/plain": [
       "array([  0,   1,   8,  27,  64, 125], dtype=int32)"
      ]
     },
     "execution_count": 76,
     "metadata": {},
     "output_type": "execute_result"
    }
   ],
   "source": [
    "array1=np.arange(6)\n",
    "np.power(array1,3)"
   ]
  },
  {
   "cell_type": "code",
   "execution_count": 77,
   "id": "90262eff",
   "metadata": {},
   "outputs": [],
   "source": [
    "np.percentile?"
   ]
  },
  {
   "cell_type": "code",
   "execution_count": 78,
   "id": "f1b7631b",
   "metadata": {},
   "outputs": [],
   "source": [
    "np.mean?"
   ]
  },
  {
   "cell_type": "code",
   "execution_count": 83,
   "id": "29305a87",
   "metadata": {},
   "outputs": [
    {
     "data": {
      "text/plain": [
       "array([3., 3., 4., 5.])"
      ]
     },
     "execution_count": 83,
     "metadata": {},
     "output_type": "execute_result"
    }
   ],
   "source": [
    "x1=np.array([[1,1,2,3],[5,5,6,7]])\n",
    "#x2=[[3,4,5,6],[7,8,9,10]]\n",
    "np.mean(x1,axis=0)"
   ]
  },
  {
   "cell_type": "code",
   "execution_count": 84,
   "id": "e900de46",
   "metadata": {},
   "outputs": [
    {
     "data": {
      "text/plain": [
       "array([[1, 1, 2, 3],\n",
       "       [5, 5, 6, 7]])"
      ]
     },
     "execution_count": 84,
     "metadata": {},
     "output_type": "execute_result"
    }
   ],
   "source": [
    "x1"
   ]
  },
  {
   "cell_type": "markdown",
   "id": "a3577635",
   "metadata": {},
   "source": [
    "### Pandas"
   ]
  },
  {
   "cell_type": "code",
   "execution_count": 85,
   "id": "05f2e3de",
   "metadata": {},
   "outputs": [],
   "source": [
    "import pandas as pd"
   ]
  },
  {
   "cell_type": "code",
   "execution_count": 88,
   "id": "29606e5c",
   "metadata": {},
   "outputs": [],
   "source": [
    "a=np.array([10,2,50,70])\n",
    "s=pd.Series(a)"
   ]
  },
  {
   "cell_type": "code",
   "execution_count": 87,
   "id": "e2c9bcc1",
   "metadata": {},
   "outputs": [
    {
     "data": {
      "text/plain": [
       "numpy.ndarray"
      ]
     },
     "execution_count": 87,
     "metadata": {},
     "output_type": "execute_result"
    }
   ],
   "source": [
    "type(a)"
   ]
  },
  {
   "cell_type": "code",
   "execution_count": 89,
   "id": "57ba0c03",
   "metadata": {},
   "outputs": [
    {
     "data": {
      "text/plain": [
       "0    10\n",
       "1     2\n",
       "2    50\n",
       "3    70\n",
       "dtype: int32"
      ]
     },
     "execution_count": 89,
     "metadata": {},
     "output_type": "execute_result"
    }
   ],
   "source": [
    "s"
   ]
  },
  {
   "cell_type": "code",
   "execution_count": 90,
   "id": "befea663",
   "metadata": {},
   "outputs": [
    {
     "data": {
      "text/plain": [
       "1.0    10\n",
       "2.0     2\n",
       "3.0    50\n",
       "4.0    70\n",
       "dtype: int32"
      ]
     },
     "execution_count": 90,
     "metadata": {},
     "output_type": "execute_result"
    }
   ],
   "source": [
    "a=np.array([10,2,50,70])\n",
    "s=pd.Series(a, index=[1.,2,3.,4.])\n",
    "s"
   ]
  },
  {
   "cell_type": "code",
   "execution_count": 91,
   "id": "b45f6457",
   "metadata": {},
   "outputs": [
    {
     "data": {
      "text/plain": [
       "4"
      ]
     },
     "execution_count": 91,
     "metadata": {},
     "output_type": "execute_result"
    }
   ],
   "source": [
    "len(a)"
   ]
  },
  {
   "cell_type": "code",
   "execution_count": 92,
   "id": "fb1d586c",
   "metadata": {},
   "outputs": [
    {
     "data": {
      "text/plain": [
       "[0, 1, 2, 3]"
      ]
     },
     "execution_count": 92,
     "metadata": {},
     "output_type": "execute_result"
    }
   ],
   "source": [
    "list(range(len(a)))"
   ]
  },
  {
   "cell_type": "code",
   "execution_count": 93,
   "id": "2795ebf1",
   "metadata": {},
   "outputs": [
    {
     "ename": "TypeError",
     "evalue": "'tuple' object cannot be interpreted as an integer",
     "output_type": "error",
     "traceback": [
      "\u001b[1;31m---------------------------------------------------------------------------\u001b[0m",
      "\u001b[1;31mTypeError\u001b[0m                                 Traceback (most recent call last)",
      "\u001b[1;32m~\\AppData\\Local\\Temp/ipykernel_13964/4158147365.py\u001b[0m in \u001b[0;36m<module>\u001b[1;34m\u001b[0m\n\u001b[1;32m----> 1\u001b[1;33m \u001b[0mlist\u001b[0m\u001b[1;33m(\u001b[0m\u001b[0mrange\u001b[0m\u001b[1;33m(\u001b[0m\u001b[1;36m1\u001b[0m\u001b[1;33m,\u001b[0m\u001b[1;33m(\u001b[0m\u001b[0mlen\u001b[0m\u001b[1;33m(\u001b[0m\u001b[0ma\u001b[0m\u001b[1;33m)\u001b[0m\u001b[1;33m,\u001b[0m\u001b[1;36m10\u001b[0m\u001b[1;33m)\u001b[0m\u001b[1;33m)\u001b[0m\u001b[1;33m)\u001b[0m\u001b[1;33m\u001b[0m\u001b[1;33m\u001b[0m\u001b[0m\n\u001b[0m",
      "\u001b[1;31mTypeError\u001b[0m: 'tuple' object cannot be interpreted as an integer"
     ]
    }
   ],
   "source": [
    "list(range(1,(len(a),10)))"
   ]
  },
  {
   "cell_type": "code",
   "execution_count": 95,
   "id": "614be3fe",
   "metadata": {},
   "outputs": [
    {
     "data": {
      "text/plain": [
       "1    Val1\n",
       "2    Val2\n",
       "3    Val3\n",
       "dtype: object"
      ]
     },
     "execution_count": 95,
     "metadata": {},
     "output_type": "execute_result"
    }
   ],
   "source": [
    "dict1={1:'Val1',2:'Val2',3:'Val3'}\n",
    "s=pd.Series(dict1)\n",
    "s"
   ]
  },
  {
   "cell_type": "code",
   "execution_count": 104,
   "id": "0dbfe603",
   "metadata": {},
   "outputs": [
    {
     "data": {
      "text/plain": [
       "3    Val3\n",
       "1    Val1\n",
       "2    Val2\n",
       "dtype: object"
      ]
     },
     "execution_count": 104,
     "metadata": {},
     "output_type": "execute_result"
    }
   ],
   "source": [
    "dict1={1:'Val1',2:'Val2',3:'Val3'}\n",
    "s=pd.Series(dict1,index=[3,1,2])\n",
    "s"
   ]
  },
  {
   "cell_type": "code",
   "execution_count": 113,
   "id": "952bf8b1",
   "metadata": {},
   "outputs": [],
   "source": [
    "x1=np.array([1,2,3,4,5])\n",
    "y1=pd.Series(x1,index=[10,11,12,13,14])"
   ]
  },
  {
   "cell_type": "code",
   "execution_count": 114,
   "id": "4e302069",
   "metadata": {},
   "outputs": [
    {
     "data": {
      "text/plain": [
       "10    1\n",
       "11    2\n",
       "12    3\n",
       "13    4\n",
       "14    5\n",
       "dtype: int32"
      ]
     },
     "execution_count": 114,
     "metadata": {},
     "output_type": "execute_result"
    }
   ],
   "source": [
    "y1"
   ]
  },
  {
   "cell_type": "code",
   "execution_count": null,
   "id": "6f47952f",
   "metadata": {},
   "outputs": [],
   "source": []
  },
  {
   "cell_type": "code",
   "execution_count": 14,
   "id": "d5f6f2f6",
   "metadata": {},
   "outputs": [
    {
     "name": "stdout",
     "output_type": "stream",
     "text": [
      "1\n",
      "2\n",
      "3\n",
      "4\n"
     ]
    }
   ],
   "source": [
    "`"
   ]
  },
  {
   "cell_type": "code",
   "execution_count": 15,
   "id": "5d185c36",
   "metadata": {},
   "outputs": [],
   "source": [
    "def sum_list(n):\n",
    "    if n ==1:\n",
    "        return n\n",
    "    else:\n",
    "        return n+sum_list(n-1)        "
   ]
  },
  {
   "cell_type": "code",
   "execution_count": 17,
   "id": "29e4cfdd",
   "metadata": {},
   "outputs": [
    {
     "name": "stdout",
     "output_type": "stream",
     "text": [
      "The sum of given # is 15\n"
     ]
    }
   ],
   "source": [
    "print('The sum of given # is', sum_list(5))"
   ]
  },
  {
   "cell_type": "code",
   "execution_count": 28,
   "id": "bb89d9f9",
   "metadata": {},
   "outputs": [
    {
     "name": "stdout",
     "output_type": "stream",
     "text": [
      "37\n"
     ]
    }
   ],
   "source": [
    "x2=range(1,20,3)\n",
    "for i in x2:\n",
    "    total = i+(i-1)\n",
    "print(total)"
   ]
  },
  {
   "cell_type": "code",
   "execution_count": 32,
   "id": "6eaa03ec",
   "metadata": {},
   "outputs": [],
   "source": [
    "def sum_list1(data_list):\n",
    "    total = 0\n",
    "    for i in data_list:\n",
    "        print(i)\n",
    "#        if type(i)==type([]):\n",
    "#            total = total + sum_list1(i)\n",
    "#        else:\n",
    "#            total = total + i\n",
    "#    return total"
   ]
  },
  {
   "cell_type": "code",
   "execution_count": 33,
   "id": "74b58c04",
   "metadata": {},
   "outputs": [
    {
     "name": "stdout",
     "output_type": "stream",
     "text": [
      "1\n",
      "2\n",
      "3\n",
      "[4, 5]\n",
      "3\n",
      "[6, 7]\n"
     ]
    }
   ],
   "source": [
    "sum_list1([1,2,3,[4,5],3,[6,7]])"
   ]
  },
  {
   "cell_type": "code",
   "execution_count": 49,
   "id": "a55978ec",
   "metadata": {},
   "outputs": [],
   "source": [
    "def factorial(n):\n",
    "    if n<=1:\n",
    "        return 1\n",
    "    else:\n",
    "        return n*(factorial5(n-1))"
   ]
  },
  {
   "cell_type": "code",
   "execution_count": 50,
   "id": "e232ac7d",
   "metadata": {},
   "outputs": [
    {
     "name": "stdout",
     "output_type": "stream",
     "text": [
      "120\n"
     ]
    }
   ],
   "source": [
    "print(factorial5(5))"
   ]
  },
  {
   "cell_type": "code",
   "execution_count": 1,
   "id": "56533374",
   "metadata": {},
   "outputs": [],
   "source": [
    "my_list = list(range(10))"
   ]
  },
  {
   "cell_type": "code",
   "execution_count": 7,
   "id": "412c2fdf",
   "metadata": {},
   "outputs": [
    {
     "name": "stdout",
     "output_type": "stream",
     "text": [
      "[0, 2, 4, 6, 8]\n"
     ]
    }
   ],
   "source": [
    "fil = list(filter(lambda x : x%2 == 0, my_list))\n",
    "print(fil)"
   ]
  },
  {
   "cell_type": "code",
   "execution_count": 8,
   "id": "d0638684",
   "metadata": {},
   "outputs": [
    {
     "name": "stdout",
     "output_type": "stream",
     "text": [
      "[1, 3, 5, 7, 9]\n"
     ]
    }
   ],
   "source": [
    "my_list1 = list(range(10))\n",
    "fil1=list(filter(lambda x : x%2==1, my_list1))\n",
    "print(fil1)"
   ]
  },
  {
   "cell_type": "code",
   "execution_count": 18,
   "id": "ae5298a8",
   "metadata": {},
   "outputs": [
    {
     "name": "stdout",
     "output_type": "stream",
     "text": [
      "1\n",
      "3\n",
      "5\n",
      "7\n",
      "9\n"
     ]
    }
   ],
   "source": [
    "my_list1=list(range(10))\n",
    "for i in my_list1:\n",
    "    if i%2 == 1:\n",
    "        print(i)"
   ]
  },
  {
   "cell_type": "code",
   "execution_count": 23,
   "id": "e48ce6fe",
   "metadata": {},
   "outputs": [
    {
     "name": "stdout",
     "output_type": "stream",
     "text": [
      "[1, 0, 1, 0, 1, 0]\n"
     ]
    }
   ],
   "source": [
    "my_list2 = list([1,2,3,4,5,6])\n",
    "map1 = list(map(lambda x: x%2,my_list2))\n",
    "print(map1)"
   ]
  },
  {
   "cell_type": "code",
   "execution_count": 26,
   "id": "9bf37636",
   "metadata": {},
   "outputs": [
    {
     "name": "stdout",
     "output_type": "stream",
     "text": [
      "[1, 4, 2, 0, 3, 1, 4]\n"
     ]
    }
   ],
   "source": [
    "my_list3 = list(range(1, 20, 3))\n",
    "map2 = list(map(lambda x: x%5,my_list3))\n",
    "print(map2)"
   ]
  },
  {
   "cell_type": "code",
   "execution_count": 31,
   "id": "b466a112",
   "metadata": {},
   "outputs": [
    {
     "name": "stdout",
     "output_type": "stream",
     "text": [
      "['A', 'K', 'T']\n"
     ]
    }
   ],
   "source": [
    "def fun(var):\n",
    "    letters = ['K','A','R','T','I','K']\n",
    "    if var in letters:\n",
    "        return True\n",
    "    else:\n",
    "        return False\n",
    "\n",
    "seq = ['A','B','K','T']\n",
    "fil = list(filter(fun,seq))\n",
    "print(fil)"
   ]
  },
  {
   "cell_type": "code",
   "execution_count": 32,
   "id": "0f42c4c3",
   "metadata": {},
   "outputs": [],
   "source": [
    "var = 20\n",
    "\n",
    "def func():\n",
    "    y = 10\n",
    "    global var\n",
    "    x = y*var\n",
    "    print(x)"
   ]
  },
  {
   "cell_type": "code",
   "execution_count": 33,
   "id": "95a15ecc",
   "metadata": {},
   "outputs": [
    {
     "name": "stdout",
     "output_type": "stream",
     "text": [
      "200\n"
     ]
    }
   ],
   "source": [
    "func()"
   ]
  },
  {
   "cell_type": "code",
   "execution_count": 35,
   "id": "75d36984",
   "metadata": {},
   "outputs": [
    {
     "data": {
      "text/plain": [
       "[1, 2, 3, [4, 5, 6], [7, 8, 9]]"
      ]
     },
     "execution_count": 35,
     "metadata": {},
     "output_type": "execute_result"
    }
   ],
   "source": [
    "nested_list = [1,2,3,[4,5,6],[7,8,9]]\n",
    "nested_list"
   ]
  },
  {
   "cell_type": "code",
   "execution_count": 36,
   "id": "66f83d2f",
   "metadata": {},
   "outputs": [
    {
     "data": {
      "text/plain": [
       "3"
      ]
     },
     "execution_count": 36,
     "metadata": {},
     "output_type": "execute_result"
    }
   ],
   "source": [
    "nested_list[2\n",
    "           ]"
   ]
  },
  {
   "cell_type": "code",
   "execution_count": 37,
   "id": "f8ae8f8d",
   "metadata": {},
   "outputs": [
    {
     "data": {
      "text/plain": [
       "[7, 8, 9]"
      ]
     },
     "execution_count": 37,
     "metadata": {},
     "output_type": "execute_result"
    }
   ],
   "source": [
    "nested_list[4]"
   ]
  },
  {
   "cell_type": "code",
   "execution_count": 38,
   "id": "d6fe0f81",
   "metadata": {},
   "outputs": [
    {
     "data": {
      "text/plain": [
       "9"
      ]
     },
     "execution_count": 38,
     "metadata": {},
     "output_type": "execute_result"
    }
   ],
   "source": [
    "nested_list[4][2]"
   ]
  },
  {
   "cell_type": "code",
   "execution_count": 39,
   "id": "dcfde713",
   "metadata": {},
   "outputs": [
    {
     "data": {
      "text/plain": [
       "4"
      ]
     },
     "execution_count": 39,
     "metadata": {},
     "output_type": "execute_result"
    }
   ],
   "source": [
    "nested_list[-2][0]"
   ]
  },
  {
   "cell_type": "code",
   "execution_count": 42,
   "id": "a14bff67",
   "metadata": {},
   "outputs": [
    {
     "data": {
      "text/plain": [
       "[1, 2, 3, [4, 5, 6]]"
      ]
     },
     "execution_count": 42,
     "metadata": {},
     "output_type": "execute_result"
    }
   ],
   "source": [
    "list1=[1,2,3]\n",
    "list1.append([4,5,6])\n",
    "list1"
   ]
  },
  {
   "cell_type": "code",
   "execution_count": 43,
   "id": "4b99be9b",
   "metadata": {},
   "outputs": [
    {
     "data": {
      "text/plain": [
       "[1, 2, 3, [4, 5, 6], 7]"
      ]
     },
     "execution_count": 43,
     "metadata": {},
     "output_type": "execute_result"
    }
   ],
   "source": [
    "list1.extend([7])\n",
    "list1"
   ]
  },
  {
   "cell_type": "code",
   "execution_count": 52,
   "id": "8ce6788b",
   "metadata": {},
   "outputs": [
    {
     "data": {
      "text/plain": [
       "[[9, 10, 11],\n",
       " [9, 10, 11],\n",
       " [9, 10, 11],\n",
       " [9, 10, 11],\n",
       " 1,\n",
       " [9, 10, 11],\n",
       " [9, 10, 11],\n",
       " [9, 10, 11],\n",
       " [9, 10, 11],\n",
       " 2,\n",
       " 3,\n",
       " [4, 5, 6],\n",
       " 7]"
      ]
     },
     "execution_count": 52,
     "metadata": {},
     "output_type": "execute_result"
    }
   ],
   "source": [
    "var = [9,10,11]\n",
    "list1.insert(2,var)\n",
    "list1"
   ]
  },
  {
   "cell_type": "code",
   "execution_count": 53,
   "id": "0750fb71",
   "metadata": {},
   "outputs": [],
   "source": [
    "list2=[2,3,4,5]"
   ]
  },
  {
   "cell_type": "code",
   "execution_count": 58,
   "id": "9c1c422c",
   "metadata": {},
   "outputs": [],
   "source": [
    "list2.insert(6,1)"
   ]
  },
  {
   "cell_type": "code",
   "execution_count": 59,
   "id": "c36dce59",
   "metadata": {},
   "outputs": [
    {
     "data": {
      "text/plain": [
       "[2, 3, 1, 1, 4, 5, 1]"
      ]
     },
     "execution_count": 59,
     "metadata": {},
     "output_type": "execute_result"
    }
   ],
   "source": [
    "list2"
   ]
  },
  {
   "cell_type": "code",
   "execution_count": 60,
   "id": "c624c6aa",
   "metadata": {},
   "outputs": [
    {
     "data": {
      "text/plain": [
       "[2, 3, 1, 4, 5, 1]"
      ]
     },
     "execution_count": 60,
     "metadata": {},
     "output_type": "execute_result"
    }
   ],
   "source": [
    "list2.remove(1)\n",
    "list2"
   ]
  },
  {
   "cell_type": "code",
   "execution_count": 61,
   "id": "9ad2a73d",
   "metadata": {},
   "outputs": [
    {
     "data": {
      "text/plain": [
       "[2, 3, 4, 5, 1]"
      ]
     },
     "execution_count": 61,
     "metadata": {},
     "output_type": "execute_result"
    }
   ],
   "source": [
    "list2.remove(1)\n",
    "list2"
   ]
  },
  {
   "cell_type": "code",
   "execution_count": 62,
   "id": "1ea25447",
   "metadata": {},
   "outputs": [
    {
     "data": {
      "text/plain": [
       "[2, 3, 4, 5]"
      ]
     },
     "execution_count": 62,
     "metadata": {},
     "output_type": "execute_result"
    }
   ],
   "source": [
    "list2.remove(1)\n",
    "list2"
   ]
  },
  {
   "cell_type": "code",
   "execution_count": 63,
   "id": "c3162dc8",
   "metadata": {},
   "outputs": [
    {
     "ename": "ValueError",
     "evalue": "list.remove(x): x not in list",
     "output_type": "error",
     "traceback": [
      "\u001b[1;31m---------------------------------------------------------------------------\u001b[0m",
      "\u001b[1;31mValueError\u001b[0m                                Traceback (most recent call last)",
      "\u001b[1;32m~\\AppData\\Local\\Temp/ipykernel_10004/3473121243.py\u001b[0m in \u001b[0;36m<module>\u001b[1;34m\u001b[0m\n\u001b[1;32m----> 1\u001b[1;33m \u001b[0mlist2\u001b[0m\u001b[1;33m.\u001b[0m\u001b[0mremove\u001b[0m\u001b[1;33m(\u001b[0m\u001b[1;36m1\u001b[0m\u001b[1;33m)\u001b[0m\u001b[1;33m\u001b[0m\u001b[1;33m\u001b[0m\u001b[0m\n\u001b[0m\u001b[0;32m      2\u001b[0m \u001b[0mlist2\u001b[0m\u001b[1;33m\u001b[0m\u001b[1;33m\u001b[0m\u001b[0m\n",
      "\u001b[1;31mValueError\u001b[0m: list.remove(x): x not in list"
     ]
    }
   ],
   "source": [
    "list2.remove(1)\n",
    "list2"
   ]
  },
  {
   "cell_type": "code",
   "execution_count": 71,
   "id": "0f484546",
   "metadata": {},
   "outputs": [
    {
     "ename": "IndexError",
     "evalue": "pop index out of range",
     "output_type": "error",
     "traceback": [
      "\u001b[1;31m---------------------------------------------------------------------------\u001b[0m",
      "\u001b[1;31mIndexError\u001b[0m                                Traceback (most recent call last)",
      "\u001b[1;32m~\\AppData\\Local\\Temp/ipykernel_10004/3238311131.py\u001b[0m in \u001b[0;36m<module>\u001b[1;34m\u001b[0m\n\u001b[1;32m----> 1\u001b[1;33m list2.pop(1\n\u001b[0m\u001b[0;32m      2\u001b[0m          )\n",
      "\u001b[1;31mIndexError\u001b[0m: pop index out of range"
     ]
    }
   ],
   "source": [
    "list2.pop(1\n",
    "         )"
   ]
  },
  {
   "cell_type": "code",
   "execution_count": 70,
   "id": "65e09bde",
   "metadata": {},
   "outputs": [
    {
     "data": {
      "text/plain": [
       "[2]"
      ]
     },
     "execution_count": 70,
     "metadata": {},
     "output_type": "execute_result"
    }
   ],
   "source": [
    "list2"
   ]
  },
  {
   "cell_type": "code",
   "execution_count": 72,
   "id": "18848a38",
   "metadata": {},
   "outputs": [
    {
     "data": {
      "text/plain": [
       "4"
      ]
     },
     "execution_count": 72,
     "metadata": {},
     "output_type": "execute_result"
    }
   ],
   "source": [
    "list3=[1,2,3,4,5,6,7,8,9]\n",
    "list3.pop(3)"
   ]
  },
  {
   "cell_type": "code",
   "execution_count": 73,
   "id": "03263881",
   "metadata": {},
   "outputs": [
    {
     "data": {
      "text/plain": [
       "[1, 2, 3, 5, 6, 7, 8, 9]"
      ]
     },
     "execution_count": 73,
     "metadata": {},
     "output_type": "execute_result"
    }
   ],
   "source": [
    "list3"
   ]
  },
  {
   "cell_type": "code",
   "execution_count": 74,
   "id": "9016ddb0",
   "metadata": {},
   "outputs": [
    {
     "data": {
      "text/plain": [
       "8"
      ]
     },
     "execution_count": 74,
     "metadata": {},
     "output_type": "execute_result"
    }
   ],
   "source": [
    "list3.pop(6)"
   ]
  },
  {
   "cell_type": "code",
   "execution_count": 75,
   "id": "6fbbf7ac",
   "metadata": {},
   "outputs": [
    {
     "data": {
      "text/plain": [
       "[1, 2, 3, 5, 6, 7, 9]"
      ]
     },
     "execution_count": 75,
     "metadata": {},
     "output_type": "execute_result"
    }
   ],
   "source": [
    "list3"
   ]
  },
  {
   "cell_type": "code",
   "execution_count": 76,
   "id": "5fee3859",
   "metadata": {},
   "outputs": [
    {
     "data": {
      "text/plain": [
       "4"
      ]
     },
     "execution_count": 76,
     "metadata": {},
     "output_type": "execute_result"
    }
   ],
   "source": [
    "list3.index(6)"
   ]
  },
  {
   "cell_type": "code",
   "execution_count": 77,
   "id": "cb0f09b1",
   "metadata": {},
   "outputs": [
    {
     "data": {
      "text/plain": [
       "1"
      ]
     },
     "execution_count": 77,
     "metadata": {},
     "output_type": "execute_result"
    }
   ],
   "source": [
    "list3.count(i)"
   ]
  },
  {
   "cell_type": "code",
   "execution_count": 78,
   "id": "be3e86cb",
   "metadata": {},
   "outputs": [
    {
     "data": {
      "text/plain": [
       "[1, 2, 3, 5, 6, 7, 9]"
      ]
     },
     "execution_count": 78,
     "metadata": {},
     "output_type": "execute_result"
    }
   ],
   "source": [
    "list3"
   ]
  },
  {
   "cell_type": "code",
   "execution_count": 86,
   "id": "7ebadb82",
   "metadata": {},
   "outputs": [
    {
     "data": {
      "text/plain": [
       "[(10, 1), (11, 2), (12, 3), (13, 5), (14, 6), (15, 7), (16, 9)]"
      ]
     },
     "execution_count": 86,
     "metadata": {},
     "output_type": "execute_result"
    }
   ],
   "source": [
    "x1=list((enumerate(list3,10)))\n",
    "x1"
   ]
  },
  {
   "cell_type": "code",
   "execution_count": 89,
   "id": "52e92b65",
   "metadata": {},
   "outputs": [
    {
     "name": "stdout",
     "output_type": "stream",
     "text": [
      "1\n",
      "2\n",
      "3\n",
      "4\n"
     ]
    }
   ],
   "source": [
    "my_list1=[1,2,3,4,5]\n",
    "x2 = iter(my_list1)\n",
    "print(next(x2))\n",
    "print(next(x2))\n",
    "print(next(x2))\n",
    "print(next(x2))"
   ]
  },
  {
   "cell_type": "code",
   "execution_count": 101,
   "id": "e53fa210",
   "metadata": {},
   "outputs": [],
   "source": [
    "def gen_func():\n",
    "    num=1\n",
    "    print('1st #')\n",
    "    yield(num)\n",
    "    num=+1\n",
    "    print('2nd #')\n",
    "    yield(num)\n",
    "    num=+1\n",
    "    print('3rd #')\n",
    "    yield(num)"
   ]
  },
  {
   "cell_type": "code",
   "execution_count": 102,
   "id": "79a4c63f",
   "metadata": {},
   "outputs": [],
   "source": [
    "var = gen_func()"
   ]
  },
  {
   "cell_type": "code",
   "execution_count": 103,
   "id": "04201949",
   "metadata": {},
   "outputs": [
    {
     "name": "stdout",
     "output_type": "stream",
     "text": [
      "1st #\n",
      "1\n"
     ]
    }
   ],
   "source": [
    "print(next(var))"
   ]
  },
  {
   "cell_type": "code",
   "execution_count": 104,
   "id": "5b3c7f2d",
   "metadata": {},
   "outputs": [
    {
     "name": "stdout",
     "output_type": "stream",
     "text": [
      "2nd #\n",
      "1\n"
     ]
    }
   ],
   "source": [
    "print(next(var))"
   ]
  },
  {
   "cell_type": "code",
   "execution_count": 107,
   "id": "e51152fb",
   "metadata": {},
   "outputs": [],
   "source": [
    "def generator_func1():\n",
    "    for i in range(10):\n",
    "        print(\"hi\")\n",
    "        yield i"
   ]
  },
  {
   "cell_type": "code",
   "execution_count": 109,
   "id": "afea5b32",
   "metadata": {},
   "outputs": [
    {
     "name": "stdout",
     "output_type": "stream",
     "text": [
      "hi\n",
      "0\n"
     ]
    }
   ],
   "source": [
    "var2=generator_func1()\n",
    "print(next(var2))"
   ]
  },
  {
   "cell_type": "code",
   "execution_count": 110,
   "id": "bb7d6217",
   "metadata": {},
   "outputs": [
    {
     "data": {
      "text/plain": [
       "[0, 1, 2, 3, 4, 5, 6, 7, 8, 9]"
      ]
     },
     "execution_count": 110,
     "metadata": {},
     "output_type": "execute_result"
    }
   ],
   "source": [
    "x2=list(range(10))\n",
    "x2"
   ]
  },
  {
   "cell_type": "code",
   "execution_count": 114,
   "id": "00ec1d50",
   "metadata": {},
   "outputs": [
    {
     "data": {
      "text/plain": [
       "[9, 8, 7, 6, 5, 4, 3, 2, 1]"
      ]
     },
     "execution_count": 114,
     "metadata": {},
     "output_type": "execute_result"
    }
   ],
   "source": [
    "x2=list(range(9,0,-1))\n",
    "x2"
   ]
  },
  {
   "cell_type": "code",
   "execution_count": 115,
   "id": "9e64b26b",
   "metadata": {},
   "outputs": [
    {
     "ename": "NameError",
     "evalue": "name 'reverse' is not defined",
     "output_type": "error",
     "traceback": [
      "\u001b[1;31m---------------------------------------------------------------------------\u001b[0m",
      "\u001b[1;31mNameError\u001b[0m                                 Traceback (most recent call last)",
      "\u001b[1;32m~\\AppData\\Local\\Temp/ipykernel_10004/1653502466.py\u001b[0m in \u001b[0;36m<module>\u001b[1;34m\u001b[0m\n\u001b[1;32m----> 1\u001b[1;33m \u001b[0mx3\u001b[0m\u001b[1;33m=\u001b[0m\u001b[0mreverse\u001b[0m\u001b[1;33m(\u001b[0m\u001b[0mx2\u001b[0m\u001b[1;33m)\u001b[0m\u001b[1;33m\u001b[0m\u001b[1;33m\u001b[0m\u001b[0m\n\u001b[0m",
      "\u001b[1;31mNameError\u001b[0m: name 'reverse' is not defined"
     ]
    }
   ],
   "source": [
    "x3=reverse(x2)"
   ]
  },
  {
   "cell_type": "code",
   "execution_count": 121,
   "id": "8cea8dc1",
   "metadata": {},
   "outputs": [
    {
     "data": {
      "text/plain": [
       "[8, 27, 64, 125]"
      ]
     },
     "execution_count": 121,
     "metadata": {},
     "output_type": "execute_result"
    }
   ],
   "source": [
    "list4=[2,3,4,5]\n",
    "[i**3 for i in list4]"
   ]
  },
  {
   "cell_type": "code",
   "execution_count": 126,
   "id": "748ba71a",
   "metadata": {},
   "outputs": [
    {
     "name": "stdout",
     "output_type": "stream",
     "text": [
      "16\n",
      "81\n",
      "256\n",
      "625\n"
     ]
    }
   ],
   "source": [
    "gen_exp=(i**4 for i in list4)\n",
    "print(next(gen_exp))\n",
    "print(next(gen_exp))\n",
    "print(next(gen_exp))\n",
    "print(next(gen_exp))"
   ]
  },
  {
   "cell_type": "code",
   "execution_count": 128,
   "id": "bc96565d",
   "metadata": {},
   "outputs": [
    {
     "data": {
      "text/plain": [
       "16"
      ]
     },
     "execution_count": 128,
     "metadata": {},
     "output_type": "execute_result"
    }
   ],
   "source": [
    "min(i**4 for i in list4)"
   ]
  },
  {
   "cell_type": "code",
   "execution_count": 129,
   "id": "f28f1e47",
   "metadata": {},
   "outputs": [],
   "source": [
    "def outer_fun(arg):\n",
    "    var=5\n",
    "    def inner_fun():\n",
    "        var1=arg*5+var\n",
    "        print(var1)\n",
    "    inner_fun()"
   ]
  },
  {
   "cell_type": "code",
   "execution_count": null,
   "id": "da9d379b",
   "metadata": {},
   "outputs": [],
   "source": []
  },
  {
   "cell_type": "code",
   "execution_count": 137,
   "id": "f350d27b",
   "metadata": {},
   "outputs": [],
   "source": [
    "def outer_fun(arg):\n",
    "    var3 = 5\n",
    "    def inner_fun():\n",
    "        var1 = arg * 5 + var3\n",
    "        var2 = 5\n",
    "    print(var2)\n",
    "#        return var2\n",
    "    return inner_fun()"
   ]
  },
  {
   "cell_type": "code",
   "execution_count": 139,
   "id": "0fda3be6",
   "metadata": {},
   "outputs": [],
   "source": [
    "import numpy as np"
   ]
  },
  {
   "cell_type": "code",
   "execution_count": 140,
   "id": "8affd941",
   "metadata": {},
   "outputs": [
    {
     "data": {
      "text/plain": [
       "array([[3, 5],\n",
       "       [5, 4],\n",
       "       [6, 7]])"
      ]
     },
     "execution_count": 140,
     "metadata": {},
     "output_type": "execute_result"
    }
   ],
   "source": [
    "x1 = ([3, 5], [5, 4], [6, 7])\n",
    "np.array(x1)"
   ]
  },
  {
   "cell_type": "code",
   "execution_count": 143,
   "id": "aa284cc9",
   "metadata": {},
   "outputs": [
    {
     "data": {
      "text/plain": [
       "array([[3., 5.],\n",
       "       [5., 4.],\n",
       "       [6., 7.]])"
      ]
     },
     "execution_count": 143,
     "metadata": {},
     "output_type": "execute_result"
    }
   ],
   "source": [
    "a1 = np.asarray(x1,dtype=float)\n",
    "a1"
   ]
  },
  {
   "cell_type": "code",
   "execution_count": 1,
   "id": "f0da09e1",
   "metadata": {},
   "outputs": [],
   "source": [
    "import pandas as pd\n",
    "import numpy as py"
   ]
  },
  {
   "cell_type": "code",
   "execution_count": 3,
   "id": "624f02c1",
   "metadata": {},
   "outputs": [
    {
     "name": "stdout",
     "output_type": "stream",
     "text": [
      "   0\n",
      "0  0\n",
      "1  1\n",
      "2  2\n",
      "3  3\n",
      "4  4\n"
     ]
    }
   ],
   "source": [
    "list1=list(range(5))\n",
    "df = pd.DataFrame(list1)\n",
    "print(df)"
   ]
  },
  {
   "cell_type": "code",
   "execution_count": 8,
   "id": "3dd0cbbd",
   "metadata": {},
   "outputs": [],
   "source": [
    "list2 =[[1,2],[3,4],[5,6]]\n",
    "df1 = pd.DataFrame(list2,columns=['x1','x2'])"
   ]
  },
  {
   "cell_type": "code",
   "execution_count": 9,
   "id": "1af21ff3",
   "metadata": {},
   "outputs": [
    {
     "data": {
      "text/html": [
       "<div>\n",
       "<style scoped>\n",
       "    .dataframe tbody tr th:only-of-type {\n",
       "        vertical-align: middle;\n",
       "    }\n",
       "\n",
       "    .dataframe tbody tr th {\n",
       "        vertical-align: top;\n",
       "    }\n",
       "\n",
       "    .dataframe thead th {\n",
       "        text-align: right;\n",
       "    }\n",
       "</style>\n",
       "<table border=\"1\" class=\"dataframe\">\n",
       "  <thead>\n",
       "    <tr style=\"text-align: right;\">\n",
       "      <th></th>\n",
       "      <th>x1</th>\n",
       "      <th>x2</th>\n",
       "    </tr>\n",
       "  </thead>\n",
       "  <tbody>\n",
       "    <tr>\n",
       "      <th>0</th>\n",
       "      <td>1</td>\n",
       "      <td>2</td>\n",
       "    </tr>\n",
       "    <tr>\n",
       "      <th>1</th>\n",
       "      <td>3</td>\n",
       "      <td>4</td>\n",
       "    </tr>\n",
       "    <tr>\n",
       "      <th>2</th>\n",
       "      <td>5</td>\n",
       "      <td>6</td>\n",
       "    </tr>\n",
       "  </tbody>\n",
       "</table>\n",
       "</div>"
      ],
      "text/plain": [
       "   x1  x2\n",
       "0   1   2\n",
       "1   3   4\n",
       "2   5   6"
      ]
     },
     "execution_count": 9,
     "metadata": {},
     "output_type": "execute_result"
    }
   ],
   "source": [
    "df1"
   ]
  },
  {
   "cell_type": "code",
   "execution_count": 6,
   "id": "dd26fa47",
   "metadata": {},
   "outputs": [
    {
     "data": {
      "text/html": [
       "<div>\n",
       "<style scoped>\n",
       "    .dataframe tbody tr th:only-of-type {\n",
       "        vertical-align: middle;\n",
       "    }\n",
       "\n",
       "    .dataframe tbody tr th {\n",
       "        vertical-align: top;\n",
       "    }\n",
       "\n",
       "    .dataframe thead th {\n",
       "        text-align: right;\n",
       "    }\n",
       "</style>\n",
       "<table border=\"1\" class=\"dataframe\">\n",
       "  <thead>\n",
       "    <tr style=\"text-align: right;\">\n",
       "      <th></th>\n",
       "      <th>name</th>\n",
       "      <th>#</th>\n",
       "    </tr>\n",
       "  </thead>\n",
       "  <tbody>\n",
       "    <tr>\n",
       "      <th>0</th>\n",
       "      <td>abc</td>\n",
       "      <td>1</td>\n",
       "    </tr>\n",
       "    <tr>\n",
       "      <th>1</th>\n",
       "      <td>cde</td>\n",
       "      <td>2</td>\n",
       "    </tr>\n",
       "  </tbody>\n",
       "</table>\n",
       "</div>"
      ],
      "text/plain": [
       "  name  #\n",
       "0  abc  1\n",
       "1  cde  2"
      ]
     },
     "execution_count": 6,
     "metadata": {},
     "output_type": "execute_result"
    }
   ],
   "source": [
    "list3=[['abc',1],['cde',2]]\n",
    "df1=pd.DataFrame(list3,columns=['name','#'])\n",
    "df1"
   ]
  },
  {
   "cell_type": "code",
   "execution_count": 11,
   "id": "e4f5bdf0",
   "metadata": {},
   "outputs": [
    {
     "data": {
      "text/html": [
       "<div>\n",
       "<style scoped>\n",
       "    .dataframe tbody tr th:only-of-type {\n",
       "        vertical-align: middle;\n",
       "    }\n",
       "\n",
       "    .dataframe tbody tr th {\n",
       "        vertical-align: top;\n",
       "    }\n",
       "\n",
       "    .dataframe thead th {\n",
       "        text-align: right;\n",
       "    }\n",
       "</style>\n",
       "<table border=\"1\" class=\"dataframe\">\n",
       "  <thead>\n",
       "    <tr style=\"text-align: right;\">\n",
       "      <th></th>\n",
       "      <th>CSK</th>\n",
       "      <th>RCB</th>\n",
       "    </tr>\n",
       "  </thead>\n",
       "  <tbody>\n",
       "    <tr>\n",
       "      <th>0</th>\n",
       "      <td>1</td>\n",
       "      <td>2</td>\n",
       "    </tr>\n",
       "    <tr>\n",
       "      <th>1</th>\n",
       "      <td>2</td>\n",
       "      <td>1</td>\n",
       "    </tr>\n",
       "    <tr>\n",
       "      <th>2</th>\n",
       "      <td>3</td>\n",
       "      <td>2</td>\n",
       "    </tr>\n",
       "  </tbody>\n",
       "</table>\n",
       "</div>"
      ],
      "text/plain": [
       "   CSK  RCB\n",
       "0    1    2\n",
       "1    2    1\n",
       "2    3    2"
      ]
     },
     "execution_count": 11,
     "metadata": {},
     "output_type": "execute_result"
    }
   ],
   "source": [
    "d1 = {'CSK':[1,2,3],'RCB':[2,1,2]}\n",
    "dataf2 = pd.DataFrame(d1)\n",
    "dataf2"
   ]
  },
  {
   "cell_type": "code",
   "execution_count": 13,
   "id": "a7fa6d07",
   "metadata": {},
   "outputs": [
    {
     "data": {
      "text/html": [
       "<div>\n",
       "<style scoped>\n",
       "    .dataframe tbody tr th:only-of-type {\n",
       "        vertical-align: middle;\n",
       "    }\n",
       "\n",
       "    .dataframe tbody tr th {\n",
       "        vertical-align: top;\n",
       "    }\n",
       "\n",
       "    .dataframe thead th {\n",
       "        text-align: right;\n",
       "    }\n",
       "</style>\n",
       "<table border=\"1\" class=\"dataframe\">\n",
       "  <thead>\n",
       "    <tr style=\"text-align: right;\">\n",
       "      <th></th>\n",
       "      <th>CSK</th>\n",
       "      <th>RCB</th>\n",
       "    </tr>\n",
       "  </thead>\n",
       "  <tbody>\n",
       "    <tr>\n",
       "      <th>1</th>\n",
       "      <td>1</td>\n",
       "      <td>2</td>\n",
       "    </tr>\n",
       "    <tr>\n",
       "      <th>2</th>\n",
       "      <td>2</td>\n",
       "      <td>1</td>\n",
       "    </tr>\n",
       "    <tr>\n",
       "      <th>3</th>\n",
       "      <td>3</td>\n",
       "      <td>2</td>\n",
       "    </tr>\n",
       "  </tbody>\n",
       "</table>\n",
       "</div>"
      ],
      "text/plain": [
       "   CSK  RCB\n",
       "1    1    2\n",
       "2    2    1\n",
       "3    3    2"
      ]
     },
     "execution_count": 13,
     "metadata": {},
     "output_type": "execute_result"
    }
   ],
   "source": [
    "d1 = {'CSK':[1,2,3],'RCB':[2,1,2]}\n",
    "dataf2 = pd.DataFrame(d1,index=[1,2,3])\n",
    "dataf2"
   ]
  },
  {
   "cell_type": "code",
   "execution_count": null,
   "id": "3545523c",
   "metadata": {},
   "outputs": [],
   "source": []
  },
  {
   "cell_type": "code",
   "execution_count": null,
   "id": "2a700010",
   "metadata": {},
   "outputs": [],
   "source": []
  },
  {
   "cell_type": "code",
   "execution_count": null,
   "id": "2e76c623",
   "metadata": {},
   "outputs": [],
   "source": []
  },
  {
   "cell_type": "code",
   "execution_count": null,
   "id": "e2d116c7",
   "metadata": {},
   "outputs": [],
   "source": []
  },
  {
   "cell_type": "code",
   "execution_count": null,
   "id": "3d11f3d6",
   "metadata": {},
   "outputs": [],
   "source": []
  },
  {
   "cell_type": "code",
   "execution_count": null,
   "id": "3ea1b832",
   "metadata": {},
   "outputs": [],
   "source": []
  },
  {
   "cell_type": "code",
   "execution_count": null,
   "id": "ecc268ae",
   "metadata": {},
   "outputs": [],
   "source": [
    "aaa"
   ]
  }
 ],
 "metadata": {
  "kernelspec": {
   "display_name": "Python 3 (ipykernel)",
   "language": "python",
   "name": "python3"
  },
  "language_info": {
   "codemirror_mode": {
    "name": "ipython",
    "version": 3
   },
   "file_extension": ".py",
   "mimetype": "text/x-python",
   "name": "python",
   "nbconvert_exporter": "python",
   "pygments_lexer": "ipython3",
   "version": "3.9.7"
  }
 },
 "nbformat": 4,
 "nbformat_minor": 5
}
