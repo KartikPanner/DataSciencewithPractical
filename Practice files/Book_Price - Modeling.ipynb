{
 "cells": [
  {
   "cell_type": "code",
   "execution_count": 1,
   "id": "daceca8c",
   "metadata": {},
   "outputs": [],
   "source": [
    "import pandas as pd\n",
    "import numpy as np\n",
    "from sklearn.model_selection import train_test_split\n",
    "\n",
    "from sklearn.linear_model import LinearRegression, Lasso, Ridge, ElasticNet\n",
    "from sklearn.tree import DecisionTreeRegressor\n",
    "from sklearn.ensemble import RandomForestRegressor\n",
    "from sklearn.neighbors import KNeighborsRegressor"
   ]
  },
  {
   "cell_type": "code",
   "execution_count": 11,
   "id": "d90cee63",
   "metadata": {},
   "outputs": [],
   "source": [
    "def rmsle (y_true, y_pred):\n",
    "    return 1-np.sqrt(np.square(np.log10(y_pred + 1)-np.log10(y_true+1)).mean())"
   ]
  },
  {
   "cell_type": "code",
   "execution_count": 3,
   "id": "0cf5c07d",
   "metadata": {},
   "outputs": [],
   "source": [
    "train = pd.read_csv('book_train_preprocessed.csv')\n",
    "test = pd.read_csv('book_test_preprocessed.csv')"
   ]
  },
  {
   "cell_type": "code",
   "execution_count": 4,
   "id": "d884dbfe",
   "metadata": {},
   "outputs": [
    {
     "data": {
      "text/html": [
       "<div>\n",
       "<style scoped>\n",
       "    .dataframe tbody tr th:only-of-type {\n",
       "        vertical-align: middle;\n",
       "    }\n",
       "\n",
       "    .dataframe tbody tr th {\n",
       "        vertical-align: top;\n",
       "    }\n",
       "\n",
       "    .dataframe thead th {\n",
       "        text-align: right;\n",
       "    }\n",
       "</style>\n",
       "<table border=\"1\" class=\"dataframe\">\n",
       "  <thead>\n",
       "    <tr style=\"text-align: right;\">\n",
       "      <th></th>\n",
       "      <th>Publication_Hardcover</th>\n",
       "      <th>Publication_Paperback</th>\n",
       "      <th>Publication_others</th>\n",
       "      <th>BookCategory_Action &amp; Adventure</th>\n",
       "      <th>BookCategory_Arts, Film &amp; Photography</th>\n",
       "      <th>BookCategory_Biographies, Diaries &amp; True Accounts</th>\n",
       "      <th>BookCategory_Comics &amp; Mangas</th>\n",
       "      <th>BookCategory_Computing, Internet &amp; Digital Media</th>\n",
       "      <th>BookCategory_Crime, Thriller &amp; Mystery</th>\n",
       "      <th>BookCategory_Humour</th>\n",
       "      <th>BookCategory_Language, Linguistics &amp; Writing</th>\n",
       "      <th>BookCategory_Politics</th>\n",
       "      <th>BookCategory_Romance</th>\n",
       "      <th>BookCategory_Sports</th>\n",
       "      <th>Reviews</th>\n",
       "      <th>Ratings</th>\n",
       "      <th>Age_of_book</th>\n",
       "      <th>Price</th>\n",
       "    </tr>\n",
       "  </thead>\n",
       "  <tbody>\n",
       "    <tr>\n",
       "      <th>0</th>\n",
       "      <td>0</td>\n",
       "      <td>1</td>\n",
       "      <td>0</td>\n",
       "      <td>1</td>\n",
       "      <td>0</td>\n",
       "      <td>0</td>\n",
       "      <td>0</td>\n",
       "      <td>0</td>\n",
       "      <td>0</td>\n",
       "      <td>0</td>\n",
       "      <td>0</td>\n",
       "      <td>0</td>\n",
       "      <td>0</td>\n",
       "      <td>0</td>\n",
       "      <td>4.0</td>\n",
       "      <td>8</td>\n",
       "      <td>6</td>\n",
       "      <td>220.00</td>\n",
       "    </tr>\n",
       "    <tr>\n",
       "      <th>1</th>\n",
       "      <td>0</td>\n",
       "      <td>1</td>\n",
       "      <td>0</td>\n",
       "      <td>0</td>\n",
       "      <td>0</td>\n",
       "      <td>1</td>\n",
       "      <td>0</td>\n",
       "      <td>0</td>\n",
       "      <td>0</td>\n",
       "      <td>0</td>\n",
       "      <td>0</td>\n",
       "      <td>0</td>\n",
       "      <td>0</td>\n",
       "      <td>0</td>\n",
       "      <td>3.9</td>\n",
       "      <td>14</td>\n",
       "      <td>10</td>\n",
       "      <td>202.93</td>\n",
       "    </tr>\n",
       "    <tr>\n",
       "      <th>2</th>\n",
       "      <td>0</td>\n",
       "      <td>1</td>\n",
       "      <td>0</td>\n",
       "      <td>0</td>\n",
       "      <td>0</td>\n",
       "      <td>0</td>\n",
       "      <td>0</td>\n",
       "      <td>0</td>\n",
       "      <td>0</td>\n",
       "      <td>1</td>\n",
       "      <td>0</td>\n",
       "      <td>0</td>\n",
       "      <td>0</td>\n",
       "      <td>0</td>\n",
       "      <td>4.8</td>\n",
       "      <td>6</td>\n",
       "      <td>40</td>\n",
       "      <td>299.00</td>\n",
       "    </tr>\n",
       "    <tr>\n",
       "      <th>3</th>\n",
       "      <td>0</td>\n",
       "      <td>1</td>\n",
       "      <td>0</td>\n",
       "      <td>0</td>\n",
       "      <td>0</td>\n",
       "      <td>0</td>\n",
       "      <td>0</td>\n",
       "      <td>0</td>\n",
       "      <td>1</td>\n",
       "      <td>0</td>\n",
       "      <td>0</td>\n",
       "      <td>0</td>\n",
       "      <td>0</td>\n",
       "      <td>0</td>\n",
       "      <td>4.1</td>\n",
       "      <td>13</td>\n",
       "      <td>5</td>\n",
       "      <td>180.00</td>\n",
       "    </tr>\n",
       "    <tr>\n",
       "      <th>4</th>\n",
       "      <td>1</td>\n",
       "      <td>0</td>\n",
       "      <td>0</td>\n",
       "      <td>0</td>\n",
       "      <td>1</td>\n",
       "      <td>0</td>\n",
       "      <td>0</td>\n",
       "      <td>0</td>\n",
       "      <td>0</td>\n",
       "      <td>0</td>\n",
       "      <td>0</td>\n",
       "      <td>0</td>\n",
       "      <td>0</td>\n",
       "      <td>0</td>\n",
       "      <td>5.0</td>\n",
       "      <td>1</td>\n",
       "      <td>16</td>\n",
       "      <td>965.62</td>\n",
       "    </tr>\n",
       "    <tr>\n",
       "      <th>...</th>\n",
       "      <td>...</td>\n",
       "      <td>...</td>\n",
       "      <td>...</td>\n",
       "      <td>...</td>\n",
       "      <td>...</td>\n",
       "      <td>...</td>\n",
       "      <td>...</td>\n",
       "      <td>...</td>\n",
       "      <td>...</td>\n",
       "      <td>...</td>\n",
       "      <td>...</td>\n",
       "      <td>...</td>\n",
       "      <td>...</td>\n",
       "      <td>...</td>\n",
       "      <td>...</td>\n",
       "      <td>...</td>\n",
       "      <td>...</td>\n",
       "      <td>...</td>\n",
       "    </tr>\n",
       "    <tr>\n",
       "      <th>6232</th>\n",
       "      <td>0</td>\n",
       "      <td>1</td>\n",
       "      <td>0</td>\n",
       "      <td>0</td>\n",
       "      <td>0</td>\n",
       "      <td>0</td>\n",
       "      <td>0</td>\n",
       "      <td>0</td>\n",
       "      <td>0</td>\n",
       "      <td>1</td>\n",
       "      <td>0</td>\n",
       "      <td>0</td>\n",
       "      <td>0</td>\n",
       "      <td>0</td>\n",
       "      <td>5.0</td>\n",
       "      <td>2</td>\n",
       "      <td>4</td>\n",
       "      <td>322.00</td>\n",
       "    </tr>\n",
       "    <tr>\n",
       "      <th>6233</th>\n",
       "      <td>0</td>\n",
       "      <td>1</td>\n",
       "      <td>0</td>\n",
       "      <td>0</td>\n",
       "      <td>0</td>\n",
       "      <td>0</td>\n",
       "      <td>0</td>\n",
       "      <td>0</td>\n",
       "      <td>1</td>\n",
       "      <td>0</td>\n",
       "      <td>0</td>\n",
       "      <td>0</td>\n",
       "      <td>0</td>\n",
       "      <td>0</td>\n",
       "      <td>3.3</td>\n",
       "      <td>9</td>\n",
       "      <td>6</td>\n",
       "      <td>421.00</td>\n",
       "    </tr>\n",
       "    <tr>\n",
       "      <th>6234</th>\n",
       "      <td>0</td>\n",
       "      <td>1</td>\n",
       "      <td>0</td>\n",
       "      <td>0</td>\n",
       "      <td>0</td>\n",
       "      <td>0</td>\n",
       "      <td>0</td>\n",
       "      <td>0</td>\n",
       "      <td>0</td>\n",
       "      <td>0</td>\n",
       "      <td>0</td>\n",
       "      <td>0</td>\n",
       "      <td>1</td>\n",
       "      <td>0</td>\n",
       "      <td>3.8</td>\n",
       "      <td>3</td>\n",
       "      <td>16</td>\n",
       "      <td>399.00</td>\n",
       "    </tr>\n",
       "    <tr>\n",
       "      <th>6235</th>\n",
       "      <td>0</td>\n",
       "      <td>1</td>\n",
       "      <td>0</td>\n",
       "      <td>1</td>\n",
       "      <td>0</td>\n",
       "      <td>0</td>\n",
       "      <td>0</td>\n",
       "      <td>0</td>\n",
       "      <td>0</td>\n",
       "      <td>0</td>\n",
       "      <td>0</td>\n",
       "      <td>0</td>\n",
       "      <td>0</td>\n",
       "      <td>0</td>\n",
       "      <td>3.5</td>\n",
       "      <td>4</td>\n",
       "      <td>7</td>\n",
       "      <td>319.00</td>\n",
       "    </tr>\n",
       "    <tr>\n",
       "      <th>6236</th>\n",
       "      <td>0</td>\n",
       "      <td>1</td>\n",
       "      <td>0</td>\n",
       "      <td>1</td>\n",
       "      <td>0</td>\n",
       "      <td>0</td>\n",
       "      <td>0</td>\n",
       "      <td>0</td>\n",
       "      <td>0</td>\n",
       "      <td>0</td>\n",
       "      <td>0</td>\n",
       "      <td>0</td>\n",
       "      <td>0</td>\n",
       "      <td>0</td>\n",
       "      <td>3.9</td>\n",
       "      <td>2</td>\n",
       "      <td>6</td>\n",
       "      <td>452.00</td>\n",
       "    </tr>\n",
       "  </tbody>\n",
       "</table>\n",
       "<p>6237 rows × 18 columns</p>\n",
       "</div>"
      ],
      "text/plain": [
       "      Publication_Hardcover  Publication_Paperback  Publication_others  \\\n",
       "0                         0                      1                   0   \n",
       "1                         0                      1                   0   \n",
       "2                         0                      1                   0   \n",
       "3                         0                      1                   0   \n",
       "4                         1                      0                   0   \n",
       "...                     ...                    ...                 ...   \n",
       "6232                      0                      1                   0   \n",
       "6233                      0                      1                   0   \n",
       "6234                      0                      1                   0   \n",
       "6235                      0                      1                   0   \n",
       "6236                      0                      1                   0   \n",
       "\n",
       "      BookCategory_Action & Adventure  BookCategory_Arts, Film & Photography  \\\n",
       "0                                   1                                      0   \n",
       "1                                   0                                      0   \n",
       "2                                   0                                      0   \n",
       "3                                   0                                      0   \n",
       "4                                   0                                      1   \n",
       "...                               ...                                    ...   \n",
       "6232                                0                                      0   \n",
       "6233                                0                                      0   \n",
       "6234                                0                                      0   \n",
       "6235                                1                                      0   \n",
       "6236                                1                                      0   \n",
       "\n",
       "      BookCategory_Biographies, Diaries & True Accounts  \\\n",
       "0                                                     0   \n",
       "1                                                     1   \n",
       "2                                                     0   \n",
       "3                                                     0   \n",
       "4                                                     0   \n",
       "...                                                 ...   \n",
       "6232                                                  0   \n",
       "6233                                                  0   \n",
       "6234                                                  0   \n",
       "6235                                                  0   \n",
       "6236                                                  0   \n",
       "\n",
       "      BookCategory_Comics & Mangas  \\\n",
       "0                                0   \n",
       "1                                0   \n",
       "2                                0   \n",
       "3                                0   \n",
       "4                                0   \n",
       "...                            ...   \n",
       "6232                             0   \n",
       "6233                             0   \n",
       "6234                             0   \n",
       "6235                             0   \n",
       "6236                             0   \n",
       "\n",
       "      BookCategory_Computing, Internet & Digital Media  \\\n",
       "0                                                    0   \n",
       "1                                                    0   \n",
       "2                                                    0   \n",
       "3                                                    0   \n",
       "4                                                    0   \n",
       "...                                                ...   \n",
       "6232                                                 0   \n",
       "6233                                                 0   \n",
       "6234                                                 0   \n",
       "6235                                                 0   \n",
       "6236                                                 0   \n",
       "\n",
       "      BookCategory_Crime, Thriller & Mystery  BookCategory_Humour  \\\n",
       "0                                          0                    0   \n",
       "1                                          0                    0   \n",
       "2                                          0                    1   \n",
       "3                                          1                    0   \n",
       "4                                          0                    0   \n",
       "...                                      ...                  ...   \n",
       "6232                                       0                    1   \n",
       "6233                                       1                    0   \n",
       "6234                                       0                    0   \n",
       "6235                                       0                    0   \n",
       "6236                                       0                    0   \n",
       "\n",
       "      BookCategory_Language, Linguistics & Writing  BookCategory_Politics  \\\n",
       "0                                                0                      0   \n",
       "1                                                0                      0   \n",
       "2                                                0                      0   \n",
       "3                                                0                      0   \n",
       "4                                                0                      0   \n",
       "...                                            ...                    ...   \n",
       "6232                                             0                      0   \n",
       "6233                                             0                      0   \n",
       "6234                                             0                      0   \n",
       "6235                                             0                      0   \n",
       "6236                                             0                      0   \n",
       "\n",
       "      BookCategory_Romance  BookCategory_Sports  Reviews  Ratings  \\\n",
       "0                        0                    0      4.0        8   \n",
       "1                        0                    0      3.9       14   \n",
       "2                        0                    0      4.8        6   \n",
       "3                        0                    0      4.1       13   \n",
       "4                        0                    0      5.0        1   \n",
       "...                    ...                  ...      ...      ...   \n",
       "6232                     0                    0      5.0        2   \n",
       "6233                     0                    0      3.3        9   \n",
       "6234                     1                    0      3.8        3   \n",
       "6235                     0                    0      3.5        4   \n",
       "6236                     0                    0      3.9        2   \n",
       "\n",
       "      Age_of_book   Price  \n",
       "0               6  220.00  \n",
       "1              10  202.93  \n",
       "2              40  299.00  \n",
       "3               5  180.00  \n",
       "4              16  965.62  \n",
       "...           ...     ...  \n",
       "6232            4  322.00  \n",
       "6233            6  421.00  \n",
       "6234           16  399.00  \n",
       "6235            7  319.00  \n",
       "6236            6  452.00  \n",
       "\n",
       "[6237 rows x 18 columns]"
      ]
     },
     "execution_count": 4,
     "metadata": {},
     "output_type": "execute_result"
    }
   ],
   "source": [
    "train"
   ]
  },
  {
   "cell_type": "code",
   "execution_count": 5,
   "id": "13993daf",
   "metadata": {},
   "outputs": [],
   "source": [
    "x = train.drop(columns = 'Price')"
   ]
  },
  {
   "cell_type": "code",
   "execution_count": 6,
   "id": "e0678d86",
   "metadata": {},
   "outputs": [],
   "source": [
    "y = train ['Price']"
   ]
  },
  {
   "cell_type": "code",
   "execution_count": 7,
   "id": "115539b4",
   "metadata": {},
   "outputs": [],
   "source": [
    "train_x, test_x, train_y, test_y = train_test_split(x,y,test_size = 0.2, random_state = 32)"
   ]
  },
  {
   "cell_type": "code",
   "execution_count": 8,
   "id": "bf4f3e76",
   "metadata": {},
   "outputs": [
    {
     "data": {
      "text/plain": [
       "LinearRegression()"
      ]
     },
     "execution_count": 8,
     "metadata": {},
     "output_type": "execute_result"
    }
   ],
   "source": [
    "model = LinearRegression()\n",
    "model.fit(train_x,train_y)"
   ]
  },
  {
   "cell_type": "code",
   "execution_count": 9,
   "id": "c9c6f38c",
   "metadata": {},
   "outputs": [],
   "source": [
    "train_pred = model.predict(train_x)"
   ]
  },
  {
   "cell_type": "code",
   "execution_count": 12,
   "id": "0b16cf03",
   "metadata": {},
   "outputs": [
    {
     "name": "stderr",
     "output_type": "stream",
     "text": [
      "C:\\Users\\karthikp\\AppData\\Local\\Temp/ipykernel_1332/3521714073.py:2: RuntimeWarning: invalid value encountered in log10\n",
      "  return 1-np.sqrt(np.square(np.log10(y_pred + 1)-np.log10(y_true+1)).mean())\n"
     ]
    },
    {
     "data": {
      "text/plain": [
       "0.6816210546135246"
      ]
     },
     "execution_count": 12,
     "metadata": {},
     "output_type": "execute_result"
    }
   ],
   "source": [
    "rmsle(train_y, train_pred)"
   ]
  },
  {
   "cell_type": "code",
   "execution_count": 13,
   "id": "89cafdbe",
   "metadata": {},
   "outputs": [],
   "source": [
    "test_pred = model.predict(test_x)"
   ]
  },
  {
   "cell_type": "code",
   "execution_count": 14,
   "id": "160a19f3",
   "metadata": {},
   "outputs": [
    {
     "data": {
      "text/plain": [
       "0.6838789418169684"
      ]
     },
     "execution_count": 14,
     "metadata": {},
     "output_type": "execute_result"
    }
   ],
   "source": [
    "rmsle(test_y, test_pred)"
   ]
  },
  {
   "cell_type": "code",
   "execution_count": 15,
   "id": "6962a049",
   "metadata": {},
   "outputs": [
    {
     "data": {
      "text/plain": [
       "LinearRegression()"
      ]
     },
     "execution_count": 15,
     "metadata": {},
     "output_type": "execute_result"
    }
   ],
   "source": [
    "model.fit(x,y)"
   ]
  },
  {
   "cell_type": "code",
   "execution_count": 16,
   "id": "a5b219dc",
   "metadata": {},
   "outputs": [],
   "source": [
    "data_pred = model.predict(test)"
   ]
  },
  {
   "cell_type": "code",
   "execution_count": 29,
   "id": "619af733",
   "metadata": {},
   "outputs": [
    {
     "data": {
      "text/html": [
       "<div>\n",
       "<style scoped>\n",
       "    .dataframe tbody tr th:only-of-type {\n",
       "        vertical-align: middle;\n",
       "    }\n",
       "\n",
       "    .dataframe tbody tr th {\n",
       "        vertical-align: top;\n",
       "    }\n",
       "\n",
       "    .dataframe thead th {\n",
       "        text-align: right;\n",
       "    }\n",
       "</style>\n",
       "<table border=\"1\" class=\"dataframe\">\n",
       "  <thead>\n",
       "    <tr style=\"text-align: right;\">\n",
       "      <th></th>\n",
       "      <th>Price</th>\n",
       "    </tr>\n",
       "  </thead>\n",
       "  <tbody>\n",
       "    <tr>\n",
       "      <th>0</th>\n",
       "      <td>311.819101</td>\n",
       "    </tr>\n",
       "    <tr>\n",
       "      <th>1</th>\n",
       "      <td>973.947037</td>\n",
       "    </tr>\n",
       "    <tr>\n",
       "      <th>2</th>\n",
       "      <td>427.626412</td>\n",
       "    </tr>\n",
       "    <tr>\n",
       "      <th>3</th>\n",
       "      <td>903.079823</td>\n",
       "    </tr>\n",
       "    <tr>\n",
       "      <th>4</th>\n",
       "      <td>436.245925</td>\n",
       "    </tr>\n",
       "    <tr>\n",
       "      <th>...</th>\n",
       "      <td>...</td>\n",
       "    </tr>\n",
       "    <tr>\n",
       "      <th>1555</th>\n",
       "      <td>997.898557</td>\n",
       "    </tr>\n",
       "    <tr>\n",
       "      <th>1556</th>\n",
       "      <td>214.859619</td>\n",
       "    </tr>\n",
       "    <tr>\n",
       "      <th>1557</th>\n",
       "      <td>525.038292</td>\n",
       "    </tr>\n",
       "    <tr>\n",
       "      <th>1558</th>\n",
       "      <td>222.280216</td>\n",
       "    </tr>\n",
       "    <tr>\n",
       "      <th>1559</th>\n",
       "      <td>428.486886</td>\n",
       "    </tr>\n",
       "  </tbody>\n",
       "</table>\n",
       "<p>1560 rows × 1 columns</p>\n",
       "</div>"
      ],
      "text/plain": [
       "           Price\n",
       "0     311.819101\n",
       "1     973.947037\n",
       "2     427.626412\n",
       "3     903.079823\n",
       "4     436.245925\n",
       "...          ...\n",
       "1555  997.898557\n",
       "1556  214.859619\n",
       "1557  525.038292\n",
       "1558  222.280216\n",
       "1559  428.486886\n",
       "\n",
       "[1560 rows x 1 columns]"
      ]
     },
     "execution_count": 29,
     "metadata": {},
     "output_type": "execute_result"
    }
   ],
   "source": [
    "pd.DataFrame(data_pred,columns=['Price'])"
   ]
  },
  {
   "cell_type": "code",
   "execution_count": 34,
   "id": "b73d3485",
   "metadata": {},
   "outputs": [],
   "source": [
    "def run_model_evaluate(model, train_x, test_x, train_y, test_y, x, y, test, filename):\n",
    "    #model = LinearRegression()\n",
    "    model.fit(train_x, train_y)\n",
    "    train_pred = model.predict(train_x)\n",
    "    test_pred = model.predict(test_x)\n",
    "    print('TRAIN RMSLE :',rmsle(train_y, train_pred))\n",
    "    print('TEST RMSLE :',rmsle(test_y, test_pred))\n",
    "    model.fit(x,y)\n",
    "    data_pred = model.predict(test)\n",
    "    res = pd.DataFrame(data_pred,columns=['Price'])\n",
    "    res.to_csv(filename, index = False)"
   ]
  },
  {
   "cell_type": "code",
   "execution_count": 37,
   "id": "a1f0a9ea",
   "metadata": {},
   "outputs": [
    {
     "name": "stdout",
     "output_type": "stream",
     "text": [
      "TRAIN RMSLE : 0.6816210546135246\n",
      "TEST RMSLE : 0.6838789418169684\n"
     ]
    },
    {
     "name": "stderr",
     "output_type": "stream",
     "text": [
      "C:\\Users\\karthikp\\AppData\\Local\\Temp/ipykernel_1332/3521714073.py:2: RuntimeWarning: invalid value encountered in log10\n",
      "  return 1-np.sqrt(np.square(np.log10(y_pred + 1)-np.log10(y_true+1)).mean())\n"
     ]
    }
   ],
   "source": [
    "book_linear_reg = LinearRegression()\n",
    "run_model_evaluate(linear_reg, train_x, test_x, train_y, test_y, x, y, test, \"book_linear_reg.csv\")"
   ]
  },
  {
   "cell_type": "code",
   "execution_count": 39,
   "id": "53d7bcc1",
   "metadata": {},
   "outputs": [
    {
     "name": "stdout",
     "output_type": "stream",
     "text": [
      "TRAIN RMSLE : 0.8937215541871609\n",
      "TEST RMSLE : 0.6211848815590344\n"
     ]
    }
   ],
   "source": [
    "book_Decision_Tree = DecisionTreeRegressor()\n",
    "run_model_evaluate(book_Decision_Tree, train_x, test_x, train_y, test_y, x, y, test, \"book_Decision_Tree.csv\")"
   ]
  },
  {
   "cell_type": "code",
   "execution_count": 40,
   "id": "b2cb1314",
   "metadata": {},
   "outputs": [
    {
     "name": "stdout",
     "output_type": "stream",
     "text": [
      "TRAIN RMSLE : 0.8279476837380171\n",
      "TEST RMSLE : 0.6887975642229143\n"
     ]
    }
   ],
   "source": [
    "book_Random_forest = RandomForestRegressor()\n",
    "run_model_evaluate(book_Random_forest, train_x, test_x, train_y, test_y, x, y, test, \"book_Random_forest.csv\")"
   ]
  },
  {
   "cell_type": "code",
   "execution_count": null,
   "id": "ab8a3e9e",
   "metadata": {},
   "outputs": [],
   "source": []
  },
  {
   "cell_type": "code",
   "execution_count": null,
   "id": "874a48fb",
   "metadata": {},
   "outputs": [],
   "source": []
  },
  {
   "cell_type": "code",
   "execution_count": null,
   "id": "b00c3d2a",
   "metadata": {},
   "outputs": [],
   "source": []
  },
  {
   "cell_type": "code",
   "execution_count": null,
   "id": "aaedd23b",
   "metadata": {},
   "outputs": [],
   "source": []
  },
  {
   "cell_type": "code",
   "execution_count": null,
   "id": "f0a76c5b",
   "metadata": {},
   "outputs": [],
   "source": []
  },
  {
   "cell_type": "code",
   "execution_count": null,
   "id": "7e48608e",
   "metadata": {},
   "outputs": [],
   "source": []
  },
  {
   "cell_type": "code",
   "execution_count": null,
   "id": "31890da3",
   "metadata": {},
   "outputs": [],
   "source": []
  }
 ],
 "metadata": {
  "kernelspec": {
   "display_name": "Python 3 (ipykernel)",
   "language": "python",
   "name": "python3"
  },
  "language_info": {
   "codemirror_mode": {
    "name": "ipython",
    "version": 3
   },
   "file_extension": ".py",
   "mimetype": "text/x-python",
   "name": "python",
   "nbconvert_exporter": "python",
   "pygments_lexer": "ipython3",
   "version": "3.9.7"
  }
 },
 "nbformat": 4,
 "nbformat_minor": 5
}
