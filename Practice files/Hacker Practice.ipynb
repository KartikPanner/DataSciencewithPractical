{
 "cells": [
  {
   "cell_type": "code",
   "execution_count": 8,
   "id": "be3536a7",
   "metadata": {},
   "outputs": [
    {
     "ename": "SyntaxError",
     "evalue": "invalid syntax (Temp/ipykernel_11312/3526328142.py, line 5)",
     "output_type": "error",
     "traceback": [
      "\u001b[1;36m  File \u001b[1;32m\"C:\\Users\\karthikp\\AppData\\Local\\Temp/ipykernel_11312/3526328142.py\"\u001b[1;36m, line \u001b[1;32m5\u001b[0m\n\u001b[1;33m    print[[x,y,z] for x in list(range(x)) for y in list(range(y)) for z in list(range(z))]\u001b[0m\n\u001b[1;37m                  ^\u001b[0m\n\u001b[1;31mSyntaxError\u001b[0m\u001b[1;31m:\u001b[0m invalid syntax\n"
     ]
    }
   ],
   "source": [
    "\n",
    "x = int(input())\n",
    "y = int(input())\n",
    "z = int(input())\n",
    "\n",
    "print[[x,y,z] for x in list(range(x)) for y in list(range(y)) for z in list(range(z))]"
   ]
  },
  {
   "cell_type": "code",
   "execution_count": 73,
   "id": "8481b0fc",
   "metadata": {},
   "outputs": [
    {
     "name": "stdout",
     "output_type": "stream",
     "text": [
      "1\n",
      "1\n",
      "1\n",
      "[0, 0, 0]\n",
      "[0, 0, 1]\n",
      "[0, 1, 0]\n",
      "[1, 0, 0]\n",
      "[1, 1, 1]\n"
     ]
    }
   ],
   "source": [
    "x = int(input())\n",
    "y = int(input())\n",
    "z = int(input())\n",
    "n=2\n",
    "w=[[a,b,c] for a in range(x+1) for b in range(y+1) for c in range(z+1)]\n",
    "for i in w:\n",
    "    w = sum(i)\n",
    "    if w==n:\n",
    "        continue\n",
    "    print (list(i))"
   ]
  },
  {
   "cell_type": "markdown",
   "id": "df89c5e0",
   "metadata": {},
   "source": [
    "w = [1,2,3],[2,3,3],[3,2,3]\n",
    "for i in w:\n",
    "    a=sum(i)\n",
    "    if a == 8:\n",
    "        continue\n",
    "    print(i)\n"
   ]
  },
  {
   "cell_type": "code",
   "execution_count": 72,
   "id": "229640bb",
   "metadata": {},
   "outputs": [
    {
     "name": "stdout",
     "output_type": "stream",
     "text": [
      "[1, 2, 3, 4]\n"
     ]
    }
   ],
   "source": [
    "a=1,2,3,4\n",
    "print(list(a))"
   ]
  },
  {
   "cell_type": "code",
   "execution_count": null,
   "id": "d53e2189",
   "metadata": {},
   "outputs": [],
   "source": []
  },
  {
   "cell_type": "code",
   "execution_count": null,
   "id": "86e03a27",
   "metadata": {},
   "outputs": [],
   "source": []
  },
  {
   "cell_type": "code",
   "execution_count": 23,
   "id": "48d1996b",
   "metadata": {},
   "outputs": [
    {
     "name": "stdout",
     "output_type": "stream",
     "text": [
      "5\n",
      "Weird\n"
     ]
    }
   ],
   "source": [
    "n = int(input())\n",
    "if n % 2 == 0 and 2 < n < 5:\n",
    "    print('Not weird')\n",
    "elif n % 2 == 0 and 6 < n < 20:\n",
    "    print('Weird')\n",
    "elif n % 2 ==0 and n >20:\n",
    "    print('Not Weird')\n",
    "else:\n",
    "    print('Weird')"
   ]
  },
  {
   "cell_type": "code",
   "execution_count": null,
   "id": "0d0d3745",
   "metadata": {},
   "outputs": [],
   "source": []
  },
  {
   "cell_type": "code",
   "execution_count": 26,
   "id": "1adfa0de",
   "metadata": {},
   "outputs": [
    {
     "name": "stdout",
     "output_type": "stream",
     "text": [
      "3\n",
      "Weird\n"
     ]
    }
   ],
   "source": [
    "n = int(input())\n",
    "if n%2 != 0:\n",
    "    print('Weird')\n",
    "else:\n",
    "    if n >=2 and n<=5:\n",
    "        print('Not Weird')\n",
    "    elif n >=6 and n<= 20:\n",
    "        print('Weird')\n",
    "    elif n>20:\n",
    "        print('Not Werd')"
   ]
  },
  {
   "cell_type": "code",
   "execution_count": 4,
   "id": "22f67446",
   "metadata": {},
   "outputs": [
    {
     "name": "stdout",
     "output_type": "stream",
     "text": [
      "20\n",
      "10\n"
     ]
    }
   ],
   "source": [
    "list1 = [10, 20, 4, 45, 99]\n",
    "mx=max(list1[0],list1[1])\n",
    "secondmax=min(list1[0],list1[1])\n",
    "print(mx)\n",
    "print(secondmax)"
   ]
  },
  {
   "cell_type": "code",
   "execution_count": 12,
   "id": "b2debefe",
   "metadata": {},
   "outputs": [
    {
     "name": "stdout",
     "output_type": "stream",
     "text": [
      "None\n"
     ]
    }
   ],
   "source": [
    "x=list1.sort()\n",
    "print(x)"
   ]
  },
  {
   "cell_type": "code",
   "execution_count": 17,
   "id": "5e284cd4",
   "metadata": {},
   "outputs": [
    {
     "name": "stdout",
     "output_type": "stream",
     "text": [
      "[4, 10, 20, 45, 99]\n"
     ]
    }
   ],
   "source": [
    "list1.sort()\n",
    "print(list1)"
   ]
  },
  {
   "cell_type": "code",
   "execution_count": 16,
   "id": "50877dca",
   "metadata": {},
   "outputs": [
    {
     "name": "stdout",
     "output_type": "stream",
     "text": [
      "['BMW', 'Ford', 'Volvo']\n"
     ]
    }
   ],
   "source": [
    "cars = ['Ford', 'BMW', 'Volvo']\n",
    "cars.sort()\n",
    "print(cars)"
   ]
  },
  {
   "cell_type": "code",
   "execution_count": 33,
   "id": "b3c31d06",
   "metadata": {},
   "outputs": [
    {
     "ename": "TypeError",
     "evalue": "map() must have at least two arguments.",
     "output_type": "error",
     "traceback": [
      "\u001b[1;31m---------------------------------------------------------------------------\u001b[0m",
      "\u001b[1;31mTypeError\u001b[0m                                 Traceback (most recent call last)",
      "\u001b[1;32m~\\AppData\\Local\\Temp/ipykernel_8348/1204591762.py\u001b[0m in \u001b[0;36m<module>\u001b[1;34m\u001b[0m\n\u001b[0;32m      1\u001b[0m \u001b[0mx\u001b[0m\u001b[1;33m=\u001b[0m\u001b[1;36m2\u001b[0m\u001b[1;33m,\u001b[0m\u001b[1;36m3\u001b[0m\u001b[1;33m,\u001b[0m\u001b[1;36m4\u001b[0m\u001b[1;33m,\u001b[0m\u001b[1;36m5\u001b[0m\u001b[1;33m\u001b[0m\u001b[1;33m\u001b[0m\u001b[0m\n\u001b[1;32m----> 2\u001b[1;33m \u001b[0mprint\u001b[0m\u001b[1;33m(\u001b[0m\u001b[0mmap\u001b[0m\u001b[1;33m(\u001b[0m\u001b[0mx\u001b[0m\u001b[1;33m)\u001b[0m\u001b[1;33m)\u001b[0m\u001b[1;33m\u001b[0m\u001b[1;33m\u001b[0m\u001b[0m\n\u001b[0m",
      "\u001b[1;31mTypeError\u001b[0m: map() must have at least two arguments."
     ]
    }
   ],
   "source": [
    "x=2,3,4,5\n",
    "print(map(x))"
   ]
  },
  {
   "cell_type": "code",
   "execution_count": 50,
   "id": "124aa5be",
   "metadata": {},
   "outputs": [
    {
     "name": "stdout",
     "output_type": "stream",
     "text": [
      "5\n",
      "2 3 6 6 5\n",
      "5\n"
     ]
    }
   ],
   "source": [
    "if __name__ == '__main__':\n",
    "    n = int(input())\n",
    "    arr = map(int, input().split())\n",
    "    arr1 = list(set(arr))\n",
    "    #arr1.sort()\n",
    "    print(arr1[-2])"
   ]
  },
  {
   "cell_type": "markdown",
   "id": "b71d8525",
   "metadata": {},
   "source": [
    "8\n",
    "4\n",
    "z\n",
    "\n",
    "###### x = 9\n",
    "0"
   ]
  },
  {
   "cell_type": "code",
   "execution_count": 60,
   "id": "a52f94d8",
   "metadata": {},
   "outputs": [
    {
     "data": {
      "text/plain": [
       "[2, 3, 4, 5, 6, 7]"
      ]
     },
     "execution_count": 60,
     "metadata": {},
     "output_type": "execute_result"
    }
   ],
   "source": [
    "x=7,7,2,2,3,4,5,6\n",
    "sorted(list(set(x)))"
   ]
  },
  {
   "cell_type": "code",
   "execution_count": 5,
   "id": "8cbcd586",
   "metadata": {},
   "outputs": [
    {
     "name": "stdout",
     "output_type": "stream",
     "text": [
      "{'Harry': 37.21, 'Berry': 37.21, 'Tina': 37.2, 'Akriti': 41, 'Harsh': 39}\n"
     ]
    }
   ],
   "source": [
    "x = {'Harry':37.21,'Berry':37.21,'Tina':37.2,'Akriti':41,'Harsh':39}\n",
    "print(x)\n"
   ]
  },
  {
   "cell_type": "code",
   "execution_count": 7,
   "id": "925acc96",
   "metadata": {},
   "outputs": [
    {
     "data": {
      "text/plain": [
       "37.21"
      ]
     },
     "execution_count": 7,
     "metadata": {},
     "output_type": "execute_result"
    }
   ],
   "source": [
    "x['Berry']"
   ]
  },
  {
   "cell_type": "code",
   "execution_count": 9,
   "id": "b1b95799",
   "metadata": {},
   "outputs": [
    {
     "ename": "KeyboardInterrupt",
     "evalue": "",
     "output_type": "error",
     "traceback": [
      "\u001b[1;31m---------------------------------------------------------------------------\u001b[0m",
      "\u001b[1;31mKeyboardInterrupt\u001b[0m                         Traceback (most recent call last)",
      "\u001b[1;32m~\\AppData\\Local\\Temp/ipykernel_2800/4080736814.py\u001b[0m in \u001b[0;36m<module>\u001b[1;34m\u001b[0m\n\u001b[1;32m----> 1\u001b[1;33m \u001b[1;32mimport\u001b[0m \u001b[0mpandas\u001b[0m \u001b[1;32mas\u001b[0m \u001b[0mpd\u001b[0m\u001b[1;33m\u001b[0m\u001b[1;33m\u001b[0m\u001b[0m\n\u001b[0m",
      "\u001b[1;32m~\\anaconda3\\lib\\site-packages\\pandas\\__init__.py\u001b[0m in \u001b[0;36m<module>\u001b[1;34m\u001b[0m\n\u001b[0;32m     48\u001b[0m \u001b[1;32mimport\u001b[0m \u001b[0mpandas\u001b[0m\u001b[1;33m.\u001b[0m\u001b[0mcore\u001b[0m\u001b[1;33m.\u001b[0m\u001b[0mconfig_init\u001b[0m\u001b[1;33m\u001b[0m\u001b[1;33m\u001b[0m\u001b[0m\n\u001b[0;32m     49\u001b[0m \u001b[1;33m\u001b[0m\u001b[0m\n\u001b[1;32m---> 50\u001b[1;33m from pandas.core.api import (\n\u001b[0m\u001b[0;32m     51\u001b[0m     \u001b[1;31m# dtype\u001b[0m\u001b[1;33m\u001b[0m\u001b[1;33m\u001b[0m\u001b[0m\n\u001b[0;32m     52\u001b[0m     \u001b[0mInt8Dtype\u001b[0m\u001b[1;33m,\u001b[0m\u001b[1;33m\u001b[0m\u001b[1;33m\u001b[0m\u001b[0m\n",
      "\u001b[1;32m~\\anaconda3\\lib\\site-packages\\pandas\\core\\api.py\u001b[0m in \u001b[0;36m<module>\u001b[1;34m\u001b[0m\n\u001b[0;32m     46\u001b[0m \u001b[1;32mfrom\u001b[0m \u001b[0mpandas\u001b[0m\u001b[1;33m.\u001b[0m\u001b[0mcore\u001b[0m\u001b[1;33m.\u001b[0m\u001b[0mconstruction\u001b[0m \u001b[1;32mimport\u001b[0m \u001b[0marray\u001b[0m\u001b[1;33m\u001b[0m\u001b[1;33m\u001b[0m\u001b[0m\n\u001b[0;32m     47\u001b[0m \u001b[1;32mfrom\u001b[0m \u001b[0mpandas\u001b[0m\u001b[1;33m.\u001b[0m\u001b[0mcore\u001b[0m\u001b[1;33m.\u001b[0m\u001b[0mflags\u001b[0m \u001b[1;32mimport\u001b[0m \u001b[0mFlags\u001b[0m\u001b[1;33m\u001b[0m\u001b[1;33m\u001b[0m\u001b[0m\n\u001b[1;32m---> 48\u001b[1;33m from pandas.core.groupby import (\n\u001b[0m\u001b[0;32m     49\u001b[0m     \u001b[0mGrouper\u001b[0m\u001b[1;33m,\u001b[0m\u001b[1;33m\u001b[0m\u001b[1;33m\u001b[0m\u001b[0m\n\u001b[0;32m     50\u001b[0m     \u001b[0mNamedAgg\u001b[0m\u001b[1;33m,\u001b[0m\u001b[1;33m\u001b[0m\u001b[1;33m\u001b[0m\u001b[0m\n",
      "\u001b[1;32m~\\anaconda3\\lib\\site-packages\\pandas\\core\\groupby\\__init__.py\u001b[0m in \u001b[0;36m<module>\u001b[1;34m\u001b[0m\n\u001b[1;32m----> 1\u001b[1;33m from pandas.core.groupby.generic import (\n\u001b[0m\u001b[0;32m      2\u001b[0m     \u001b[0mDataFrameGroupBy\u001b[0m\u001b[1;33m,\u001b[0m\u001b[1;33m\u001b[0m\u001b[1;33m\u001b[0m\u001b[0m\n\u001b[0;32m      3\u001b[0m     \u001b[0mNamedAgg\u001b[0m\u001b[1;33m,\u001b[0m\u001b[1;33m\u001b[0m\u001b[1;33m\u001b[0m\u001b[0m\n\u001b[0;32m      4\u001b[0m     \u001b[0mSeriesGroupBy\u001b[0m\u001b[1;33m,\u001b[0m\u001b[1;33m\u001b[0m\u001b[1;33m\u001b[0m\u001b[0m\n\u001b[0;32m      5\u001b[0m )\n",
      "\u001b[1;32m~\\anaconda3\\lib\\site-packages\\pandas\\core\\groupby\\generic.py\u001b[0m in \u001b[0;36m<module>\u001b[1;34m\u001b[0m\n\u001b[0;32m     74\u001b[0m \u001b[1;32mfrom\u001b[0m \u001b[0mpandas\u001b[0m\u001b[1;33m.\u001b[0m\u001b[0mcore\u001b[0m\u001b[1;33m.\u001b[0m\u001b[0mgeneric\u001b[0m \u001b[1;32mimport\u001b[0m \u001b[0mNDFrame\u001b[0m\u001b[1;33m\u001b[0m\u001b[1;33m\u001b[0m\u001b[0m\n\u001b[0;32m     75\u001b[0m \u001b[1;32mfrom\u001b[0m \u001b[0mpandas\u001b[0m\u001b[1;33m.\u001b[0m\u001b[0mcore\u001b[0m\u001b[1;33m.\u001b[0m\u001b[0mgroupby\u001b[0m \u001b[1;32mimport\u001b[0m \u001b[0mbase\u001b[0m\u001b[1;33m\u001b[0m\u001b[1;33m\u001b[0m\u001b[0m\n\u001b[1;32m---> 76\u001b[1;33m from pandas.core.groupby.groupby import (\n\u001b[0m\u001b[0;32m     77\u001b[0m     \u001b[0mGroupBy\u001b[0m\u001b[1;33m,\u001b[0m\u001b[1;33m\u001b[0m\u001b[1;33m\u001b[0m\u001b[0m\n\u001b[0;32m     78\u001b[0m     \u001b[0m_agg_template\u001b[0m\u001b[1;33m,\u001b[0m\u001b[1;33m\u001b[0m\u001b[1;33m\u001b[0m\u001b[0m\n",
      "\u001b[1;32m~\\anaconda3\\lib\\site-packages\\pandas\\core\\groupby\\groupby.py\u001b[0m in \u001b[0;36m<module>\u001b[1;34m\u001b[0m\n\u001b[0;32m     41\u001b[0m     \u001b[0mlib\u001b[0m\u001b[1;33m,\u001b[0m\u001b[1;33m\u001b[0m\u001b[1;33m\u001b[0m\u001b[0m\n\u001b[0;32m     42\u001b[0m )\n\u001b[1;32m---> 43\u001b[1;33m \u001b[1;32mimport\u001b[0m \u001b[0mpandas\u001b[0m\u001b[1;33m.\u001b[0m\u001b[0m_libs\u001b[0m\u001b[1;33m.\u001b[0m\u001b[0mgroupby\u001b[0m \u001b[1;32mas\u001b[0m \u001b[0mlibgroupby\u001b[0m\u001b[1;33m\u001b[0m\u001b[1;33m\u001b[0m\u001b[0m\n\u001b[0m\u001b[0;32m     44\u001b[0m from pandas._typing import (\n\u001b[0;32m     45\u001b[0m     \u001b[0mArrayLike\u001b[0m\u001b[1;33m,\u001b[0m\u001b[1;33m\u001b[0m\u001b[1;33m\u001b[0m\u001b[0m\n",
      "\u001b[1;32m~\\anaconda3\\lib\\importlib\\_bootstrap.py\u001b[0m in \u001b[0;36mparent\u001b[1;34m(self)\u001b[0m\n",
      "\u001b[1;31mKeyboardInterrupt\u001b[0m: "
     ]
    }
   ],
   "source": [
    "import pandas as pd"
   ]
  },
  {
   "cell_type": "code",
   "execution_count": null,
   "id": "0b855621",
   "metadata": {},
   "outputs": [],
   "source": [
    "df = pd.DataFrame(x)"
   ]
  },
  {
   "cell_type": "code",
   "execution_count": 11,
   "id": "a2633000",
   "metadata": {},
   "outputs": [
    {
     "name": "stdout",
     "output_type": "stream",
     "text": [
      "[['Chi', 20.0], ['Alpha', 50.0]]\n"
     ]
    }
   ],
   "source": [
    "records = [['Chi',20.0],['Alpha',50.0]]\n",
    "print(records)"
   ]
  },
  {
   "cell_type": "code",
   "execution_count": 22,
   "id": "d71ac962",
   "metadata": {},
   "outputs": [
    {
     "name": "stdout",
     "output_type": "stream",
     "text": [
      "Andy\n"
     ]
    },
    {
     "ename": "ValueError",
     "evalue": "invalid literal for int() with base 10: 'Andy'",
     "output_type": "error",
     "traceback": [
      "\u001b[1;31m---------------------------------------------------------------------------\u001b[0m",
      "\u001b[1;31mValueError\u001b[0m                                Traceback (most recent call last)",
      "\u001b[1;32m~\\AppData\\Local\\Temp/ipykernel_2800/1741755700.py\u001b[0m in \u001b[0;36m<module>\u001b[1;34m\u001b[0m\n\u001b[0;32m      1\u001b[0m \u001b[0mstudent_grade\u001b[0m\u001b[1;33m=\u001b[0m\u001b[1;33m[\u001b[0m\u001b[1;33m]\u001b[0m\u001b[1;33m\u001b[0m\u001b[1;33m\u001b[0m\u001b[0m\n\u001b[1;32m----> 2\u001b[1;33m \u001b[1;32mfor\u001b[0m \u001b[0m_\u001b[0m \u001b[1;32min\u001b[0m \u001b[0mrange\u001b[0m \u001b[1;33m(\u001b[0m\u001b[0mint\u001b[0m\u001b[1;33m(\u001b[0m\u001b[0minput\u001b[0m\u001b[1;33m(\u001b[0m\u001b[1;33m)\u001b[0m\u001b[1;33m)\u001b[0m\u001b[1;33m)\u001b[0m\u001b[1;33m:\u001b[0m\u001b[1;33m\u001b[0m\u001b[1;33m\u001b[0m\u001b[0m\n\u001b[0m\u001b[0;32m      3\u001b[0m     \u001b[0mname\u001b[0m \u001b[1;33m=\u001b[0m \u001b[0minput\u001b[0m\u001b[1;33m(\u001b[0m\u001b[1;33m)\u001b[0m\u001b[1;33m\u001b[0m\u001b[1;33m\u001b[0m\u001b[0m\n\u001b[0;32m      4\u001b[0m     \u001b[0mscore\u001b[0m \u001b[1;33m=\u001b[0m \u001b[0mfloat\u001b[0m\u001b[1;33m(\u001b[0m\u001b[0minput\u001b[0m\u001b[1;33m(\u001b[0m\u001b[1;33m)\u001b[0m\u001b[1;33m)\u001b[0m\u001b[1;33m\u001b[0m\u001b[1;33m\u001b[0m\u001b[0m\n\u001b[0;32m      5\u001b[0m     \u001b[0mstudent_grade\u001b[0m\u001b[1;33m.\u001b[0m\u001b[0mappend\u001b[0m\u001b[1;33m(\u001b[0m\u001b[1;33m[\u001b[0m\u001b[0mname\u001b[0m\u001b[1;33m,\u001b[0m\u001b[0mscore\u001b[0m\u001b[1;33m]\u001b[0m\u001b[1;33m)\u001b[0m\u001b[1;33m\u001b[0m\u001b[1;33m\u001b[0m\u001b[0m\n",
      "\u001b[1;31mValueError\u001b[0m: invalid literal for int() with base 10: 'Andy'"
     ]
    }
   ],
   "source": [
    "student_grade=[]\n",
    "for _ in range (int(input())):\n",
    "    name = input()\n",
    "    score = float(input())\n",
    "    student_grade.append([name,score])\n",
    "sorted_scores = sorted(list(set([x[1]for x in student_grade])))\n",
    "second_lowest = sorted_scores[1]\n",
    "\n",
    "low_final_list=[]\n",
    "for student in student_grade:\n",
    "    if second_lowest == student[1]:\n",
    "        low_final_list.append(student[0])\n",
    "        \n",
    "for student in sorted(low_final_list):\n",
    "    print(student)"
   ]
  },
  {
   "cell_type": "code",
   "execution_count": 46,
   "id": "61d859c1",
   "metadata": {},
   "outputs": [
    {
     "ename": "KeyboardInterrupt",
     "evalue": "Interrupted by user",
     "output_type": "error",
     "traceback": [
      "\u001b[1;31m---------------------------------------------------------------------------\u001b[0m",
      "\u001b[1;31mKeyboardInterrupt\u001b[0m                         Traceback (most recent call last)",
      "\u001b[1;32m~\\AppData\\Local\\Temp/ipykernel_2800/633679507.py\u001b[0m in \u001b[0;36m<module>\u001b[1;34m\u001b[0m\n\u001b[0;32m      2\u001b[0m \u001b[0mscorelist\u001b[0m \u001b[1;33m=\u001b[0m \u001b[1;33m[\u001b[0m\u001b[1;33m]\u001b[0m\u001b[1;33m\u001b[0m\u001b[1;33m\u001b[0m\u001b[0m\n\u001b[0;32m      3\u001b[0m \u001b[1;32mif\u001b[0m \u001b[0m__name__\u001b[0m \u001b[1;33m==\u001b[0m \u001b[1;34m'__main__'\u001b[0m\u001b[1;33m:\u001b[0m\u001b[1;33m\u001b[0m\u001b[1;33m\u001b[0m\u001b[0m\n\u001b[1;32m----> 4\u001b[1;33m     \u001b[1;32mfor\u001b[0m \u001b[0m_\u001b[0m \u001b[1;32min\u001b[0m \u001b[0mrange\u001b[0m\u001b[1;33m(\u001b[0m\u001b[0mint\u001b[0m\u001b[1;33m(\u001b[0m\u001b[0minput\u001b[0m\u001b[1;33m(\u001b[0m\u001b[1;33m)\u001b[0m\u001b[1;33m)\u001b[0m\u001b[1;33m)\u001b[0m\u001b[1;33m:\u001b[0m\u001b[1;33m\u001b[0m\u001b[1;33m\u001b[0m\u001b[0m\n\u001b[0m\u001b[0;32m      5\u001b[0m         \u001b[0mname\u001b[0m \u001b[1;33m=\u001b[0m \u001b[0minput\u001b[0m\u001b[1;33m(\u001b[0m\u001b[1;33m)\u001b[0m\u001b[1;33m\u001b[0m\u001b[1;33m\u001b[0m\u001b[0m\n\u001b[0;32m      6\u001b[0m         \u001b[0mscore\u001b[0m \u001b[1;33m=\u001b[0m \u001b[0mfloat\u001b[0m\u001b[1;33m(\u001b[0m\u001b[0minput\u001b[0m\u001b[1;33m(\u001b[0m\u001b[1;33m)\u001b[0m\u001b[1;33m)\u001b[0m\u001b[1;33m\u001b[0m\u001b[1;33m\u001b[0m\u001b[0m\n",
      "\u001b[1;32m~\\anaconda3\\lib\\site-packages\\ipykernel\\kernelbase.py\u001b[0m in \u001b[0;36mraw_input\u001b[1;34m(self, prompt)\u001b[0m\n\u001b[0;32m   1004\u001b[0m                 \u001b[1;34m\"raw_input was called, but this frontend does not support input requests.\"\u001b[0m\u001b[1;33m\u001b[0m\u001b[1;33m\u001b[0m\u001b[0m\n\u001b[0;32m   1005\u001b[0m             )\n\u001b[1;32m-> 1006\u001b[1;33m         return self._input_request(\n\u001b[0m\u001b[0;32m   1007\u001b[0m             \u001b[0mstr\u001b[0m\u001b[1;33m(\u001b[0m\u001b[0mprompt\u001b[0m\u001b[1;33m)\u001b[0m\u001b[1;33m,\u001b[0m\u001b[1;33m\u001b[0m\u001b[1;33m\u001b[0m\u001b[0m\n\u001b[0;32m   1008\u001b[0m             \u001b[0mself\u001b[0m\u001b[1;33m.\u001b[0m\u001b[0m_parent_ident\u001b[0m\u001b[1;33m[\u001b[0m\u001b[1;34m\"shell\"\u001b[0m\u001b[1;33m]\u001b[0m\u001b[1;33m,\u001b[0m\u001b[1;33m\u001b[0m\u001b[1;33m\u001b[0m\u001b[0m\n",
      "\u001b[1;32m~\\anaconda3\\lib\\site-packages\\ipykernel\\kernelbase.py\u001b[0m in \u001b[0;36m_input_request\u001b[1;34m(self, prompt, ident, parent, password)\u001b[0m\n\u001b[0;32m   1049\u001b[0m             \u001b[1;32mexcept\u001b[0m \u001b[0mKeyboardInterrupt\u001b[0m\u001b[1;33m:\u001b[0m\u001b[1;33m\u001b[0m\u001b[1;33m\u001b[0m\u001b[0m\n\u001b[0;32m   1050\u001b[0m                 \u001b[1;31m# re-raise KeyboardInterrupt, to truncate traceback\u001b[0m\u001b[1;33m\u001b[0m\u001b[1;33m\u001b[0m\u001b[0m\n\u001b[1;32m-> 1051\u001b[1;33m                 \u001b[1;32mraise\u001b[0m \u001b[0mKeyboardInterrupt\u001b[0m\u001b[1;33m(\u001b[0m\u001b[1;34m\"Interrupted by user\"\u001b[0m\u001b[1;33m)\u001b[0m \u001b[1;32mfrom\u001b[0m \u001b[1;32mNone\u001b[0m\u001b[1;33m\u001b[0m\u001b[1;33m\u001b[0m\u001b[0m\n\u001b[0m\u001b[0;32m   1052\u001b[0m             \u001b[1;32mexcept\u001b[0m \u001b[0mException\u001b[0m\u001b[1;33m:\u001b[0m\u001b[1;33m\u001b[0m\u001b[1;33m\u001b[0m\u001b[0m\n\u001b[0;32m   1053\u001b[0m                 \u001b[0mself\u001b[0m\u001b[1;33m.\u001b[0m\u001b[0mlog\u001b[0m\u001b[1;33m.\u001b[0m\u001b[0mwarning\u001b[0m\u001b[1;33m(\u001b[0m\u001b[1;34m\"Invalid Message:\"\u001b[0m\u001b[1;33m,\u001b[0m \u001b[0mexc_info\u001b[0m\u001b[1;33m=\u001b[0m\u001b[1;32mTrue\u001b[0m\u001b[1;33m)\u001b[0m\u001b[1;33m\u001b[0m\u001b[1;33m\u001b[0m\u001b[0m\n",
      "\u001b[1;31mKeyboardInterrupt\u001b[0m: Interrupted by user"
     ]
    }
   ],
   "source": [
    "Result =[]\n",
    "scorelist = []\n",
    "if __name__ == '__main__':\n",
    "    for _ in range(int(input())):\n",
    "        name = input()\n",
    "        score = float(input())\n",
    "        Result+=[[name,score]]\n",
    "        scorelist+=[score]\n",
    "    b=sorted(list(set(scorelist)))[1] \n",
    "    for a,c in sorted(Result):\n",
    "        if c==b:\n",
    "            print(a)"
   ]
  },
  {
   "cell_type": "code",
   "execution_count": 27,
   "id": "e06fd692",
   "metadata": {},
   "outputs": [
    {
     "name": "stdout",
     "output_type": "stream",
     "text": [
      "abc\n",
      "20\n",
      "[['a', 27.0], ['b', 28.0], ['c', 27.0], ['abc', 20.0], ['abc', 20.0]]\n"
     ]
    }
   ],
   "source": [
    "name = input()\n",
    "score = float(input())\n",
    "Result+=[[name,score]]\n",
    "scorelist+=[score]\n",
    "print(Result)"
   ]
  },
  {
   "cell_type": "code",
   "execution_count": 33,
   "id": "64f34a06",
   "metadata": {},
   "outputs": [
    {
     "name": "stdout",
     "output_type": "stream",
     "text": [
      "[['a', 27.0], ['abc', 20.0], ['abc', 20.0], ['b', 28.0], ['c', 27.0]]\n"
     ]
    }
   ],
   "source": [
    "Result.sort()\n",
    "print(Result)"
   ]
  },
  {
   "cell_type": "code",
   "execution_count": 36,
   "id": "c27c19c0",
   "metadata": {},
   "outputs": [
    {
     "ename": "SyntaxError",
     "evalue": "invalid syntax (Temp/ipykernel_2800/3097247312.py, line 7)",
     "output_type": "error",
     "traceback": [
      "\u001b[1;36m  File \u001b[1;32m\"C:\\Users\\karthikp\\AppData\\Local\\Temp/ipykernel_2800/3097247312.py\"\u001b[1;36m, line \u001b[1;32m7\u001b[0m\n\u001b[1;33m    second_highest=sorted(set[score for name score in score_list]))[1]\u001b[0m\n\u001b[1;37m                                    ^\u001b[0m\n\u001b[1;31mSyntaxError\u001b[0m\u001b[1;31m:\u001b[0m invalid syntax\n"
     ]
    }
   ],
   "source": [
    "score_list=[]\n",
    "if __name__ == '__main__':\n",
    "    for _ in range(int(input())):\n",
    "        name = input()\n",
    "        score = float(input())\n",
    "        score_list.append([name,score])\n",
    "second_highest=sorted(set[score for name score in score_list]))[1]\n",
    "print('\\n'.join(sorted(name for name score in score_list if score == second_highest])))"
   ]
  },
  {
   "cell_type": "code",
   "execution_count": 48,
   "id": "fad1a254",
   "metadata": {},
   "outputs": [
    {
     "name": "stdout",
     "output_type": "stream",
     "text": [
      "3\n",
      "a\n",
      "10\n",
      "b\n",
      "20\n",
      "c\n",
      "30\n"
     ]
    },
    {
     "ename": "TypeError",
     "evalue": "'<' not supported between instances of 'float' and 'str'",
     "output_type": "error",
     "traceback": [
      "\u001b[1;31m---------------------------------------------------------------------------\u001b[0m",
      "\u001b[1;31mTypeError\u001b[0m                                 Traceback (most recent call last)",
      "\u001b[1;32m~\\AppData\\Local\\Temp/ipykernel_2800/283173332.py\u001b[0m in \u001b[0;36m<module>\u001b[1;34m\u001b[0m\n\u001b[0;32m      8\u001b[0m     \u001b[0mscorelist\u001b[0m\u001b[1;33m+=\u001b[0m\u001b[1;33m(\u001b[0m\u001b[1;33m[\u001b[0m\u001b[0mscore\u001b[0m\u001b[1;33m]\u001b[0m\u001b[1;33m)\u001b[0m\u001b[1;33m\u001b[0m\u001b[1;33m\u001b[0m\u001b[0m\n\u001b[0;32m      9\u001b[0m \u001b[0mb\u001b[0m \u001b[1;33m=\u001b[0m \u001b[0msorted\u001b[0m\u001b[1;33m(\u001b[0m\u001b[0mlist\u001b[0m\u001b[1;33m(\u001b[0m\u001b[0mset\u001b[0m\u001b[1;33m(\u001b[0m\u001b[0mscorelist\u001b[0m\u001b[1;33m)\u001b[0m\u001b[1;33m)\u001b[0m\u001b[1;33m)\u001b[0m\u001b[1;33m[\u001b[0m\u001b[1;36m1\u001b[0m\u001b[1;33m]\u001b[0m\u001b[1;33m\u001b[0m\u001b[1;33m\u001b[0m\u001b[0m\n\u001b[1;32m---> 10\u001b[1;33m \u001b[1;32mfor\u001b[0m \u001b[0ma\u001b[0m\u001b[1;33m,\u001b[0m \u001b[0mc\u001b[0m \u001b[1;32min\u001b[0m \u001b[0msorted\u001b[0m\u001b[1;33m(\u001b[0m\u001b[0mResult\u001b[0m\u001b[1;33m)\u001b[0m\u001b[1;33m:\u001b[0m\u001b[1;33m\u001b[0m\u001b[1;33m\u001b[0m\u001b[0m\n\u001b[0m\u001b[0;32m     11\u001b[0m     \u001b[1;32mif\u001b[0m \u001b[0mc\u001b[0m \u001b[1;33m==\u001b[0m \u001b[0mb\u001b[0m\u001b[1;33m:\u001b[0m\u001b[1;33m\u001b[0m\u001b[1;33m\u001b[0m\u001b[0m\n\u001b[0;32m     12\u001b[0m         \u001b[0mprint\u001b[0m\u001b[1;33m(\u001b[0m\u001b[0ma\u001b[0m\u001b[1;33m)\u001b[0m\u001b[1;33m\u001b[0m\u001b[1;33m\u001b[0m\u001b[0m\n",
      "\u001b[1;31mTypeError\u001b[0m: '<' not supported between instances of 'float' and 'str'"
     ]
    }
   ],
   "source": [
    "Result = []\n",
    "scorelist = []\n",
    "\n",
    "for _ in range(int(input())):\n",
    "    name = input()\n",
    "    score = float(input())\n",
    "    Result+=([name,score])\n",
    "    scorelist+=([score])\n",
    "b = sorted(list(set(scorelist)))[1]\n",
    "for a, c in sorted(Result):\n",
    "    if c == b:\n",
    "        print(a)"
   ]
  },
  {
   "cell_type": "code",
   "execution_count": 52,
   "id": "a5d60a53",
   "metadata": {},
   "outputs": [
    {
     "name": "stdout",
     "output_type": "stream",
     "text": [
      "3\n",
      "a\n",
      "10\n",
      "b\n",
      "20\n",
      "c\n",
      "30\n",
      "b\n"
     ]
    }
   ],
   "source": [
    "Result1 =[]\n",
    "scorelist1 = []\n",
    "if __name__ == '__main__':\n",
    "    for _ in range(int(input())):\n",
    "        name = input()\n",
    "        score = float(input())\n",
    "        Result1+=[[name,score]]\n",
    "        scorelist1+=[score]\n",
    "    b=sorted(list(set(scorelist1)))[1] \n",
    "    for a,c in sorted(Result1):\n",
    "        if c==b:\n",
    "            print(a)"
   ]
  },
  {
   "cell_type": "code",
   "execution_count": 37,
   "id": "772d5905",
   "metadata": {},
   "outputs": [
    {
     "name": "stdout",
     "output_type": "stream",
     "text": [
      "1900\n"
     ]
    }
   ],
   "source": [
    "x = int(input())\n",
    "a = x % 4\n",
    "b = x % 100\n",
    "c = x % 400\n",
    "if a == 0 or c == 0:\n",
    "    if a == 0 and b!= 0:\n",
    "        print('Leap')\n",
    "else:\n",
    "    print('Not leap')"
   ]
  },
  {
   "cell_type": "markdown",
   "id": "2db961ee",
   "metadata": {},
   "source": [
    "## "
   ]
  },
  {
   "cell_type": "code",
   "execution_count": 13,
   "id": "29e895eb",
   "metadata": {},
   "outputs": [],
   "source": [
    "def is_leap(year):\n",
    "    if year%4==0 or year%400 == 0:\n",
    "        print('True')\n",
    "    else:\n",
    "        print(\"false\")"
   ]
  },
  {
   "cell_type": "code",
   "execution_count": 12,
   "id": "5bc19ad8",
   "metadata": {},
   "outputs": [
    {
     "name": "stdout",
     "output_type": "stream",
     "text": [
      "false\n"
     ]
    }
   ],
   "source": [
    "is_leap(1990)"
   ]
  },
  {
   "cell_type": "code",
   "execution_count": null,
   "id": "d4ce7e24",
   "metadata": {},
   "outputs": [],
   "source": []
  },
  {
   "cell_type": "code",
   "execution_count": 47,
   "id": "83e024de",
   "metadata": {},
   "outputs": [],
   "source": [
    "def is_leap(year):\n",
    "    leap = False\n",
    "    if ( year % 4 == 0 and year % 100 != 0) or year % 400 == 0:\n",
    "        leap = True\n",
    "    return leap"
   ]
  },
  {
   "cell_type": "code",
   "execution_count": 46,
   "id": "1c4e56c2",
   "metadata": {},
   "outputs": [
    {
     "data": {
      "text/plain": [
       "True"
      ]
     },
     "execution_count": 46,
     "metadata": {},
     "output_type": "execute_result"
    }
   ],
   "source": [
    "is_leap(1992)"
   ]
  },
  {
   "cell_type": "code",
   "execution_count": 57,
   "id": "587caf1e",
   "metadata": {},
   "outputs": [],
   "source": [
    "def is_leap(year):\n",
    "    return year%4 == 0 and (year%100 !=0 or year%400==0)"
   ]
  },
  {
   "cell_type": "code",
   "execution_count": 58,
   "id": "780acb0f",
   "metadata": {},
   "outputs": [
    {
     "data": {
      "text/plain": [
       "True"
      ]
     },
     "execution_count": 58,
     "metadata": {},
     "output_type": "execute_result"
    }
   ],
   "source": [
    "is_leap(1992)"
   ]
  },
  {
   "cell_type": "code",
   "execution_count": 55,
   "id": "573d026d",
   "metadata": {},
   "outputs": [],
   "source": [
    "def is_leap(year):\n",
    "   return year % 4 == 0 and (year % 100 != 0 or year % 400 == 0)"
   ]
  },
  {
   "cell_type": "code",
   "execution_count": 56,
   "id": "14b157fe",
   "metadata": {},
   "outputs": [
    {
     "data": {
      "text/plain": [
       "True"
      ]
     },
     "execution_count": 56,
     "metadata": {},
     "output_type": "execute_result"
    }
   ],
   "source": [
    "is_leap(1992)"
   ]
  },
  {
   "cell_type": "code",
   "execution_count": null,
   "id": "afc5057f",
   "metadata": {},
   "outputs": [],
   "source": []
  },
  {
   "cell_type": "code",
   "execution_count": 66,
   "id": "15468e96",
   "metadata": {},
   "outputs": [
    {
     "name": "stdout",
     "output_type": "stream",
     "text": [
      "a\n",
      "['b', 'c', 'd', 'e', 'f']\n"
     ]
    }
   ],
   "source": [
    "s = 'a b c d e f'\n",
    "name1, *line1= s.split()\n",
    "print(name1)\n",
    "print(line1)"
   ]
  },
  {
   "cell_type": "code",
   "execution_count": null,
   "id": "43e6c05d",
   "metadata": {},
   "outputs": [],
   "source": []
  },
  {
   "cell_type": "code",
   "execution_count": 65,
   "id": "0904bd10",
   "metadata": {},
   "outputs": [
    {
     "name": "stdout",
     "output_type": "stream",
     "text": [
      "Hi How are you\n",
      "Hi\n",
      "['How', 'are', 'you']\n"
     ]
    }
   ],
   "source": [
    "first, *rest = input().split()\n",
    "print(first)\n",
    "print(rest)"
   ]
  },
  {
   "cell_type": "code",
   "execution_count": null,
   "id": "fb9dfa8e",
   "metadata": {},
   "outputs": [],
   "source": []
  },
  {
   "cell_type": "code",
   "execution_count": 69,
   "id": "4c08180c",
   "metadata": {},
   "outputs": [
    {
     "name": "stdout",
     "output_type": "stream",
     "text": [
      "2\n",
      "Keerthi 55 65 78\n",
      "Mithun 78 89 56\n",
      "Mithun\n",
      "74.33\n"
     ]
    }
   ],
   "source": [
    "n = int(input())\n",
    "students_marks = {}\n",
    "for _ in range(n):\n",
    "    name, *line = input().split()\n",
    "    scores = list(map(float,line))\n",
    "    students_marks[name]=scores\n",
    "query_name = input()\n",
    "\n",
    "output = list(students_marks[query_name])\n",
    "per = sum(output)/len(output);\n",
    "print(\"%.2f\" % per);\n",
    "    "
   ]
  },
  {
   "cell_type": "code",
   "execution_count": null,
   "id": "96f7e5cd",
   "metadata": {},
   "outputs": [],
   "source": []
  },
  {
   "cell_type": "code",
   "execution_count": 71,
   "id": "34b8df0c",
   "metadata": {},
   "outputs": [
    {
     "name": "stdout",
     "output_type": "stream",
     "text": [
      "[60.0, 70.0, 80.0]\n"
     ]
    }
   ],
   "source": [
    "line = 60,70,80\n",
    "scores = list(map(float,line))\n",
    "print(scores)"
   ]
  },
  {
   "cell_type": "code",
   "execution_count": null,
   "id": "6807448b",
   "metadata": {},
   "outputs": [],
   "source": []
  },
  {
   "cell_type": "code",
   "execution_count": null,
   "id": "2d9b6a98",
   "metadata": {},
   "outputs": [],
   "source": [
    "n = int(input())\n",
    "students_marks = {}\n",
    "for _ in range(n):\n",
    "    name, *line = input().split()\n",
    "    score = list(map(float,line))\n",
    "    students_marks[name]=scores\n",
    "query_name = input()\n",
    "\n"
   ]
  },
  {
   "cell_type": "code",
   "execution_count": null,
   "id": "d6716b4c",
   "metadata": {},
   "outputs": [],
   "source": []
  },
  {
   "cell_type": "code",
   "execution_count": 74,
   "id": "3f94ff38",
   "metadata": {},
   "outputs": [
    {
     "name": "stdout",
     "output_type": "stream",
     "text": [
      "2\n",
      "insert 5\n",
      "['insert', '5']\n",
      "append 6\n",
      "['append', '6']\n"
     ]
    }
   ],
   "source": [
    "n = int(input())\n",
    "output = [];\n",
    "for i in range (0,n):\n",
    "    ip = input().split();\n",
    "    if ip[0]=\"print\":\n",
    "        print(output)\n",
    "    elif ip[0]='insert':\n",
    "        output.insert(int(ip[1],int(ip[2])))\n",
    "    elif ip[0]='remove':\n",
    "        output.remove(int(ip[1]))\n",
    "    elif ip[0]='pop':\n",
    "        output.pop();\n",
    "    elif ip[0]='append':\n",
    "        output.append(int(ip[1]))\n",
    "    elif ip[0]='sort':\n",
    "        output.sort();\n",
    "    else:\n",
    "        output.reverse();"
   ]
  },
  {
   "cell_type": "code",
   "execution_count": null,
   "id": "9b4356fb",
   "metadata": {},
   "outputs": [],
   "source": []
  },
  {
   "cell_type": "code",
   "execution_count": 2,
   "id": "77c2a7ce",
   "metadata": {},
   "outputs": [
    {
     "data": {
      "text/plain": [
       "'Hello Avi, Who are you'"
      ]
     },
     "execution_count": 2,
     "metadata": {},
     "output_type": "execute_result"
    }
   ],
   "source": [
    "sen = 'Hello %s, Who are you'\n",
    "sen%('Avi')"
   ]
  },
  {
   "cell_type": "code",
   "execution_count": 5,
   "id": "b0d046e5",
   "metadata": {},
   "outputs": [
    {
     "name": "stdout",
     "output_type": "stream",
     "text": [
      "Hi Avi, 10 this is my number\n"
     ]
    }
   ],
   "source": [
    "sen1 = 'Hi %s, %d this is my number'\n",
    "print(sen1%('Avi', 10))"
   ]
  },
  {
   "cell_type": "code",
   "execution_count": 8,
   "id": "6ae71ce4",
   "metadata": {},
   "outputs": [
    {
     "data": {
      "text/plain": [
       "'mango'"
      ]
     },
     "execution_count": 8,
     "metadata": {},
     "output_type": "execute_result"
    }
   ],
   "source": [
    "shoppingList = ['eggs','mango','bread','cheese']\n",
    "shoppingList[1]"
   ]
  },
  {
   "cell_type": "code",
   "execution_count": 15,
   "id": "a32f5103",
   "metadata": {},
   "outputs": [
    {
     "data": {
      "text/plain": [
       "['eggs', 'mango', 'bread', 'cheese']"
      ]
     },
     "execution_count": 15,
     "metadata": {},
     "output_type": "execute_result"
    }
   ],
   "source": [
    "shoppingList=['eggs','mango','bread','cheese']\n",
    "shoppingList"
   ]
  },
  {
   "cell_type": "code",
   "execution_count": 16,
   "id": "b9c115e6",
   "metadata": {},
   "outputs": [
    {
     "data": {
      "text/plain": [
       "['eggs', 'mango', 'bread', 'cheese', 'Chocoloate']"
      ]
     },
     "execution_count": 16,
     "metadata": {},
     "output_type": "execute_result"
    }
   ],
   "source": [
    "shoppingList.append('Chocoloate')\n",
    "shoppingList"
   ]
  },
  {
   "cell_type": "code",
   "execution_count": 19,
   "id": "2206e839",
   "metadata": {},
   "outputs": [],
   "source": [
    "del shoppingList[4]"
   ]
  },
  {
   "cell_type": "code",
   "execution_count": 12,
   "id": "797f9d35",
   "metadata": {},
   "outputs": [
    {
     "data": {
      "text/plain": [
       "{'John': 14, 'Kart': 16, 'Sat': 17, 'Dee': 11}"
      ]
     },
     "execution_count": 12,
     "metadata": {},
     "output_type": "execute_result"
    }
   ],
   "source": [
    "students = {'John':14, 'Kart':16, 'Sat':17, 'Dee':11}\n",
    "students"
   ]
  },
  {
   "cell_type": "code",
   "execution_count": 4,
   "id": "4dbb36b6",
   "metadata": {},
   "outputs": [
    {
     "data": {
      "text/plain": [
       "4"
      ]
     },
     "execution_count": 4,
     "metadata": {},
     "output_type": "execute_result"
    }
   ],
   "source": [
    "len(students)"
   ]
  },
  {
   "cell_type": "code",
   "execution_count": 5,
   "id": "628b7f9d",
   "metadata": {},
   "outputs": [
    {
     "data": {
      "text/plain": [
       "{}"
      ]
     },
     "execution_count": 5,
     "metadata": {},
     "output_type": "execute_result"
    }
   ],
   "source": [
    "students.clear()\n",
    "students"
   ]
  },
  {
   "cell_type": "code",
   "execution_count": 8,
   "id": "0f26dde7",
   "metadata": {},
   "outputs": [],
   "source": [
    "del students['John']"
   ]
  },
  {
   "cell_type": "code",
   "execution_count": 11,
   "id": "458b0392",
   "metadata": {},
   "outputs": [
    {
     "data": {
      "text/plain": [
       "{'Kart': 16, 'Sat': 17}"
      ]
     },
     "execution_count": 11,
     "metadata": {},
     "output_type": "execute_result"
    }
   ],
   "source": [
    "del students[('Dee')]\n",
    "students"
   ]
  },
  {
   "cell_type": "code",
   "execution_count": 14,
   "id": "1e6cf541",
   "metadata": {},
   "outputs": [
    {
     "data": {
      "text/plain": [
       "{'John': 14, 'Kart': 16, 'Sat': 17, 'Dee': 11, 'Thi': 5, 'Hari': 7, 'Niti': 8}"
      ]
     },
     "execution_count": 14,
     "metadata": {},
     "output_type": "execute_result"
    }
   ],
   "source": [
    "students2 = {'Thi':5, 'Hari':7, 'Niti':8}\n",
    "students.update(students2)\n",
    "students"
   ]
  },
  {
   "cell_type": "code",
   "execution_count": 15,
   "id": "4212a7ac",
   "metadata": {},
   "outputs": [
    {
     "data": {
      "text/plain": [
       "17"
      ]
     },
     "execution_count": 15,
     "metadata": {},
     "output_type": "execute_result"
    }
   ],
   "source": [
    "students['Sat']"
   ]
  },
  {
   "cell_type": "code",
   "execution_count": 16,
   "id": "c2381f6b",
   "metadata": {},
   "outputs": [],
   "source": [
    "songs=['Omane','Dimme','Master']\n",
    "movies=['VTV','KGF','Manadu']"
   ]
  },
  {
   "cell_type": "code",
   "execution_count": 18,
   "id": "6f6c5ebb",
   "metadata": {},
   "outputs": [
    {
     "name": "stdout",
     "output_type": "stream",
     "text": [
      "['Omane', 'Dimme', 'Master'] ['VTV', 'KGF', 'Manadu']\n"
     ]
    }
   ],
   "source": [
    "print(songs, movies)"
   ]
  },
  {
   "cell_type": "code",
   "execution_count": 20,
   "id": "9abc7bdf",
   "metadata": {},
   "outputs": [
    {
     "data": {
      "text/plain": [
       "['Omane', 'Dimme', 'Master', ['VTV', 'KGF', 'Manadu'], 'VTV', 'KGF', 'Manadu']"
      ]
     },
     "execution_count": 20,
     "metadata": {},
     "output_type": "execute_result"
    }
   ],
   "source": [
    "list1 = songs+movies\n",
    "list1"
   ]
  },
  {
   "cell_type": "code",
   "execution_count": 21,
   "id": "effd12ec",
   "metadata": {},
   "outputs": [
    {
     "data": {
      "text/plain": [
       "['VTV', 'KGF', 'Manadu']"
      ]
     },
     "execution_count": 21,
     "metadata": {},
     "output_type": "execute_result"
    }
   ],
   "source": [
    "list1[3]"
   ]
  },
  {
   "cell_type": "code",
   "execution_count": 22,
   "id": "fc57c53a",
   "metadata": {},
   "outputs": [],
   "source": [
    "del list1[3]"
   ]
  },
  {
   "cell_type": "code",
   "execution_count": 23,
   "id": "123a37d9",
   "metadata": {},
   "outputs": [
    {
     "data": {
      "text/plain": [
       "['Omane', 'Dimme', 'Master', 'VTV', 'KGF', 'Manadu']"
      ]
     },
     "execution_count": 23,
     "metadata": {},
     "output_type": "execute_result"
    }
   ],
   "source": [
    "list1"
   ]
  },
  {
   "cell_type": "code",
   "execution_count": 24,
   "id": "0c90eda2",
   "metadata": {},
   "outputs": [],
   "source": [
    "book = ['Math','Sci','Tam']"
   ]
  },
  {
   "cell_type": "code",
   "execution_count": 25,
   "id": "1d4d7764",
   "metadata": {},
   "outputs": [
    {
     "data": {
      "text/plain": [
       "['Omane', 'Dimme', 'Master', 'VTV', 'KGF', 'Manadu', 'Math', 'Sci', 'Tam']"
      ]
     },
     "execution_count": 25,
     "metadata": {},
     "output_type": "execute_result"
    }
   ],
   "source": [
    "list1 = list1+book\n",
    "list1"
   ]
  },
  {
   "cell_type": "code",
   "execution_count": 30,
   "id": "82b70f35",
   "metadata": {},
   "outputs": [
    {
     "name": "stdout",
     "output_type": "stream",
     "text": [
      "['Omane', 'Dimme', 'Master', 'VTV', 'KGF', 'Manadu', 'Math', 'Sci', 'Tam', 'Geo', 'Geo', 'Geo']\n"
     ]
    }
   ],
   "source": [
    "list1.append('Geo')\n",
    "print(list1)"
   ]
  },
  {
   "cell_type": "code",
   "execution_count": 31,
   "id": "b01e7194",
   "metadata": {},
   "outputs": [
    {
     "data": {
      "text/plain": [
       "68"
      ]
     },
     "execution_count": 31,
     "metadata": {},
     "output_type": "execute_result"
    }
   ],
   "source": [
    "a = 20-10+3+15-5+45\n",
    "a"
   ]
  },
  {
   "cell_type": "code",
   "execution_count": 33,
   "id": "685ee8be",
   "metadata": {},
   "outputs": [
    {
     "name": "stdout",
     "output_type": "stream",
     "text": [
      "Enter your nameKartik\n",
      "Enter your namePanner\n",
      "Hi There, Kartik Panner\n"
     ]
    }
   ],
   "source": [
    "f_name = input('Enter your name')\n",
    "l_name = input('Enter your name')\n",
    "greeting = ('Hi There, %s %s')\n",
    "print(greeting %(f_name,l_name))"
   ]
  },
  {
   "cell_type": "code",
   "execution_count": 34,
   "id": "ca9896f2",
   "metadata": {},
   "outputs": [
    {
     "name": "stdout",
     "output_type": "stream",
     "text": [
      "Hi Avi, today is my brthday\n"
     ]
    }
   ],
   "source": [
    "sen = 'Hi %s, today is my brthday'\n",
    "print(sen%('Avi'))"
   ]
  },
  {
   "cell_type": "code",
   "execution_count": 35,
   "id": "65f2fabc",
   "metadata": {},
   "outputs": [
    {
     "name": "stdout",
     "output_type": "stream",
     "text": [
      "Hi avi, today is my brthday\n",
      "Hi sat, today is my brthday\n",
      "Hi dee, today is my brthday\n",
      "Hi Har, today is my brthday\n"
     ]
    }
   ],
   "source": [
    "arr = 'avi','sat','dee','Har'\n",
    "for i in arr:\n",
    "    print(sen%i)"
   ]
  },
  {
   "cell_type": "code",
   "execution_count": 3,
   "id": "b7155572",
   "metadata": {},
   "outputs": [
    {
     "name": "stdout",
     "output_type": "stream",
     "text": [
      "Enter your age: 37\n",
      "0\n",
      "2\n",
      "4\n",
      "6\n",
      "8\n",
      "10\n",
      "12\n",
      "14\n",
      "16\n",
      "18\n",
      "20\n",
      "22\n",
      "24\n",
      "26\n",
      "28\n",
      "30\n",
      "32\n",
      "34\n",
      "36\n"
     ]
    }
   ],
   "source": [
    "Age = int(input('Enter your age: '))\n",
    "num1 = list(range(0,Age))\n",
    "\n",
    "for i in num1:\n",
    "    if i%2==0:\n",
    "        print(i)\n"
   ]
  },
  {
   "cell_type": "code",
   "execution_count": 22,
   "id": "47e9711c",
   "metadata": {},
   "outputs": [
    {
     "name": "stdout",
     "output_type": "stream",
     "text": [
      "What day it is: Wednesday\n",
      "Today it will rain\n"
     ]
    }
   ],
   "source": [
    "day = input('What day it is: ')\n",
    "if day == 'Monday' or day == \"Tuesday\":\n",
    "    print('Today is Sunny')\n",
    "else:\n",
    "    print('Today it will rain')"
   ]
  },
  {
   "cell_type": "code",
   "execution_count": 31,
   "id": "83870ff4",
   "metadata": {},
   "outputs": [
    {
     "name": "stdout",
     "output_type": "stream",
     "text": [
      "Enter your weight : 20\n",
      "Your weight on Moon for the year  2011 3.50\n",
      "Your weight on Moon for the year  2012 3.67\n",
      "Your weight on Moon for the year  2013 3.83\n",
      "Your weight on Moon for the year  2014 4.00\n",
      "Your weight on Moon for the year  2015 4.17\n",
      "Your weight on Moon for the year  2016 4.33\n",
      "Your weight on Moon for the year  2017 4.50\n",
      "Your weight on Moon for the year  2018 4.67\n",
      "Your weight on Moon for the year  2019 4.83\n",
      "Your weight on Moon for the year  2020 5.00\n",
      "Your weight on Moon for the year  2021 5.17\n",
      "Your weight on Moon for the year  2022 5.33\n"
     ]
    }
   ],
   "source": [
    "earth_weight = int(input('Enter your weight : '))\n",
    "year = 2010\n",
    "while year < 2022:\n",
    "    earth_weight = earth_weight+1\n",
    "    moon_weight = earth_weight / 6\n",
    "    year = year +1\n",
    "    print('Your weight on Moon for the year ',year,\"{:.2f}\".format(moon_weight))"
   ]
  },
  {
   "cell_type": "code",
   "execution_count": null,
   "id": "2802ac99",
   "metadata": {},
   "outputs": [],
   "source": []
  },
  {
   "cell_type": "code",
   "execution_count": 33,
   "id": "c2c62637",
   "metadata": {},
   "outputs": [
    {
     "name": "stdout",
     "output_type": "stream",
     "text": [
      "10.0\n",
      "10.166666666666666\n",
      "10.333333333333334\n",
      "10.5\n",
      "10.666666666666666\n",
      "10.833333333333334\n",
      "11.0\n",
      "11.166666666666666\n",
      "11.333333333333334\n",
      "11.5\n",
      "11.666666666666666\n"
     ]
    }
   ],
   "source": [
    "weight = 60.0\n",
    "for i in range(0,11):\n",
    "    moonweight = weight / 6\n",
    "    print(moonweight)\n",
    "\n",
    "    weight = weight + 1"
   ]
  },
  {
   "cell_type": "code",
   "execution_count": null,
   "id": "a392decc",
   "metadata": {},
   "outputs": [],
   "source": []
  },
  {
   "cell_type": "code",
   "execution_count": 36,
   "id": "95eb31ee",
   "metadata": {},
   "outputs": [],
   "source": [
    "def addnum(a,b):\n",
    "    return(a+b)"
   ]
  },
  {
   "cell_type": "code",
   "execution_count": 37,
   "id": "5168a09c",
   "metadata": {},
   "outputs": [
    {
     "data": {
      "text/plain": [
       "11"
      ]
     },
     "execution_count": 37,
     "metadata": {},
     "output_type": "execute_result"
    }
   ],
   "source": [
    "addnum(5,6)"
   ]
  },
  {
   "cell_type": "code",
   "execution_count": 2,
   "id": "44a6f503",
   "metadata": {},
   "outputs": [],
   "source": [
    "import pandas as pd\n",
    "import numpy as np\n",
    "import matplotlib.pyplot as plt\n",
    "%matplotlib inline"
   ]
  },
  {
   "cell_type": "code",
   "execution_count": 7,
   "id": "8494596d",
   "metadata": {},
   "outputs": [],
   "source": [
    "df = pd.read_csv(r'C:\\Users\\karthikp\\Downloads\\Inceptors\\Preprocessing files\\Cellphone.csv')"
   ]
  },
  {
   "cell_type": "code",
   "execution_count": 9,
   "id": "961a746c",
   "metadata": {},
   "outputs": [
    {
     "data": {
      "text/html": [
       "<div>\n",
       "<style scoped>\n",
       "    .dataframe tbody tr th:only-of-type {\n",
       "        vertical-align: middle;\n",
       "    }\n",
       "\n",
       "    .dataframe tbody tr th {\n",
       "        vertical-align: top;\n",
       "    }\n",
       "\n",
       "    .dataframe thead th {\n",
       "        text-align: right;\n",
       "    }\n",
       "</style>\n",
       "<table border=\"1\" class=\"dataframe\">\n",
       "  <thead>\n",
       "    <tr style=\"text-align: right;\">\n",
       "      <th></th>\n",
       "      <th>battery_power</th>\n",
       "      <th>blue</th>\n",
       "      <th>clock_speed</th>\n",
       "      <th>dual_sim</th>\n",
       "      <th>fc</th>\n",
       "      <th>four_g</th>\n",
       "      <th>int_memory</th>\n",
       "      <th>m_dep</th>\n",
       "      <th>mobile_wt</th>\n",
       "      <th>n_cores</th>\n",
       "      <th>...</th>\n",
       "      <th>px_height</th>\n",
       "      <th>px_width</th>\n",
       "      <th>ram</th>\n",
       "      <th>sc_h</th>\n",
       "      <th>sc_w</th>\n",
       "      <th>talk_time</th>\n",
       "      <th>three_g</th>\n",
       "      <th>touch_screen</th>\n",
       "      <th>wifi</th>\n",
       "      <th>price_range</th>\n",
       "    </tr>\n",
       "  </thead>\n",
       "  <tbody>\n",
       "    <tr>\n",
       "      <th>0</th>\n",
       "      <td>842</td>\n",
       "      <td>0</td>\n",
       "      <td>2.2</td>\n",
       "      <td>0</td>\n",
       "      <td>1</td>\n",
       "      <td>0</td>\n",
       "      <td>7</td>\n",
       "      <td>0.6</td>\n",
       "      <td>188</td>\n",
       "      <td>2</td>\n",
       "      <td>...</td>\n",
       "      <td>20</td>\n",
       "      <td>756</td>\n",
       "      <td>2549</td>\n",
       "      <td>9</td>\n",
       "      <td>7</td>\n",
       "      <td>19</td>\n",
       "      <td>0</td>\n",
       "      <td>0</td>\n",
       "      <td>1</td>\n",
       "      <td>1</td>\n",
       "    </tr>\n",
       "    <tr>\n",
       "      <th>1</th>\n",
       "      <td>1021</td>\n",
       "      <td>1</td>\n",
       "      <td>0.5</td>\n",
       "      <td>1</td>\n",
       "      <td>0</td>\n",
       "      <td>1</td>\n",
       "      <td>53</td>\n",
       "      <td>0.7</td>\n",
       "      <td>136</td>\n",
       "      <td>3</td>\n",
       "      <td>...</td>\n",
       "      <td>905</td>\n",
       "      <td>1988</td>\n",
       "      <td>2631</td>\n",
       "      <td>17</td>\n",
       "      <td>3</td>\n",
       "      <td>7</td>\n",
       "      <td>1</td>\n",
       "      <td>1</td>\n",
       "      <td>0</td>\n",
       "      <td>2</td>\n",
       "    </tr>\n",
       "    <tr>\n",
       "      <th>2</th>\n",
       "      <td>563</td>\n",
       "      <td>1</td>\n",
       "      <td>0.5</td>\n",
       "      <td>1</td>\n",
       "      <td>2</td>\n",
       "      <td>1</td>\n",
       "      <td>41</td>\n",
       "      <td>0.9</td>\n",
       "      <td>145</td>\n",
       "      <td>5</td>\n",
       "      <td>...</td>\n",
       "      <td>1263</td>\n",
       "      <td>1716</td>\n",
       "      <td>2603</td>\n",
       "      <td>11</td>\n",
       "      <td>2</td>\n",
       "      <td>9</td>\n",
       "      <td>1</td>\n",
       "      <td>1</td>\n",
       "      <td>0</td>\n",
       "      <td>2</td>\n",
       "    </tr>\n",
       "    <tr>\n",
       "      <th>3</th>\n",
       "      <td>615</td>\n",
       "      <td>1</td>\n",
       "      <td>2.5</td>\n",
       "      <td>0</td>\n",
       "      <td>0</td>\n",
       "      <td>0</td>\n",
       "      <td>10</td>\n",
       "      <td>0.8</td>\n",
       "      <td>131</td>\n",
       "      <td>6</td>\n",
       "      <td>...</td>\n",
       "      <td>1216</td>\n",
       "      <td>1786</td>\n",
       "      <td>2769</td>\n",
       "      <td>16</td>\n",
       "      <td>8</td>\n",
       "      <td>11</td>\n",
       "      <td>1</td>\n",
       "      <td>0</td>\n",
       "      <td>0</td>\n",
       "      <td>2</td>\n",
       "    </tr>\n",
       "    <tr>\n",
       "      <th>4</th>\n",
       "      <td>1821</td>\n",
       "      <td>1</td>\n",
       "      <td>1.2</td>\n",
       "      <td>0</td>\n",
       "      <td>13</td>\n",
       "      <td>1</td>\n",
       "      <td>44</td>\n",
       "      <td>0.6</td>\n",
       "      <td>141</td>\n",
       "      <td>2</td>\n",
       "      <td>...</td>\n",
       "      <td>1208</td>\n",
       "      <td>1212</td>\n",
       "      <td>1411</td>\n",
       "      <td>8</td>\n",
       "      <td>2</td>\n",
       "      <td>15</td>\n",
       "      <td>1</td>\n",
       "      <td>1</td>\n",
       "      <td>0</td>\n",
       "      <td>1</td>\n",
       "    </tr>\n",
       "  </tbody>\n",
       "</table>\n",
       "<p>5 rows × 21 columns</p>\n",
       "</div>"
      ],
      "text/plain": [
       "   battery_power  blue  clock_speed  dual_sim  fc  four_g  int_memory  m_dep  \\\n",
       "0            842     0          2.2         0   1       0           7    0.6   \n",
       "1           1021     1          0.5         1   0       1          53    0.7   \n",
       "2            563     1          0.5         1   2       1          41    0.9   \n",
       "3            615     1          2.5         0   0       0          10    0.8   \n",
       "4           1821     1          1.2         0  13       1          44    0.6   \n",
       "\n",
       "   mobile_wt  n_cores  ...  px_height  px_width   ram  sc_h  sc_w  talk_time  \\\n",
       "0        188        2  ...         20       756  2549     9     7         19   \n",
       "1        136        3  ...        905      1988  2631    17     3          7   \n",
       "2        145        5  ...       1263      1716  2603    11     2          9   \n",
       "3        131        6  ...       1216      1786  2769    16     8         11   \n",
       "4        141        2  ...       1208      1212  1411     8     2         15   \n",
       "\n",
       "   three_g  touch_screen  wifi  price_range  \n",
       "0        0             0     1            1  \n",
       "1        1             1     0            2  \n",
       "2        1             1     0            2  \n",
       "3        1             0     0            2  \n",
       "4        1             1     0            1  \n",
       "\n",
       "[5 rows x 21 columns]"
      ]
     },
     "execution_count": 9,
     "metadata": {},
     "output_type": "execute_result"
    }
   ],
   "source": [
    "df.head()"
   ]
  },
  {
   "cell_type": "code",
   "execution_count": 10,
   "id": "2134545a",
   "metadata": {},
   "outputs": [
    {
     "data": {
      "text/plain": [
       "battery_power    0\n",
       "blue             0\n",
       "clock_speed      0\n",
       "dual_sim         0\n",
       "fc               0\n",
       "four_g           0\n",
       "int_memory       0\n",
       "m_dep            0\n",
       "mobile_wt        0\n",
       "n_cores          0\n",
       "pc               0\n",
       "px_height        0\n",
       "px_width         0\n",
       "ram              0\n",
       "sc_h             0\n",
       "sc_w             0\n",
       "talk_time        0\n",
       "three_g          0\n",
       "touch_screen     0\n",
       "wifi             0\n",
       "price_range      0\n",
       "dtype: int64"
      ]
     },
     "execution_count": 10,
     "metadata": {},
     "output_type": "execute_result"
    }
   ],
   "source": [
    "df.isnull().sum()"
   ]
  },
  {
   "cell_type": "code",
   "execution_count": 11,
   "id": "336bb004",
   "metadata": {},
   "outputs": [
    {
     "name": "stdout",
     "output_type": "stream",
     "text": [
      "<class 'pandas.core.frame.DataFrame'>\n",
      "RangeIndex: 2000 entries, 0 to 1999\n",
      "Data columns (total 21 columns):\n",
      " #   Column         Non-Null Count  Dtype  \n",
      "---  ------         --------------  -----  \n",
      " 0   battery_power  2000 non-null   int64  \n",
      " 1   blue           2000 non-null   int64  \n",
      " 2   clock_speed    2000 non-null   float64\n",
      " 3   dual_sim       2000 non-null   int64  \n",
      " 4   fc             2000 non-null   int64  \n",
      " 5   four_g         2000 non-null   int64  \n",
      " 6   int_memory     2000 non-null   int64  \n",
      " 7   m_dep          2000 non-null   float64\n",
      " 8   mobile_wt      2000 non-null   int64  \n",
      " 9   n_cores        2000 non-null   int64  \n",
      " 10  pc             2000 non-null   int64  \n",
      " 11  px_height      2000 non-null   int64  \n",
      " 12  px_width       2000 non-null   int64  \n",
      " 13  ram            2000 non-null   int64  \n",
      " 14  sc_h           2000 non-null   int64  \n",
      " 15  sc_w           2000 non-null   int64  \n",
      " 16  talk_time      2000 non-null   int64  \n",
      " 17  three_g        2000 non-null   int64  \n",
      " 18  touch_screen   2000 non-null   int64  \n",
      " 19  wifi           2000 non-null   int64  \n",
      " 20  price_range    2000 non-null   int64  \n",
      "dtypes: float64(2), int64(19)\n",
      "memory usage: 328.2 KB\n"
     ]
    }
   ],
   "source": [
    "df.info()"
   ]
  },
  {
   "cell_type": "code",
   "execution_count": 35,
   "id": "a8af74e5",
   "metadata": {},
   "outputs": [],
   "source": [
    "x = pd.Series([3,4,5,6,7,8,9,10])\n",
    "y = pd.Series([12,13,14,17,18,19,20,21])"
   ]
  },
  {
   "cell_type": "code",
   "execution_count": 17,
   "id": "4127e438",
   "metadata": {},
   "outputs": [],
   "source": [
    "import seaborn as sns"
   ]
  },
  {
   "cell_type": "code",
   "execution_count": 19,
   "id": "0372be9b",
   "metadata": {},
   "outputs": [
    {
     "data": {
      "text/plain": [
       "0.15082424435169045"
      ]
     },
     "execution_count": 19,
     "metadata": {},
     "output_type": "execute_result"
    }
   ],
   "source": [
    "#plt.figure(figsize=(18,9))\n",
    "corr = y.corr(x)\n",
    "corr"
   ]
  },
  {
   "cell_type": "code",
   "execution_count": 34,
   "id": "b330d771",
   "metadata": {},
   "outputs": [
    {
     "data": {
      "text/html": [
       "<div>\n",
       "<style scoped>\n",
       "    .dataframe tbody tr th:only-of-type {\n",
       "        vertical-align: middle;\n",
       "    }\n",
       "\n",
       "    .dataframe tbody tr th {\n",
       "        vertical-align: top;\n",
       "    }\n",
       "\n",
       "    .dataframe thead th {\n",
       "        text-align: right;\n",
       "    }\n",
       "</style>\n",
       "<table border=\"1\" class=\"dataframe\">\n",
       "  <thead>\n",
       "    <tr style=\"text-align: right;\">\n",
       "      <th></th>\n",
       "      <th>x</th>\n",
       "      <th>y</th>\n",
       "    </tr>\n",
       "  </thead>\n",
       "  <tbody>\n",
       "    <tr>\n",
       "      <th>0</th>\n",
       "      <td>3</td>\n",
       "      <td>12</td>\n",
       "    </tr>\n",
       "    <tr>\n",
       "      <th>1</th>\n",
       "      <td>4</td>\n",
       "      <td>13</td>\n",
       "    </tr>\n",
       "    <tr>\n",
       "      <th>2</th>\n",
       "      <td>5</td>\n",
       "      <td>14</td>\n",
       "    </tr>\n",
       "    <tr>\n",
       "      <th>3</th>\n",
       "      <td>6</td>\n",
       "      <td>17</td>\n",
       "    </tr>\n",
       "    <tr>\n",
       "      <th>4</th>\n",
       "      <td>7</td>\n",
       "      <td>18</td>\n",
       "    </tr>\n",
       "    <tr>\n",
       "      <th>5</th>\n",
       "      <td>8</td>\n",
       "      <td>19</td>\n",
       "    </tr>\n",
       "    <tr>\n",
       "      <th>6</th>\n",
       "      <td>9</td>\n",
       "      <td>20</td>\n",
       "    </tr>\n",
       "    <tr>\n",
       "      <th>7</th>\n",
       "      <td>10</td>\n",
       "      <td>21</td>\n",
       "    </tr>\n",
       "  </tbody>\n",
       "</table>\n",
       "</div>"
      ],
      "text/plain": [
       "    x   y\n",
       "0   3  12\n",
       "1   4  13\n",
       "2   5  14\n",
       "3   6  17\n",
       "4   7  18\n",
       "5   8  19\n",
       "6   9  20\n",
       "7  10  21"
      ]
     },
     "execution_count": 34,
     "metadata": {},
     "output_type": "execute_result"
    }
   ],
   "source": [
    "dftest = {'x':[3,4,5,6,7,8,9,10], 'y':[12,13,14,17,18,19,20,21]}\n",
    "dftest1 = pd.DataFrame(dftest)\n",
    "dftest1"
   ]
  },
  {
   "cell_type": "code",
   "execution_count": 36,
   "id": "a491925e",
   "metadata": {},
   "outputs": [
    {
     "data": {
      "text/plain": [
       "<matplotlib.collections.PathCollection at 0x19dafd8eb50>"
      ]
     },
     "execution_count": 36,
     "metadata": {},
     "output_type": "execute_result"
    },
    {
     "data": {
      "image/png": "[encoded data removed]",
      "text/plain": [
       "<Figure size 432x288 with 1 Axes>"
      ]
     },
     "metadata": {
      "needs_background": "light"
     },
     "output_type": "display_data"
    }
   ],
   "source": [
    "plt.scatter(x,y)"
   ]
  },
  {
   "cell_type": "code",
   "execution_count": 1,
   "id": "34f07f4d",
   "metadata": {},
   "outputs": [
    {
     "data": {
      "text/plain": [
       "['__add__',\n",
       " '__class__',\n",
       " '__class_getitem__',\n",
       " '__contains__',\n",
       " '__delattr__',\n",
       " '__delitem__',\n",
       " '__dir__',\n",
       " '__doc__',\n",
       " '__eq__',\n",
       " '__format__',\n",
       " '__ge__',\n",
       " '__getattribute__',\n",
       " '__getitem__',\n",
       " '__gt__',\n",
       " '__hash__',\n",
       " '__iadd__',\n",
       " '__imul__',\n",
       " '__init__',\n",
       " '__init_subclass__',\n",
       " '__iter__',\n",
       " '__le__',\n",
       " '__len__',\n",
       " '__lt__',\n",
       " '__mul__',\n",
       " '__ne__',\n",
       " '__new__',\n",
       " '__reduce__',\n",
       " '__reduce_ex__',\n",
       " '__repr__',\n",
       " '__reversed__',\n",
       " '__rmul__',\n",
       " '__setattr__',\n",
       " '__setitem__',\n",
       " '__sizeof__',\n",
       " '__str__',\n",
       " '__subclasshook__',\n",
       " 'append',\n",
       " 'clear',\n",
       " 'copy',\n",
       " 'count',\n",
       " 'extend',\n",
       " 'index',\n",
       " 'insert',\n",
       " 'pop',\n",
       " 'remove',\n",
       " 'reverse',\n",
       " 'sort']"
      ]
     },
     "execution_count": 1,
     "metadata": {},
     "output_type": "execute_result"
    }
   ],
   "source": [
    "dir (['Kartik'])"
   ]
  },
  {
   "cell_type": "code",
   "execution_count": 2,
   "id": "3af575b5",
   "metadata": {},
   "outputs": [
    {
     "data": {
      "text/plain": [
       "['__add__',\n",
       " '__class__',\n",
       " '__contains__',\n",
       " '__delattr__',\n",
       " '__dir__',\n",
       " '__doc__',\n",
       " '__eq__',\n",
       " '__format__',\n",
       " '__ge__',\n",
       " '__getattribute__',\n",
       " '__getitem__',\n",
       " '__getnewargs__',\n",
       " '__gt__',\n",
       " '__hash__',\n",
       " '__init__',\n",
       " '__init_subclass__',\n",
       " '__iter__',\n",
       " '__le__',\n",
       " '__len__',\n",
       " '__lt__',\n",
       " '__mod__',\n",
       " '__mul__',\n",
       " '__ne__',\n",
       " '__new__',\n",
       " '__reduce__',\n",
       " '__reduce_ex__',\n",
       " '__repr__',\n",
       " '__rmod__',\n",
       " '__rmul__',\n",
       " '__setattr__',\n",
       " '__sizeof__',\n",
       " '__str__',\n",
       " '__subclasshook__',\n",
       " 'capitalize',\n",
       " 'casefold',\n",
       " 'center',\n",
       " 'count',\n",
       " 'encode',\n",
       " 'endswith',\n",
       " 'expandtabs',\n",
       " 'find',\n",
       " 'format',\n",
       " 'format_map',\n",
       " 'index',\n",
       " 'isalnum',\n",
       " 'isalpha',\n",
       " 'isascii',\n",
       " 'isdecimal',\n",
       " 'isdigit',\n",
       " 'isidentifier',\n",
       " 'islower',\n",
       " 'isnumeric',\n",
       " 'isprintable',\n",
       " 'isspace',\n",
       " 'istitle',\n",
       " 'isupper',\n",
       " 'join',\n",
       " 'ljust',\n",
       " 'lower',\n",
       " 'lstrip',\n",
       " 'maketrans',\n",
       " 'partition',\n",
       " 'removeprefix',\n",
       " 'removesuffix',\n",
       " 'replace',\n",
       " 'rfind',\n",
       " 'rindex',\n",
       " 'rjust',\n",
       " 'rpartition',\n",
       " 'rsplit',\n",
       " 'rstrip',\n",
       " 'split',\n",
       " 'splitlines',\n",
       " 'startswith',\n",
       " 'strip',\n",
       " 'swapcase',\n",
       " 'title',\n",
       " 'translate',\n",
       " 'upper',\n",
       " 'zfill']"
      ]
     },
     "execution_count": 2,
     "metadata": {},
     "output_type": "execute_result"
    }
   ],
   "source": [
    "var1 = 'String'\n",
    "dir (var1)"
   ]
  },
  {
   "cell_type": "code",
   "execution_count": 3,
   "id": "32f086eb",
   "metadata": {},
   "outputs": [
    {
     "name": "stdout",
     "output_type": "stream",
     "text": [
      "Help on built-in function upper:\n",
      "\n",
      "upper() method of builtins.str instance\n",
      "    Return a copy of the string converted to uppercase.\n",
      "\n"
     ]
    }
   ],
   "source": [
    "help (var1.upper)"
   ]
  },
  {
   "cell_type": "code",
   "execution_count": 6,
   "id": "0267c2b1",
   "metadata": {},
   "outputs": [
    {
     "name": "stdout",
     "output_type": "stream",
     "text": [
      "STRING\n"
     ]
    }
   ],
   "source": [
    "var2 = var1.upper()\n",
    "print(var2)"
   ]
  },
  {
   "cell_type": "code",
   "execution_count": 7,
   "id": "f8874cb1",
   "metadata": {},
   "outputs": [
    {
     "data": {
      "text/plain": [
       "'string'"
      ]
     },
     "execution_count": 7,
     "metadata": {},
     "output_type": "execute_result"
    }
   ],
   "source": [
    "var2.lower()"
   ]
  },
  {
   "cell_type": "code",
   "execution_count": 8,
   "id": "854a829b",
   "metadata": {},
   "outputs": [
    {
     "data": {
      "text/plain": [
       "115"
      ]
     },
     "execution_count": 8,
     "metadata": {},
     "output_type": "execute_result"
    }
   ],
   "source": [
    "23*5"
   ]
  },
  {
   "cell_type": "code",
   "execution_count": 15,
   "id": "c58147fe",
   "metadata": {},
   "outputs": [],
   "source": [
    "class Students:\n",
    "    def __init__ (self, name, age, grade):\n",
    "        self.name = name\n",
    "        self.age = age\n",
    "        self.grade = grade"
   ]
  },
  {
   "cell_type": "code",
   "execution_count": 17,
   "id": "9e33ac90",
   "metadata": {},
   "outputs": [
    {
     "data": {
      "text/plain": [
       "35"
      ]
     },
     "execution_count": 17,
     "metadata": {},
     "output_type": "execute_result"
    }
   ],
   "source": [
    "student1 = Students('Kartik',35,'Python')\n",
    "student1.age"
   ]
  },
  {
   "cell_type": "code",
   "execution_count": 52,
   "id": "dc91c2ed",
   "metadata": {},
   "outputs": [
    {
     "ename": "SyntaxError",
     "evalue": "unexpected character after line continuation character (Temp/ipykernel_14212/2491550308.py, line 7)",
     "output_type": "error",
     "traceback": [
      "\u001b[1;36m  File \u001b[1;32m\"C:\\Users\\karthikp\\AppData\\Local\\Temp/ipykernel_14212/2491550308.py\"\u001b[1;36m, line \u001b[1;32m7\u001b[0m\n\u001b[1;33m    return ('Name of the member : '\\n+ bpg.name +  'Age' : '+str(bpg.age)+', Shift : '+bpg.shift)\u001b[0m\n\u001b[1;37m                                                                                                ^\u001b[0m\n\u001b[1;31mSyntaxError\u001b[0m\u001b[1;31m:\u001b[0m unexpected character after line continuation character\n"
     ]
    }
   ],
   "source": [
    "class Team1:\n",
    "    def __init__ (bpg, name, age, shift):\n",
    "        bpg.name = name\n",
    "        bpg.age = age\n",
    "        bpg.shift = shift\n",
    "    def displayMem(bpg):\n",
    "        return ('Name of the member : '\\n+ bpg.name +  'Age' : '+str(bpg.age)+', Shift : '+bpg.shift)"
   ]
  },
  {
   "cell_type": "code",
   "execution_count": 53,
   "id": "06f478f9",
   "metadata": {},
   "outputs": [
    {
     "data": {
      "text/plain": [
       "('Name of the member : Kartik\\n', ', Age : 35, Shift : Day')"
      ]
     },
     "execution_count": 53,
     "metadata": {},
     "output_type": "execute_result"
    }
   ],
   "source": [
    "mem1 = Team1(\"Kartik\",35,'Day')\n",
    "mem1.displayMem()"
   ]
  },
  {
   "cell_type": "code",
   "execution_count": 58,
   "id": "50b41cf2",
   "metadata": {},
   "outputs": [],
   "source": [
    "class fruits:\n",
    "    def __init__ (fruit, name, color, juicy):\n",
    "        fruit.name = name\n",
    "        fruit.color = color\n",
    "        fruit.juicy = juicy\n",
    "    def displayFruit(fruit):\n",
    "        return ('Name of the fruit: '+fruit.name+', Color :'+fruit.color+', Juicy'+fruit.juicy)"
   ]
  },
  {
   "cell_type": "code",
   "execution_count": 71,
   "id": "c9fddb92",
   "metadata": {},
   "outputs": [
    {
     "data": {
      "text/plain": [
       "'Name of the fruit: Apple, Color :Red, JuicyNo'"
      ]
     },
     "execution_count": 71,
     "metadata": {},
     "output_type": "execute_result"
    }
   ],
   "source": [
    "fruit1 = fruits('Apple','Red','No')\n",
    "fruit1.displayFruit()"
   ]
  },
  {
   "cell_type": "code",
   "execution_count": 72,
   "id": "636cefe6",
   "metadata": {},
   "outputs": [
    {
     "data": {
      "text/plain": [
       "True"
      ]
     },
     "execution_count": 72,
     "metadata": {},
     "output_type": "execute_result"
    }
   ],
   "source": [
    "hasattr (fruit1, \"name\")"
   ]
  },
  {
   "cell_type": "code",
   "execution_count": 73,
   "id": "a056d849",
   "metadata": {},
   "outputs": [
    {
     "data": {
      "text/plain": [
       "True"
      ]
     },
     "execution_count": 73,
     "metadata": {},
     "output_type": "execute_result"
    }
   ],
   "source": [
    "hasattr (fruit1, 'color')"
   ]
  },
  {
   "cell_type": "code",
   "execution_count": 74,
   "id": "4eab0d87",
   "metadata": {},
   "outputs": [],
   "source": [
    "setattr (fruit1,'size','5 cm')"
   ]
  },
  {
   "cell_type": "code",
   "execution_count": 75,
   "id": "46e17f5a",
   "metadata": {},
   "outputs": [
    {
     "data": {
      "text/plain": [
       "'5 cm'"
      ]
     },
     "execution_count": 75,
     "metadata": {},
     "output_type": "execute_result"
    }
   ],
   "source": [
    "fruit1.size"
   ]
  },
  {
   "cell_type": "code",
   "execution_count": 78,
   "id": "be413971",
   "metadata": {},
   "outputs": [
    {
     "data": {
      "text/plain": [
       "'Pome'"
      ]
     },
     "execution_count": 78,
     "metadata": {},
     "output_type": "execute_result"
    }
   ],
   "source": [
    "fruit2 = fruits('Pome','Red','Yes')\n",
    "fruit2.name"
   ]
  },
  {
   "cell_type": "code",
   "execution_count": 80,
   "id": "3b9d0c7c",
   "metadata": {},
   "outputs": [
    {
     "data": {
      "text/plain": [
       "False"
      ]
     },
     "execution_count": 80,
     "metadata": {},
     "output_type": "execute_result"
    }
   ],
   "source": [
    "hasattr (fruit2,'size')"
   ]
  },
  {
   "cell_type": "code",
   "execution_count": 81,
   "id": "7d48927f",
   "metadata": {},
   "outputs": [],
   "source": [
    "setattr (fruit2,'size','4 cm')"
   ]
  },
  {
   "cell_type": "code",
   "execution_count": 82,
   "id": "c7b3ecac",
   "metadata": {},
   "outputs": [
    {
     "data": {
      "text/plain": [
       "'4 cm'"
      ]
     },
     "execution_count": 82,
     "metadata": {},
     "output_type": "execute_result"
    }
   ],
   "source": [
    "fruit2.size"
   ]
  },
  {
   "cell_type": "code",
   "execution_count": 83,
   "id": "3982fc83",
   "metadata": {},
   "outputs": [
    {
     "data": {
      "text/plain": [
       "'Name of the fruit: Pome, Color :Red, JuicyYes'"
      ]
     },
     "execution_count": 83,
     "metadata": {},
     "output_type": "execute_result"
    }
   ],
   "source": [
    "fruit2.displayFruit()"
   ]
  },
  {
   "cell_type": "code",
   "execution_count": 84,
   "id": "7831e529",
   "metadata": {},
   "outputs": [],
   "source": [
    "class Parent:\n",
    "    def __init__ (self):\n",
    "        print('This is Parent module')\n",
    "    def ParentFunc(self):\n",
    "        print('This is ParenFunc')"
   ]
  },
  {
   "cell_type": "code",
   "execution_count": 102,
   "id": "2c9aa3a8",
   "metadata": {},
   "outputs": [],
   "source": [
    "class child(Parent):\n",
    "    def __init__ (self):\n",
    "        print('This is a child module')\n",
    "    def ChildFunc(self):\n",
    "        print('This is ChildFunc')"
   ]
  },
  {
   "cell_type": "code",
   "execution_count": 103,
   "id": "23f6a290",
   "metadata": {},
   "outputs": [
    {
     "name": "stdout",
     "output_type": "stream",
     "text": [
      "This is a child module\n"
     ]
    }
   ],
   "source": [
    "c=child()"
   ]
  },
  {
   "cell_type": "code",
   "execution_count": 104,
   "id": "cfa6f4b9",
   "metadata": {},
   "outputs": [
    {
     "name": "stdout",
     "output_type": "stream",
     "text": [
      "This is ChildFunc\n"
     ]
    }
   ],
   "source": [
    "c.ChildFunc()"
   ]
  },
  {
   "cell_type": "code",
   "execution_count": 107,
   "id": "cb9cad81",
   "metadata": {},
   "outputs": [
    {
     "ename": "AttributeError",
     "evalue": "'child' object has no attribute 'ParentFunc'",
     "output_type": "error",
     "traceback": [
      "\u001b[1;31m---------------------------------------------------------------------------\u001b[0m",
      "\u001b[1;31mAttributeError\u001b[0m                            Traceback (most recent call last)",
      "\u001b[1;32m~\\AppData\\Local\\Temp/ipykernel_14212/13783084.py\u001b[0m in \u001b[0;36m<module>\u001b[1;34m\u001b[0m\n\u001b[1;32m----> 1\u001b[1;33m \u001b[0mc\u001b[0m\u001b[1;33m.\u001b[0m\u001b[0mParentFunc\u001b[0m\u001b[1;33m(\u001b[0m\u001b[1;33m)\u001b[0m\u001b[1;33m\u001b[0m\u001b[1;33m\u001b[0m\u001b[0m\n\u001b[0m",
      "\u001b[1;31mAttributeError\u001b[0m: 'child' object has no attribute 'ParentFunc'"
     ]
    }
   ],
   "source": [
    "c.ParentFunc()"
   ]
  },
  {
   "cell_type": "code",
   "execution_count": 7,
   "id": "b7e20fee",
   "metadata": {},
   "outputs": [],
   "source": [
    "class parent:\n",
    "    counter = 10\n",
    "    def __init__ (self):\n",
    "        print('Class Initialization')\n",
    "    def parentFunc (Self):\n",
    "        print('Parentfunc being called')\n",
    "    def setcouter(self,num):\n",
    "        parent.counter = num\n",
    "    def showcounter(self):\n",
    "        print(parent.counter)"
   ]
  },
  {
   "cell_type": "code",
   "execution_count": 8,
   "id": "d3db5ef8",
   "metadata": {},
   "outputs": [],
   "source": [
    "class child(parent):\n",
    "    def __init__ (self):\n",
    "        print ('Child class initiated')\n",
    "    def childfunc(self):\n",
    "        print ('Child Func called')"
   ]
  },
  {
   "cell_type": "code",
   "execution_count": 11,
   "id": "171de507",
   "metadata": {},
   "outputs": [
    {
     "name": "stdout",
     "output_type": "stream",
     "text": [
      "Child class initiated\n"
     ]
    }
   ],
   "source": [
    "c=child()"
   ]
  },
  {
   "cell_type": "code",
   "execution_count": 14,
   "id": "ffb888ae",
   "metadata": {},
   "outputs": [
    {
     "name": "stdout",
     "output_type": "stream",
     "text": [
      "Child Func called\n"
     ]
    }
   ],
   "source": [
    "c.childfunc()"
   ]
  },
  {
   "cell_type": "code",
   "execution_count": 15,
   "id": "3416404e",
   "metadata": {},
   "outputs": [
    {
     "name": "stdout",
     "output_type": "stream",
     "text": [
      "Parentfunc being called\n"
     ]
    }
   ],
   "source": [
    "c.parentFunc()"
   ]
  },
  {
   "cell_type": "code",
   "execution_count": 18,
   "id": "b3167d01",
   "metadata": {},
   "outputs": [
    {
     "name": "stdout",
     "output_type": "stream",
     "text": [
      "10\n"
     ]
    }
   ],
   "source": [
    "c.setcouter(10)\n",
    "c.showcounter()"
   ]
  },
  {
   "cell_type": "code",
   "execution_count": 19,
   "id": "0c717629",
   "metadata": {},
   "outputs": [
    {
     "name": "stdout",
     "output_type": "stream",
     "text": [
      "hello bob, your are invited\n",
      "hello job, your are invited\n",
      "hello rob, your are invited\n"
     ]
    }
   ],
   "source": [
    "sen= \"hello %s, your are invited\"\n",
    "\n",
    "arr= [\"bob\", \"job\", \"rob\"]\n",
    "\n",
    "for i in arr:\n",
    "    print(sen%(i))"
   ]
  },
  {
   "cell_type": "code",
   "execution_count": 20,
   "id": "79309a67",
   "metadata": {},
   "outputs": [],
   "source": [
    "import random"
   ]
  },
  {
   "cell_type": "code",
   "execution_count": 24,
   "id": "84257466",
   "metadata": {},
   "outputs": [
    {
     "name": "stdout",
     "output_type": "stream",
     "text": [
      "73\n",
      "99\n",
      "96\n",
      "76\n"
     ]
    }
   ],
   "source": [
    "print(random.randint(0,100))\n",
    "print(random.randint(0,100))\n",
    "print(random.randint(0,100))\n",
    "print(random.randint(0,100))"
   ]
  },
  {
   "cell_type": "code",
   "execution_count": 29,
   "id": "157b8c71",
   "metadata": {},
   "outputs": [
    {
     "name": "stdout",
     "output_type": "stream",
     "text": [
      "5\n"
     ]
    }
   ],
   "source": [
    "\n",
    "\n",
    "print(random.randint(0,10))"
   ]
  },
  {
   "cell_type": "code",
   "execution_count": null,
   "id": "8ad201a7",
   "metadata": {},
   "outputs": [],
   "source": [
    "num2 = int(random.randint(0,100))\n",
    "\n",
    "chances = 0\n",
    "while True:\n",
    "    num = int(input('Enter a number b/w 0 to 100 :'))\n",
    "    if num < 0 or num > 100:\n",
    "        print('Please enter a number between 0 to 100')\n",
    "    elif num > num2:\n",
    "        print('Guess lower')\n",
    "    elif num < num2:\n",
    "        print('Guess higher')\n",
    "    else:\n",
    "        print('Congrats, # is equal')\n",
    "        break\n",
    "print(num2)"
   ]
  },
  {
   "cell_type": "code",
   "execution_count": 65,
   "id": "d360a66a",
   "metadata": {},
   "outputs": [
    {
     "name": "stdout",
     "output_type": "stream",
     "text": [
      "77\n",
      "Input your answer :Guess high\n"
     ]
    }
   ],
   "source": [
    "comp_num = random.randint(0,100)\n",
    "print(comp_num)\n",
    "user_answer = input('Input your answer :')\n",
    "\n",
    "while False:\n",
    "    if user_answer == 'Guess low':\n",
    "        comp_num = random.randint(0,comp_num)\n",
    "    elif user_answer == 'Guess high':\n",
    "        comp_num = random.randint(comp_num,100)\n",
    "    else:\n",
    "        print('Yay, I have guessed right')\n",
    "        break\n",
    "    "
   ]
  },
  {
   "cell_type": "code",
   "execution_count": 73,
   "id": "58444e25",
   "metadata": {},
   "outputs": [
    {
     "name": "stdout",
     "output_type": "stream",
     "text": [
      "Enter 0 for guessing lower, 1 for higher, and 2 if it's correct.\n",
      "50\n",
      "0\n"
     ]
    },
    {
     "ename": "NameError",
     "evalue": "name 'userinput' is not defined",
     "output_type": "error",
     "traceback": [
      "\u001b[1;31m---------------------------------------------------------------------------\u001b[0m",
      "\u001b[1;31mNameError\u001b[0m                                 Traceback (most recent call last)",
      "\u001b[1;32m~\\AppData\\Local\\Temp/ipykernel_9476/1793933881.py\u001b[0m in \u001b[0;36m<module>\u001b[1;34m\u001b[0m\n\u001b[0;32m      9\u001b[0m \u001b[1;33m\u001b[0m\u001b[0m\n\u001b[0;32m     10\u001b[0m     \u001b[0muserInput\u001b[0m \u001b[1;33m=\u001b[0m \u001b[0minput\u001b[0m\u001b[1;33m(\u001b[0m\u001b[1;33m)\u001b[0m\u001b[1;33m\u001b[0m\u001b[1;33m\u001b[0m\u001b[0m\n\u001b[1;32m---> 11\u001b[1;33m     \u001b[1;32mif\u001b[0m \u001b[0muserinput\u001b[0m \u001b[1;33m==\u001b[0m \u001b[1;34m\"0\"\u001b[0m\u001b[1;33m:\u001b[0m\u001b[1;33m\u001b[0m\u001b[1;33m\u001b[0m\u001b[0m\n\u001b[0m\u001b[0;32m     12\u001b[0m         \u001b[0mhigherGuess\u001b[0m \u001b[1;33m=\u001b[0m \u001b[0mguess\u001b[0m\u001b[1;33m\u001b[0m\u001b[1;33m\u001b[0m\u001b[0m\n\u001b[0;32m     13\u001b[0m         \u001b[0mguess\u001b[0m \u001b[1;33m=\u001b[0m \u001b[0mround\u001b[0m\u001b[1;33m(\u001b[0m\u001b[1;33m(\u001b[0m\u001b[0mhigherGuess\u001b[0m \u001b[1;33m-\u001b[0m \u001b[0mlowerGuess\u001b[0m\u001b[1;33m)\u001b[0m\u001b[1;33m/\u001b[0m\u001b[1;36m2\u001b[0m\u001b[1;33m)\u001b[0m \u001b[1;33m+\u001b[0m \u001b[0mlowerGuess\u001b[0m\u001b[1;33m\u001b[0m\u001b[1;33m\u001b[0m\u001b[0m\n",
      "\u001b[1;31mNameError\u001b[0m: name 'userinput' is not defined"
     ]
    }
   ],
   "source": [
    "correct = False\n",
    "lowerGuess = 0\n",
    "higherGuess = 100\n",
    "guess = 50\n",
    "print(\"Enter 0 for guessing lower, 1 for higher, and 2 if it's correct.\")\n",
    "\n",
    "while correct == False:\n",
    "    print(guess)\n",
    "\n",
    "    userInput = input()\n",
    "    if userinput == \"0\":\n",
    "        higherGuess = guess\n",
    "        guess = round((higherGuess - lowerGuess)/2) + lowerGuess\n",
    "    elif userInput == \"1\":\n",
    "        lowerGuess = guess\n",
    "        guess = round((higherGuess-lowerGuess)/2) + lowerGuess\n",
    "    elif userInput == \"2\":\n",
    "        print(\"Ha! You thought of \" + str(guess))\n",
    "        correct = True\n",
    "    if ( higherGuess - lowerGuess) == 2:\n",
    "        print(\"Ha! You thought of \" + str(lowerGuess + 1))\n",
    "        correct = True"
   ]
  },
  {
   "cell_type": "code",
   "execution_count": null,
   "id": "b98b2984",
   "metadata": {},
   "outputs": [],
   "source": [
    "class random_No_guessing:\n",
    "    def __init__ (self):\n",
    "        self.lower = 1\n",
    "        self.higher = 100\n",
    "    \n",
    "    def get_random_no(self):\n",
    "        return (random.randint(self.lower, self.higher))\n",
    "    \n",
    "    def start (self):\n",
    "        random_numer = self.get_random_no()\n",
    "        print(f\"Guess the randomly generated number from {self.LOWER} to {self.HIGHER}\")\n",
    "        \n",
    "        chance = 0\n",
    "        while True:\n",
    "            user_int = int('Enter a random # : ')\n",
    "            if user_int = random_numer:\n",
    "                print('Correct')\n",
    "                break\n",
    "            \n",
    "        "
   ]
  },
  {
   "cell_type": "code",
   "execution_count": null,
   "id": "e0b2e33d",
   "metadata": {},
   "outputs": [],
   "source": []
  },
  {
   "cell_type": "code",
   "execution_count": null,
   "id": "7b17cfb0",
   "metadata": {},
   "outputs": [],
   "source": []
  },
  {
   "cell_type": "code",
   "execution_count": null,
   "id": "09824f4b",
   "metadata": {},
   "outputs": [],
   "source": []
  },
  {
   "cell_type": "code",
   "execution_count": null,
   "id": "ae2c0049",
   "metadata": {},
   "outputs": [],
   "source": []
  },
  {
   "cell_type": "code",
   "execution_count": null,
   "id": "f7acc0cf",
   "metadata": {},
   "outputs": [],
   "source": []
  },
  {
   "cell_type": "code",
   "execution_count": null,
   "id": "9f89befd",
   "metadata": {},
   "outputs": [],
   "source": []
  },
  {
   "cell_type": "code",
   "execution_count": null,
   "id": "322c09b4",
   "metadata": {},
   "outputs": [],
   "source": []
  },
  {
   "cell_type": "code",
   "execution_count": null,
   "id": "27968d86",
   "metadata": {},
   "outputs": [],
   "source": []
  },
  {
   "cell_type": "code",
   "execution_count": null,
   "id": "c305eb9e",
   "metadata": {},
   "outputs": [],
   "source": []
  },
  {
   "cell_type": "code",
   "execution_count": null,
   "id": "8845f570",
   "metadata": {},
   "outputs": [],
   "source": []
  },
  {
   "cell_type": "code",
   "execution_count": null,
   "id": "ffe944d6",
   "metadata": {},
   "outputs": [],
   "source": []
  },
  {
   "cell_type": "code",
   "execution_count": null,
   "id": "97438286",
   "metadata": {},
   "outputs": [],
   "source": []
  },
  {
   "cell_type": "code",
   "execution_count": null,
   "id": "d7845cd3",
   "metadata": {},
   "outputs": [],
   "source": []
  }
 ],
 "metadata": {
  "kernelspec": {
   "display_name": "Python 3 (ipykernel)",
   "language": "python",
   "name": "python3"
  },
  "language_info": {
   "codemirror_mode": {
    "name": "ipython",
    "version": 3
   },
   "file_extension": ".py",
   "mimetype": "text/x-python",
   "name": "python",
   "nbconvert_exporter": "python",
   "pygments_lexer": "ipython3",
   "version": "3.9.7"
  }
 },
 "nbformat": 4,
 "nbformat_minor": 5
}
